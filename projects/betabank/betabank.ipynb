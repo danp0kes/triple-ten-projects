{
 "cells": [
  {
   "cell_type": "markdown",
   "metadata": {},
   "source": [
    "# Beta Bank Customer Model\n",
    "\n",
    "## Introduction\n",
    "\n",
    "### The Problem\n",
    "\n",
    "Beta Bank customers are leaving little by little each month. The bank determined it's cheaper to save existing customers than to attract new ones. Knowing which customers will leave soon is an tool that Beta Bank would find valuable. This way they can target the right customers before they decide to leave.\n",
    "\n",
    "### Prediction Model\n",
    "\n",
    "Beta Bank hopes a sufficent prediction model can be made. It's sufficiency depends if a an F1 score of at least 0.59 is attained. The AUR-ROC metric will also be compared. Client behaviour including whether they have terminated their contract or not has been provided. A description of data follows.\n",
    "\n",
    "### Data Description\n",
    "\n",
    "#### Features\n",
    "\n",
    "`RowNumber` — data string index\n",
    "\n",
    "`CustomerId` — unique customer identifier\n",
    "\n",
    "`Surname` — surname\n",
    "\n",
    "`CreditScore` — credit score\n",
    "\n",
    "`Geography` — country of residence\n",
    "\n",
    "`Gender` — gender\n",
    "\n",
    "`Age` — age\n",
    "\n",
    "`Tenure` — period of maturation for a customer’s fixed deposit (years)\n",
    "\n",
    "`Balance` — account balance\n",
    "\n",
    "`NumOfProducts` — number of banking products used by the customer\n",
    "\n",
    "`HasCrCard` — customer has a credit card\n",
    "\n",
    "`IsActiveMember` — customer’s activeness\n",
    "\n",
    "`EstimatedSalary` — estimated salary\n",
    "\n",
    "\n",
    "#### Target\n",
    "`Exited` — сustomer has left (if 1)"
   ]
  },
  {
   "cell_type": "markdown",
   "metadata": {},
   "source": [
    "### The Process\n",
    "\n",
    "The process will follow these four steps:\n",
    "\n",
    "1. Prepare the data\n",
    "2. Examine the balance of classes\n",
    "3. Improve model quality\n",
    "4. Perform final testing"
   ]
  },
  {
   "cell_type": "markdown",
   "metadata": {},
   "source": [
    "## Read, Prepare and Pre-Process Data\n",
    "\n",
    "### To read:\n",
    "\n",
    "- Import packages \n",
    "- Save the dataframe\n",
    "\n",
    "### To prepare:\n",
    "- Check column names\n",
    "- Check data types \n",
    "- Identify missing values \n",
    "- Identify duplicates\n",
    "- Check binomial columns\n",
    "\n",
    "### To pre-process\n",
    "- Encode data based on learning algorithym types"
   ]
  },
  {
   "cell_type": "markdown",
   "metadata": {},
   "source": [
    "### Read Data"
   ]
  },
  {
   "cell_type": "code",
   "execution_count": 108,
   "metadata": {},
   "outputs": [],
   "source": [
    "# Import necessary packages\n",
    "import pandas as pd              # For data manipulation\n",
    "import numpy as np               # For numerical operations\n",
    "import re                        # For regular expressions\n",
    "import plotly.express as px      # For plotting bar charts\n",
    "import plotly.graph_objects as go# For plotting ROC curve\n",
    "import warnings                  # To ignore warnings\n",
    "from sklearn.preprocessing import LabelEncoder       # For label encoding\n",
    "from sklearn.model_selection import train_test_split# For splitting data\n",
    "from sklearn.ensemble import RandomForestClassifier # For training model with random forest\n",
    "from sklearn.linear_model import LogisticRegression # For training model with logistic regression\n",
    "from sklearn.metrics import (accuracy_score,         # For accuracy score\n",
    "                             precision_score,        # For precision score\n",
    "                             recall_score,           # For recall score\n",
    "                             f1_score,               # For F1 score\n",
    "                             roc_curve,              # For ROC curve\n",
    "                             roc_auc_score)          # For AUC score\n",
    "from sklearn.utils import shuffle  # For shuffling data\n",
    "import warnings\n",
    "\n"
   ]
  },
  {
   "cell_type": "code",
   "execution_count": 4,
   "metadata": {},
   "outputs": [],
   "source": [
    "# Enter local and server paths\n",
    "local_path = 'datasets/Churn.csv'\n",
    "server_path = 'server_path/datasets/Churn.csv'\n",
    "\n",
    "# Save dataframe to csv file\n",
    "try:\n",
    "    df = pd.read_csv(local_path)\n",
    "\n",
    "except FileNotFoundError:\n",
    "    df = pd.read_csv(server_path)"
   ]
  },
  {
   "cell_type": "markdown",
   "metadata": {},
   "source": [
    "### Prepare Data\n",
    "\n",
    "#### Column Names"
   ]
  },
  {
   "cell_type": "code",
   "execution_count": 5,
   "metadata": {},
   "outputs": [
    {
     "data": {
      "text/html": [
       "<div>\n",
       "<style scoped>\n",
       "    .dataframe tbody tr th:only-of-type {\n",
       "        vertical-align: middle;\n",
       "    }\n",
       "\n",
       "    .dataframe tbody tr th {\n",
       "        vertical-align: top;\n",
       "    }\n",
       "\n",
       "    .dataframe thead th {\n",
       "        text-align: right;\n",
       "    }\n",
       "</style>\n",
       "<table border=\"1\" class=\"dataframe\">\n",
       "  <thead>\n",
       "    <tr style=\"text-align: right;\">\n",
       "      <th></th>\n",
       "      <th>RowNumber</th>\n",
       "      <th>CustomerId</th>\n",
       "      <th>Surname</th>\n",
       "      <th>CreditScore</th>\n",
       "      <th>Geography</th>\n",
       "      <th>Gender</th>\n",
       "      <th>Age</th>\n",
       "      <th>Tenure</th>\n",
       "      <th>Balance</th>\n",
       "      <th>NumOfProducts</th>\n",
       "      <th>HasCrCard</th>\n",
       "      <th>IsActiveMember</th>\n",
       "      <th>EstimatedSalary</th>\n",
       "      <th>Exited</th>\n",
       "    </tr>\n",
       "  </thead>\n",
       "  <tbody>\n",
       "    <tr>\n",
       "      <th>0</th>\n",
       "      <td>1</td>\n",
       "      <td>15634602</td>\n",
       "      <td>Hargrave</td>\n",
       "      <td>619</td>\n",
       "      <td>France</td>\n",
       "      <td>Female</td>\n",
       "      <td>42</td>\n",
       "      <td>2.0</td>\n",
       "      <td>0.00</td>\n",
       "      <td>1</td>\n",
       "      <td>1</td>\n",
       "      <td>1</td>\n",
       "      <td>101348.88</td>\n",
       "      <td>1</td>\n",
       "    </tr>\n",
       "    <tr>\n",
       "      <th>1</th>\n",
       "      <td>2</td>\n",
       "      <td>15647311</td>\n",
       "      <td>Hill</td>\n",
       "      <td>608</td>\n",
       "      <td>Spain</td>\n",
       "      <td>Female</td>\n",
       "      <td>41</td>\n",
       "      <td>1.0</td>\n",
       "      <td>83807.86</td>\n",
       "      <td>1</td>\n",
       "      <td>0</td>\n",
       "      <td>1</td>\n",
       "      <td>112542.58</td>\n",
       "      <td>0</td>\n",
       "    </tr>\n",
       "    <tr>\n",
       "      <th>2</th>\n",
       "      <td>3</td>\n",
       "      <td>15619304</td>\n",
       "      <td>Onio</td>\n",
       "      <td>502</td>\n",
       "      <td>France</td>\n",
       "      <td>Female</td>\n",
       "      <td>42</td>\n",
       "      <td>8.0</td>\n",
       "      <td>159660.80</td>\n",
       "      <td>3</td>\n",
       "      <td>1</td>\n",
       "      <td>0</td>\n",
       "      <td>113931.57</td>\n",
       "      <td>1</td>\n",
       "    </tr>\n",
       "    <tr>\n",
       "      <th>3</th>\n",
       "      <td>4</td>\n",
       "      <td>15701354</td>\n",
       "      <td>Boni</td>\n",
       "      <td>699</td>\n",
       "      <td>France</td>\n",
       "      <td>Female</td>\n",
       "      <td>39</td>\n",
       "      <td>1.0</td>\n",
       "      <td>0.00</td>\n",
       "      <td>2</td>\n",
       "      <td>0</td>\n",
       "      <td>0</td>\n",
       "      <td>93826.63</td>\n",
       "      <td>0</td>\n",
       "    </tr>\n",
       "    <tr>\n",
       "      <th>4</th>\n",
       "      <td>5</td>\n",
       "      <td>15737888</td>\n",
       "      <td>Mitchell</td>\n",
       "      <td>850</td>\n",
       "      <td>Spain</td>\n",
       "      <td>Female</td>\n",
       "      <td>43</td>\n",
       "      <td>2.0</td>\n",
       "      <td>125510.82</td>\n",
       "      <td>1</td>\n",
       "      <td>1</td>\n",
       "      <td>1</td>\n",
       "      <td>79084.10</td>\n",
       "      <td>0</td>\n",
       "    </tr>\n",
       "  </tbody>\n",
       "</table>\n",
       "</div>"
      ],
      "text/plain": [
       "   RowNumber  CustomerId   Surname  CreditScore Geography  Gender  Age  \\\n",
       "0          1    15634602  Hargrave          619    France  Female   42   \n",
       "1          2    15647311      Hill          608     Spain  Female   41   \n",
       "2          3    15619304      Onio          502    France  Female   42   \n",
       "3          4    15701354      Boni          699    France  Female   39   \n",
       "4          5    15737888  Mitchell          850     Spain  Female   43   \n",
       "\n",
       "   Tenure    Balance  NumOfProducts  HasCrCard  IsActiveMember  \\\n",
       "0     2.0       0.00              1          1               1   \n",
       "1     1.0   83807.86              1          0               1   \n",
       "2     8.0  159660.80              3          1               0   \n",
       "3     1.0       0.00              2          0               0   \n",
       "4     2.0  125510.82              1          1               1   \n",
       "\n",
       "   EstimatedSalary  Exited  \n",
       "0        101348.88       1  \n",
       "1        112542.58       0  \n",
       "2        113931.57       1  \n",
       "3         93826.63       0  \n",
       "4         79084.10       0  "
      ]
     },
     "execution_count": 5,
     "metadata": {},
     "output_type": "execute_result"
    }
   ],
   "source": [
    "# Examine the first few rows of the dataframe and identify column names\n",
    "df.head()"
   ]
  },
  {
   "cell_type": "markdown",
   "metadata": {},
   "source": [
    "The data column names are in CamelCase. Change this to snake_case as it is easier to work with."
   ]
  },
  {
   "cell_type": "code",
   "execution_count": 6,
   "metadata": {},
   "outputs": [],
   "source": [
    "# Convert column names to snake case using regular expressions\n",
    "df.columns = [re.sub('([a-z0-9])([A-Z])', r'\\1_\\2', col).lower() for col in df.columns]"
   ]
  },
  {
   "cell_type": "markdown",
   "metadata": {},
   "source": [
    "#### Data Types"
   ]
  },
  {
   "cell_type": "code",
   "execution_count": 7,
   "metadata": {},
   "outputs": [
    {
     "name": "stdout",
     "output_type": "stream",
     "text": [
      "<class 'pandas.core.frame.DataFrame'>\n",
      "RangeIndex: 10000 entries, 0 to 9999\n",
      "Data columns (total 14 columns):\n",
      " #   Column            Non-Null Count  Dtype  \n",
      "---  ------            --------------  -----  \n",
      " 0   row_number        10000 non-null  int64  \n",
      " 1   customer_id       10000 non-null  int64  \n",
      " 2   surname           10000 non-null  object \n",
      " 3   credit_score      10000 non-null  int64  \n",
      " 4   geography         10000 non-null  object \n",
      " 5   gender            10000 non-null  object \n",
      " 6   age               10000 non-null  int64  \n",
      " 7   tenure            9091 non-null   float64\n",
      " 8   balance           10000 non-null  float64\n",
      " 9   num_of_products   10000 non-null  int64  \n",
      " 10  has_cr_card       10000 non-null  int64  \n",
      " 11  is_active_member  10000 non-null  int64  \n",
      " 12  estimated_salary  10000 non-null  float64\n",
      " 13  exited            10000 non-null  int64  \n",
      "dtypes: float64(3), int64(8), object(3)\n",
      "memory usage: 1.1+ MB\n"
     ]
    }
   ],
   "source": [
    "# Examine data types with .info()\n",
    "df.info()"
   ]
  },
  {
   "cell_type": "markdown",
   "metadata": {},
   "source": [
    "#### Missing Values\n",
    "\n",
    "The 'tenure' column contains missing values. Check its unique value percentages and make an assessment."
   ]
  },
  {
   "cell_type": "code",
   "execution_count": 8,
   "metadata": {},
   "outputs": [
    {
     "data": {
      "text/plain": [
       "tenure\n",
       "0.0     3.82\n",
       "1.0     9.52\n",
       "2.0     9.50\n",
       "3.0     9.28\n",
       "4.0     8.85\n",
       "5.0     9.27\n",
       "6.0     8.81\n",
       "7.0     9.25\n",
       "8.0     9.33\n",
       "9.0     8.82\n",
       "10.0    4.46\n",
       "NaN     9.09\n",
       "Name: proportion, dtype: float64"
      ]
     },
     "execution_count": 8,
     "metadata": {},
     "output_type": "execute_result"
    }
   ],
   "source": [
    "# Check unique values of 'tenure' column including NaN with percentage of total column, order by index\n",
    "df['tenure'].value_counts(dropna=False, normalize=True).sort_index()*100"
   ]
  },
  {
   "cell_type": "markdown",
   "metadata": {},
   "source": [
    "9% of'tenure' values are null. One assumption is that these values should be zero instead. Truly null values would indicate there is also no time until maturation. Further support for this idea is given when considering how many zero values are given. Only 3.82% are, which is much lower than all other values in the distribution. Missing values will be filled with zero."
   ]
  },
  {
   "cell_type": "code",
   "execution_count": 9,
   "metadata": {},
   "outputs": [],
   "source": [
    "# Fill null values with 0\n",
    "df = df.fillna(0)"
   ]
  },
  {
   "cell_type": "markdown",
   "metadata": {},
   "source": [
    "#### Duplicate Values\n",
    "\n",
    "Check duplicate values generally and across columns that should contain unique items. These include row_number and customer_id."
   ]
  },
  {
   "cell_type": "code",
   "execution_count": 10,
   "metadata": {},
   "outputs": [
    {
     "name": "stdout",
     "output_type": "stream",
     "text": [
      "General duplicates: 0\n",
      "Row duplicates: 0\n",
      "Customer duplicates: 0\n"
     ]
    }
   ],
   "source": [
    "# Check for duplicate rows generally\n",
    "print('General duplicates:',df.duplicated().sum())\n",
    "\n",
    "# Check for duplicates in row_number column\n",
    "print('Row duplicates:',df.duplicated(subset='row_number').sum())\n",
    "\n",
    "# Check for duplicate rows in customer_id column\n",
    "print('Customer duplicates:',df.duplicated(subset='customer_id').sum())"
   ]
  },
  {
   "cell_type": "markdown",
   "metadata": {},
   "source": [
    "As no duplicate rows are found, binomial columns can be checked.\n",
    "\n",
    "#### Binomial columns\n",
    "\n",
    "From observation, it seems that 'has_cr_card', 'is_active_member', and 'exited' columns are binomial categories. Ensure that this is the case by checking the number of unique values of these columns"
   ]
  },
  {
   "cell_type": "code",
   "execution_count": 11,
   "metadata": {},
   "outputs": [
    {
     "name": "stdout",
     "output_type": "stream",
     "text": [
      "has_cr_card         2\n",
      "is_active_member    2\n",
      "exited              2\n",
      "dtype: int64\n"
     ]
    }
   ],
   "source": [
    "# print number of unique values of df columns\n",
    "print(df[['has_cr_card','is_active_member', 'exited']].nunique())"
   ]
  },
  {
   "cell_type": "markdown",
   "metadata": {},
   "source": [
    "The suspected binomial columns correctly contain two unique values. \n",
    "\n",
    "#### Unnecessary Columns\n",
    "\n",
    "Drop customer_id, surname and row_number as they will not be needed for the model."
   ]
  },
  {
   "cell_type": "code",
   "execution_count": 12,
   "metadata": {},
   "outputs": [],
   "source": [
    "# Drop columns\n",
    "\n",
    "df = df.drop(columns = ['customer_id','surname','row_number'])"
   ]
  },
  {
   "cell_type": "markdown",
   "metadata": {},
   "source": [
    "### Pre-Process Data\n",
    "\n",
    "The gender and geography columns contain categories as a string."
   ]
  },
  {
   "cell_type": "code",
   "execution_count": 13,
   "metadata": {},
   "outputs": [
    {
     "name": "stdout",
     "output_type": "stream",
     "text": [
      "Unique gender values: ['Female', 'Male']\n",
      "Unique gender values: ['France', 'Spain', 'Germany']\n"
     ]
    }
   ],
   "source": [
    "# Print unique values for gender and geography columns\n",
    "print('Unique gender values:', list(df['gender'].unique()))\n",
    "print('Unique gender values:', list(df['geography'].unique()))"
   ]
  },
  {
   "cell_type": "markdown",
   "metadata": {},
   "source": [
    "Unfortunately, sklearn learning algorithyms modules cannot comprehend string values. These values will need to be encoded so that the model may work with the data. The way they will be encoded will depend on the selected learning modules. These will be random forests and logistic regression.\n",
    "\n",
    "#### Gender\n",
    "\n",
    "As only two categories, 'Female' and 'Male', are given, either label encoding or one-hot encoding (OHE) may be used. This is because they will infer the same results which is ideal for both random trees and logistic regression algorithyms. \n",
    "\n",
    "For simplicity, OHE encoding will be used on gender data along with geography data in the next section. OHE encoding assigns values based on alphabetical order and drops the first column. Thus, the gender_male column will refer to:\n",
    "\n",
    "`female` as 0\n",
    "\n",
    "`male` as 1"
   ]
  },
  {
   "cell_type": "markdown",
   "metadata": {},
   "source": [
    "#### Geography\n",
    "\n",
    "Unlike gender, the geography column has three values. This means encoding will differ for the two models. \n",
    "\n",
    "##### Random Forest: Label Encoder\n",
    "\n",
    "For models that use trees such as random forest, the label encoder will be used as it was above. The geography_label column will refer to:\n",
    "\n",
    "`France` as 0\n",
    "\n",
    "`Germany` as 1\n",
    "\n",
    "`Spain` as 2"
   ]
  },
  {
   "cell_type": "code",
   "execution_count": 14,
   "metadata": {},
   "outputs": [],
   "source": [
    "# Save LabelEncoder as encoder\n",
    "encoder = LabelEncoder()\n",
    "\n",
    "# Label encode geography for random forest models\n",
    "df['geography_label'] = encoder.fit_transform(df['geography'])"
   ]
  },
  {
   "cell_type": "markdown",
   "metadata": {},
   "source": [
    "##### Logistic Regression: One-Hot Encoding\n",
    "\n",
    "One-hot encoding (OHE) is a better use for the logistic regression model."
   ]
  },
  {
   "cell_type": "code",
   "execution_count": 15,
   "metadata": {},
   "outputs": [],
   "source": [
    "# Make geography and gender columns lowercase to keep column names lowercase\n",
    "df['geography'] = df['geography'].str.lower()\n",
    "\n",
    "# Make gender column lowercase \n",
    "df['gender'] = df['gender'].str.lower()\n",
    "\n",
    "# One-hot encode geography and gender for logistic regression models\n",
    "df = pd.get_dummies(df, columns=['geography','gender'], drop_first=True)"
   ]
  },
  {
   "cell_type": "markdown",
   "metadata": {},
   "source": [
    "## Balance of Classes\n",
    "Check the balance of classes. Train the model without improvements to this balance. Note the findings.\n",
    "\n",
    "### Check Balance\n",
    "\n",
    "Check balance by examining the value counts of the target. Create a model that constantly predicts the more popular choice. Compare the two values."
   ]
  },
  {
   "cell_type": "code",
   "execution_count": 16,
   "metadata": {},
   "outputs": [],
   "source": [
    "# Find value counts of the 'exited' column as a percentage\n",
    "exited_percentage = df['exited'].value_counts(normalize=True)*100"
   ]
  },
  {
   "cell_type": "code",
   "execution_count": 17,
   "metadata": {},
   "outputs": [
    {
     "data": {
      "application/vnd.plotly.v1+json": {
       "config": {
        "plotlyServerURL": "https://plot.ly"
       },
       "data": [
        {
         "alignmentgroup": "True",
         "hovertemplate": "color=Stayed<br>exited=%{x}<br>value=%{y}<extra></extra>",
         "legendgroup": "Stayed",
         "marker": {
          "color": "#636efa",
          "pattern": {
           "shape": ""
          }
         },
         "name": "Stayed",
         "offsetgroup": "Stayed",
         "orientation": "v",
         "showlegend": true,
         "textposition": "auto",
         "type": "bar",
         "x": [
          0
         ],
         "xaxis": "x",
         "y": [
          79.63
         ],
         "yaxis": "y"
        },
        {
         "alignmentgroup": "True",
         "hovertemplate": "color=Exited<br>exited=%{x}<br>value=%{y}<extra></extra>",
         "legendgroup": "Exited",
         "marker": {
          "color": "#EF553B",
          "pattern": {
           "shape": ""
          }
         },
         "name": "Exited",
         "offsetgroup": "Exited",
         "orientation": "v",
         "showlegend": true,
         "textposition": "auto",
         "type": "bar",
         "x": [
          1
         ],
         "xaxis": "x",
         "y": [
          20.369999999999997
         ],
         "yaxis": "y"
        }
       ],
       "layout": {
        "barmode": "relative",
        "legend": {
         "title": {
          "text": "Exited or Not"
         },
         "tracegroupgap": 0
        },
        "template": {
         "data": {
          "bar": [
           {
            "error_x": {
             "color": "#2a3f5f"
            },
            "error_y": {
             "color": "#2a3f5f"
            },
            "marker": {
             "line": {
              "color": "white",
              "width": 0.5
             },
             "pattern": {
              "fillmode": "overlay",
              "size": 10,
              "solidity": 0.2
             }
            },
            "type": "bar"
           }
          ],
          "barpolar": [
           {
            "marker": {
             "line": {
              "color": "white",
              "width": 0.5
             },
             "pattern": {
              "fillmode": "overlay",
              "size": 10,
              "solidity": 0.2
             }
            },
            "type": "barpolar"
           }
          ],
          "carpet": [
           {
            "aaxis": {
             "endlinecolor": "#2a3f5f",
             "gridcolor": "#C8D4E3",
             "linecolor": "#C8D4E3",
             "minorgridcolor": "#C8D4E3",
             "startlinecolor": "#2a3f5f"
            },
            "baxis": {
             "endlinecolor": "#2a3f5f",
             "gridcolor": "#C8D4E3",
             "linecolor": "#C8D4E3",
             "minorgridcolor": "#C8D4E3",
             "startlinecolor": "#2a3f5f"
            },
            "type": "carpet"
           }
          ],
          "choropleth": [
           {
            "colorbar": {
             "outlinewidth": 0,
             "ticks": ""
            },
            "type": "choropleth"
           }
          ],
          "contour": [
           {
            "colorbar": {
             "outlinewidth": 0,
             "ticks": ""
            },
            "colorscale": [
             [
              0,
              "#0d0887"
             ],
             [
              0.1111111111111111,
              "#46039f"
             ],
             [
              0.2222222222222222,
              "#7201a8"
             ],
             [
              0.3333333333333333,
              "#9c179e"
             ],
             [
              0.4444444444444444,
              "#bd3786"
             ],
             [
              0.5555555555555556,
              "#d8576b"
             ],
             [
              0.6666666666666666,
              "#ed7953"
             ],
             [
              0.7777777777777778,
              "#fb9f3a"
             ],
             [
              0.8888888888888888,
              "#fdca26"
             ],
             [
              1,
              "#f0f921"
             ]
            ],
            "type": "contour"
           }
          ],
          "contourcarpet": [
           {
            "colorbar": {
             "outlinewidth": 0,
             "ticks": ""
            },
            "type": "contourcarpet"
           }
          ],
          "heatmap": [
           {
            "colorbar": {
             "outlinewidth": 0,
             "ticks": ""
            },
            "colorscale": [
             [
              0,
              "#0d0887"
             ],
             [
              0.1111111111111111,
              "#46039f"
             ],
             [
              0.2222222222222222,
              "#7201a8"
             ],
             [
              0.3333333333333333,
              "#9c179e"
             ],
             [
              0.4444444444444444,
              "#bd3786"
             ],
             [
              0.5555555555555556,
              "#d8576b"
             ],
             [
              0.6666666666666666,
              "#ed7953"
             ],
             [
              0.7777777777777778,
              "#fb9f3a"
             ],
             [
              0.8888888888888888,
              "#fdca26"
             ],
             [
              1,
              "#f0f921"
             ]
            ],
            "type": "heatmap"
           }
          ],
          "heatmapgl": [
           {
            "colorbar": {
             "outlinewidth": 0,
             "ticks": ""
            },
            "colorscale": [
             [
              0,
              "#0d0887"
             ],
             [
              0.1111111111111111,
              "#46039f"
             ],
             [
              0.2222222222222222,
              "#7201a8"
             ],
             [
              0.3333333333333333,
              "#9c179e"
             ],
             [
              0.4444444444444444,
              "#bd3786"
             ],
             [
              0.5555555555555556,
              "#d8576b"
             ],
             [
              0.6666666666666666,
              "#ed7953"
             ],
             [
              0.7777777777777778,
              "#fb9f3a"
             ],
             [
              0.8888888888888888,
              "#fdca26"
             ],
             [
              1,
              "#f0f921"
             ]
            ],
            "type": "heatmapgl"
           }
          ],
          "histogram": [
           {
            "marker": {
             "pattern": {
              "fillmode": "overlay",
              "size": 10,
              "solidity": 0.2
             }
            },
            "type": "histogram"
           }
          ],
          "histogram2d": [
           {
            "colorbar": {
             "outlinewidth": 0,
             "ticks": ""
            },
            "colorscale": [
             [
              0,
              "#0d0887"
             ],
             [
              0.1111111111111111,
              "#46039f"
             ],
             [
              0.2222222222222222,
              "#7201a8"
             ],
             [
              0.3333333333333333,
              "#9c179e"
             ],
             [
              0.4444444444444444,
              "#bd3786"
             ],
             [
              0.5555555555555556,
              "#d8576b"
             ],
             [
              0.6666666666666666,
              "#ed7953"
             ],
             [
              0.7777777777777778,
              "#fb9f3a"
             ],
             [
              0.8888888888888888,
              "#fdca26"
             ],
             [
              1,
              "#f0f921"
             ]
            ],
            "type": "histogram2d"
           }
          ],
          "histogram2dcontour": [
           {
            "colorbar": {
             "outlinewidth": 0,
             "ticks": ""
            },
            "colorscale": [
             [
              0,
              "#0d0887"
             ],
             [
              0.1111111111111111,
              "#46039f"
             ],
             [
              0.2222222222222222,
              "#7201a8"
             ],
             [
              0.3333333333333333,
              "#9c179e"
             ],
             [
              0.4444444444444444,
              "#bd3786"
             ],
             [
              0.5555555555555556,
              "#d8576b"
             ],
             [
              0.6666666666666666,
              "#ed7953"
             ],
             [
              0.7777777777777778,
              "#fb9f3a"
             ],
             [
              0.8888888888888888,
              "#fdca26"
             ],
             [
              1,
              "#f0f921"
             ]
            ],
            "type": "histogram2dcontour"
           }
          ],
          "mesh3d": [
           {
            "colorbar": {
             "outlinewidth": 0,
             "ticks": ""
            },
            "type": "mesh3d"
           }
          ],
          "parcoords": [
           {
            "line": {
             "colorbar": {
              "outlinewidth": 0,
              "ticks": ""
             }
            },
            "type": "parcoords"
           }
          ],
          "pie": [
           {
            "automargin": true,
            "type": "pie"
           }
          ],
          "scatter": [
           {
            "fillpattern": {
             "fillmode": "overlay",
             "size": 10,
             "solidity": 0.2
            },
            "type": "scatter"
           }
          ],
          "scatter3d": [
           {
            "line": {
             "colorbar": {
              "outlinewidth": 0,
              "ticks": ""
             }
            },
            "marker": {
             "colorbar": {
              "outlinewidth": 0,
              "ticks": ""
             }
            },
            "type": "scatter3d"
           }
          ],
          "scattercarpet": [
           {
            "marker": {
             "colorbar": {
              "outlinewidth": 0,
              "ticks": ""
             }
            },
            "type": "scattercarpet"
           }
          ],
          "scattergeo": [
           {
            "marker": {
             "colorbar": {
              "outlinewidth": 0,
              "ticks": ""
             }
            },
            "type": "scattergeo"
           }
          ],
          "scattergl": [
           {
            "marker": {
             "colorbar": {
              "outlinewidth": 0,
              "ticks": ""
             }
            },
            "type": "scattergl"
           }
          ],
          "scattermapbox": [
           {
            "marker": {
             "colorbar": {
              "outlinewidth": 0,
              "ticks": ""
             }
            },
            "type": "scattermapbox"
           }
          ],
          "scatterpolar": [
           {
            "marker": {
             "colorbar": {
              "outlinewidth": 0,
              "ticks": ""
             }
            },
            "type": "scatterpolar"
           }
          ],
          "scatterpolargl": [
           {
            "marker": {
             "colorbar": {
              "outlinewidth": 0,
              "ticks": ""
             }
            },
            "type": "scatterpolargl"
           }
          ],
          "scatterternary": [
           {
            "marker": {
             "colorbar": {
              "outlinewidth": 0,
              "ticks": ""
             }
            },
            "type": "scatterternary"
           }
          ],
          "surface": [
           {
            "colorbar": {
             "outlinewidth": 0,
             "ticks": ""
            },
            "colorscale": [
             [
              0,
              "#0d0887"
             ],
             [
              0.1111111111111111,
              "#46039f"
             ],
             [
              0.2222222222222222,
              "#7201a8"
             ],
             [
              0.3333333333333333,
              "#9c179e"
             ],
             [
              0.4444444444444444,
              "#bd3786"
             ],
             [
              0.5555555555555556,
              "#d8576b"
             ],
             [
              0.6666666666666666,
              "#ed7953"
             ],
             [
              0.7777777777777778,
              "#fb9f3a"
             ],
             [
              0.8888888888888888,
              "#fdca26"
             ],
             [
              1,
              "#f0f921"
             ]
            ],
            "type": "surface"
           }
          ],
          "table": [
           {
            "cells": {
             "fill": {
              "color": "#EBF0F8"
             },
             "line": {
              "color": "white"
             }
            },
            "header": {
             "fill": {
              "color": "#C8D4E3"
             },
             "line": {
              "color": "white"
             }
            },
            "type": "table"
           }
          ]
         },
         "layout": {
          "annotationdefaults": {
           "arrowcolor": "#2a3f5f",
           "arrowhead": 0,
           "arrowwidth": 1
          },
          "autotypenumbers": "strict",
          "coloraxis": {
           "colorbar": {
            "outlinewidth": 0,
            "ticks": ""
           }
          },
          "colorscale": {
           "diverging": [
            [
             0,
             "#8e0152"
            ],
            [
             0.1,
             "#c51b7d"
            ],
            [
             0.2,
             "#de77ae"
            ],
            [
             0.3,
             "#f1b6da"
            ],
            [
             0.4,
             "#fde0ef"
            ],
            [
             0.5,
             "#f7f7f7"
            ],
            [
             0.6,
             "#e6f5d0"
            ],
            [
             0.7,
             "#b8e186"
            ],
            [
             0.8,
             "#7fbc41"
            ],
            [
             0.9,
             "#4d9221"
            ],
            [
             1,
             "#276419"
            ]
           ],
           "sequential": [
            [
             0,
             "#0d0887"
            ],
            [
             0.1111111111111111,
             "#46039f"
            ],
            [
             0.2222222222222222,
             "#7201a8"
            ],
            [
             0.3333333333333333,
             "#9c179e"
            ],
            [
             0.4444444444444444,
             "#bd3786"
            ],
            [
             0.5555555555555556,
             "#d8576b"
            ],
            [
             0.6666666666666666,
             "#ed7953"
            ],
            [
             0.7777777777777778,
             "#fb9f3a"
            ],
            [
             0.8888888888888888,
             "#fdca26"
            ],
            [
             1,
             "#f0f921"
            ]
           ],
           "sequentialminus": [
            [
             0,
             "#0d0887"
            ],
            [
             0.1111111111111111,
             "#46039f"
            ],
            [
             0.2222222222222222,
             "#7201a8"
            ],
            [
             0.3333333333333333,
             "#9c179e"
            ],
            [
             0.4444444444444444,
             "#bd3786"
            ],
            [
             0.5555555555555556,
             "#d8576b"
            ],
            [
             0.6666666666666666,
             "#ed7953"
            ],
            [
             0.7777777777777778,
             "#fb9f3a"
            ],
            [
             0.8888888888888888,
             "#fdca26"
            ],
            [
             1,
             "#f0f921"
            ]
           ]
          },
          "colorway": [
           "#636efa",
           "#EF553B",
           "#00cc96",
           "#ab63fa",
           "#FFA15A",
           "#19d3f3",
           "#FF6692",
           "#B6E880",
           "#FF97FF",
           "#FECB52"
          ],
          "font": {
           "color": "#2a3f5f"
          },
          "geo": {
           "bgcolor": "white",
           "lakecolor": "white",
           "landcolor": "white",
           "showlakes": true,
           "showland": true,
           "subunitcolor": "#C8D4E3"
          },
          "hoverlabel": {
           "align": "left"
          },
          "hovermode": "closest",
          "mapbox": {
           "style": "light"
          },
          "paper_bgcolor": "white",
          "plot_bgcolor": "white",
          "polar": {
           "angularaxis": {
            "gridcolor": "#EBF0F8",
            "linecolor": "#EBF0F8",
            "ticks": ""
           },
           "bgcolor": "white",
           "radialaxis": {
            "gridcolor": "#EBF0F8",
            "linecolor": "#EBF0F8",
            "ticks": ""
           }
          },
          "scene": {
           "xaxis": {
            "backgroundcolor": "white",
            "gridcolor": "#DFE8F3",
            "gridwidth": 2,
            "linecolor": "#EBF0F8",
            "showbackground": true,
            "ticks": "",
            "zerolinecolor": "#EBF0F8"
           },
           "yaxis": {
            "backgroundcolor": "white",
            "gridcolor": "#DFE8F3",
            "gridwidth": 2,
            "linecolor": "#EBF0F8",
            "showbackground": true,
            "ticks": "",
            "zerolinecolor": "#EBF0F8"
           },
           "zaxis": {
            "backgroundcolor": "white",
            "gridcolor": "#DFE8F3",
            "gridwidth": 2,
            "linecolor": "#EBF0F8",
            "showbackground": true,
            "ticks": "",
            "zerolinecolor": "#EBF0F8"
           }
          },
          "shapedefaults": {
           "line": {
            "color": "#2a3f5f"
           }
          },
          "ternary": {
           "aaxis": {
            "gridcolor": "#DFE8F3",
            "linecolor": "#A2B1C6",
            "ticks": ""
           },
           "baxis": {
            "gridcolor": "#DFE8F3",
            "linecolor": "#A2B1C6",
            "ticks": ""
           },
           "bgcolor": "white",
           "caxis": {
            "gridcolor": "#DFE8F3",
            "linecolor": "#A2B1C6",
            "ticks": ""
           }
          },
          "title": {
           "x": 0.05
          },
          "xaxis": {
           "automargin": true,
           "gridcolor": "#EBF0F8",
           "linecolor": "#EBF0F8",
           "ticks": "",
           "title": {
            "standoff": 15
           },
           "zerolinecolor": "#EBF0F8",
           "zerolinewidth": 2
          },
          "yaxis": {
           "automargin": true,
           "gridcolor": "#EBF0F8",
           "linecolor": "#EBF0F8",
           "ticks": "",
           "title": {
            "standoff": 15
           },
           "zerolinecolor": "#EBF0F8",
           "zerolinewidth": 2
          }
         }
        },
        "title": {
         "text": "Percentage of Customers Who Stayed or Exited"
        },
        "xaxis": {
         "anchor": "y",
         "domain": [
          0,
          1
         ],
         "showticklabels": false,
         "title": {
          "text": "Exited or Not"
         }
        },
        "yaxis": {
         "anchor": "x",
         "domain": [
          0,
          1
         ],
         "title": {
          "text": "Percentage of Customers"
         }
        }
       }
      }
     },
     "metadata": {},
     "output_type": "display_data"
    }
   ],
   "source": [
    "# plot bar chart of exited_percentage column\n",
    "fig = px.bar(exited_percentage, \n",
    "             labels={'x':'Exited', 'y':'Percentage of customers'},\n",
    "             title='Percentage of Customers Who Stayed or Exited',\n",
    "             color=['Stayed', 'Exited'],\n",
    "             template='plotly_white')\n",
    "\n",
    "# Add titles for x-axism y-axis, and legend\n",
    "fig.update_layout(legend_title_text='Exited or Not',\n",
    "                  yaxis_title='Percentage of Customers',\n",
    "                  xaxis_title='Exited or Not')\n",
    "\n",
    "# Hide x-axis labels\n",
    "fig.update_xaxes(showticklabels=False)\n",
    "\n",
    "# Show bar chart\n",
    "fig.show()"
   ]
  },
  {
   "cell_type": "code",
   "execution_count": 18,
   "metadata": {},
   "outputs": [
    {
     "data": {
      "text/plain": [
       "79.63"
      ]
     },
     "execution_count": 18,
     "metadata": {},
     "output_type": "execute_result"
    }
   ],
   "source": [
    "# Create model that predicts all customers will not churn\n",
    "target_pred_constant = pd.Series(0, index=df.index)\n",
    "\n",
    "# Print accuracy score for this model\n",
    "accuracy_score(df['exited'], target_pred_constant) *100"
   ]
  },
  {
   "cell_type": "markdown",
   "metadata": {},
   "source": [
    "#### Analysis\n",
    "\n",
    "A model that predicts that every customer won't churn will be accurate 79.63% of the time. A model must be created that does better than this. "
   ]
  },
  {
   "cell_type": "markdown",
   "metadata": {},
   "source": [
    "### Model without Improvements\n",
    "\n",
    "To train the model, the data must first be split. Three sets for the training, validation and test sets. Another split will seperate the features and target according to the requirements of the two learning algorithyms. The first will be a random forest, the second using logistic regression. \n",
    "\n",
    "### Split Data\n",
    "\n",
    "As we do not have a test set, the data will be split into 3 parts. These are for the training, validation and test sets. This split will occur in a 3:1:1 ratio as it keeps the validation and the test sets the same size.\n",
    "\n",
    "We can do this by first splitting the data in a 3:2 ratio to give two datasets. The first will serve as the test set. The second will be split again in 1:1 ratio to give the validation and test sets.\n",
    "\n",
    "Once this done, the datasets will be split into features and target.\n",
    "\n",
    "#### Training, Validation and Test Splits "
   ]
  },
  {
   "cell_type": "code",
   "execution_count": 19,
   "metadata": {},
   "outputs": [],
   "source": [
    "# Split data into train and validation with test \n",
    "df_train, df_valid_test = train_test_split(df, test_size=0.4, random_state=12345)\n",
    "\n",
    "# Split df_valid_test into validation and test\n",
    "df_valid, df_test = train_test_split(df_valid_test, test_size=0.5, random_state=12345)"
   ]
  },
  {
   "cell_type": "code",
   "execution_count": 20,
   "metadata": {},
   "outputs": [
    {
     "name": "stdout",
     "output_type": "stream",
     "text": [
      "df_train size: (6000, 13)\n",
      "df_test size: (2000, 13)\n",
      "df_val size: (2000, 13)\n"
     ]
    }
   ],
   "source": [
    "# Confirm the size of splitted data sets\n",
    "print('df_train size:', df_train.shape)\n",
    "print('df_test size:', df_valid.shape)\n",
    "print('df_val size:', df_test.shape)"
   ]
  },
  {
   "cell_type": "markdown",
   "metadata": {},
   "source": [
    "### Random Forests\n",
    "\n",
    "#### Description\n",
    "A random forest is a learning algorithym that trains groups of independent trees and makes decisions based on majority class prediction.\n",
    "\n",
    "#### Hyperparameters\n",
    "\n",
    "`max_depth`: Depth will be iterated for values 1 to 10.\n",
    "\n",
    "`n_estimators`: The number of trees that are built before voting takes place. This will be iterated from 10 to 100. \n",
    "\n",
    "`random_state`: '12345' will be used to produce consistent results.\n",
    "\n",
    "#### Process\n",
    "\n",
    "Features and the target will be determined using the appropriate preprocessing data. Accuracy scores with their associated parameters will be determined\n",
    "\n",
    "##### Features and Targets\n",
    "\n",
    "Select features by dropping those that arent relevant. These include 'geography_germany, 'geography_spain' and 'exited'."
   ]
  },
  {
   "cell_type": "code",
   "execution_count": 21,
   "metadata": {},
   "outputs": [
    {
     "data": {
      "text/html": [
       "<div>\n",
       "<style scoped>\n",
       "    .dataframe tbody tr th:only-of-type {\n",
       "        vertical-align: middle;\n",
       "    }\n",
       "\n",
       "    .dataframe tbody tr th {\n",
       "        vertical-align: top;\n",
       "    }\n",
       "\n",
       "    .dataframe thead th {\n",
       "        text-align: right;\n",
       "    }\n",
       "</style>\n",
       "<table border=\"1\" class=\"dataframe\">\n",
       "  <thead>\n",
       "    <tr style=\"text-align: right;\">\n",
       "      <th></th>\n",
       "      <th>credit_score</th>\n",
       "      <th>age</th>\n",
       "      <th>tenure</th>\n",
       "      <th>balance</th>\n",
       "      <th>num_of_products</th>\n",
       "      <th>has_cr_card</th>\n",
       "      <th>is_active_member</th>\n",
       "      <th>estimated_salary</th>\n",
       "      <th>exited</th>\n",
       "      <th>geography_label</th>\n",
       "      <th>geography_germany</th>\n",
       "      <th>geography_spain</th>\n",
       "      <th>gender_male</th>\n",
       "    </tr>\n",
       "  </thead>\n",
       "  <tbody>\n",
       "    <tr>\n",
       "      <th>0</th>\n",
       "      <td>619</td>\n",
       "      <td>42</td>\n",
       "      <td>2.0</td>\n",
       "      <td>0.00</td>\n",
       "      <td>1</td>\n",
       "      <td>1</td>\n",
       "      <td>1</td>\n",
       "      <td>101348.88</td>\n",
       "      <td>1</td>\n",
       "      <td>0</td>\n",
       "      <td>False</td>\n",
       "      <td>False</td>\n",
       "      <td>False</td>\n",
       "    </tr>\n",
       "    <tr>\n",
       "      <th>1</th>\n",
       "      <td>608</td>\n",
       "      <td>41</td>\n",
       "      <td>1.0</td>\n",
       "      <td>83807.86</td>\n",
       "      <td>1</td>\n",
       "      <td>0</td>\n",
       "      <td>1</td>\n",
       "      <td>112542.58</td>\n",
       "      <td>0</td>\n",
       "      <td>2</td>\n",
       "      <td>False</td>\n",
       "      <td>True</td>\n",
       "      <td>False</td>\n",
       "    </tr>\n",
       "    <tr>\n",
       "      <th>2</th>\n",
       "      <td>502</td>\n",
       "      <td>42</td>\n",
       "      <td>8.0</td>\n",
       "      <td>159660.80</td>\n",
       "      <td>3</td>\n",
       "      <td>1</td>\n",
       "      <td>0</td>\n",
       "      <td>113931.57</td>\n",
       "      <td>1</td>\n",
       "      <td>0</td>\n",
       "      <td>False</td>\n",
       "      <td>False</td>\n",
       "      <td>False</td>\n",
       "    </tr>\n",
       "    <tr>\n",
       "      <th>3</th>\n",
       "      <td>699</td>\n",
       "      <td>39</td>\n",
       "      <td>1.0</td>\n",
       "      <td>0.00</td>\n",
       "      <td>2</td>\n",
       "      <td>0</td>\n",
       "      <td>0</td>\n",
       "      <td>93826.63</td>\n",
       "      <td>0</td>\n",
       "      <td>0</td>\n",
       "      <td>False</td>\n",
       "      <td>False</td>\n",
       "      <td>False</td>\n",
       "    </tr>\n",
       "    <tr>\n",
       "      <th>4</th>\n",
       "      <td>850</td>\n",
       "      <td>43</td>\n",
       "      <td>2.0</td>\n",
       "      <td>125510.82</td>\n",
       "      <td>1</td>\n",
       "      <td>1</td>\n",
       "      <td>1</td>\n",
       "      <td>79084.10</td>\n",
       "      <td>0</td>\n",
       "      <td>2</td>\n",
       "      <td>False</td>\n",
       "      <td>True</td>\n",
       "      <td>False</td>\n",
       "    </tr>\n",
       "  </tbody>\n",
       "</table>\n",
       "</div>"
      ],
      "text/plain": [
       "   credit_score  age  tenure    balance  num_of_products  has_cr_card  \\\n",
       "0           619   42     2.0       0.00                1            1   \n",
       "1           608   41     1.0   83807.86                1            0   \n",
       "2           502   42     8.0  159660.80                3            1   \n",
       "3           699   39     1.0       0.00                2            0   \n",
       "4           850   43     2.0  125510.82                1            1   \n",
       "\n",
       "   is_active_member  estimated_salary  exited  geography_label  \\\n",
       "0                 1         101348.88       1                0   \n",
       "1                 1         112542.58       0                2   \n",
       "2                 0         113931.57       1                0   \n",
       "3                 0          93826.63       0                0   \n",
       "4                 1          79084.10       0                2   \n",
       "\n",
       "   geography_germany  geography_spain  gender_male  \n",
       "0              False            False        False  \n",
       "1              False             True        False  \n",
       "2              False            False        False  \n",
       "3              False            False        False  \n",
       "4              False             True        False  "
      ]
     },
     "execution_count": 21,
     "metadata": {},
     "output_type": "execute_result"
    }
   ],
   "source": [
    "df.head()"
   ]
  },
  {
   "cell_type": "code",
   "execution_count": 22,
   "metadata": {},
   "outputs": [],
   "source": [
    "# Create a list of columns to drop for feature selection for random forests\n",
    "rf_drop_columns = ['exited','geography_germany','geography_spain']\n",
    "\n",
    "# Split the training data into features and target\n",
    "rf_features_train = df_train.drop(rf_drop_columns, axis=1)\n",
    "rf_target_train = df_train['exited']\n",
    "\n",
    "# Split the validation data into features and target\n",
    "rf_features_valid = df_valid.drop(rf_drop_columns, axis=1)\n",
    "rf_target_valid = df_valid['exited']\n",
    "\n",
    "# Split the test data into features and target\n",
    "rf_features_test = df_test.drop(rf_drop_columns, axis=1)\n",
    "rf_target_test = df_test['exited']"
   ]
  },
  {
   "cell_type": "markdown",
   "metadata": {},
   "source": [
    "##### Model Training"
   ]
  },
  {
   "cell_type": "code",
   "execution_count": 23,
   "metadata": {},
   "outputs": [
    {
     "name": "stdout",
     "output_type": "stream",
     "text": [
      "Accuracy of the best model: 86.4 %\n",
      "Found with 34 estimators and a depth of 10\n",
      "F1 score of the best model: 57.23 %\n"
     ]
    }
   ],
   "source": [
    "# Find the best accuracy score for the model with accomodating max_depth and n_estimators\n",
    "best_score = 0\n",
    "best_est = 0\n",
    "best_depth = 0\n",
    "f1 = 0\n",
    "\n",
    "# Create loop to find the best accuracy score with different max_depths and n_estimators\n",
    "for est in range(10, 51): # choose hyperparameter range\n",
    "    for depth in range(1, 11):\n",
    "        model = RandomForestClassifier(max_depth=depth, random_state=12345, n_estimators=est) # set number of trees\n",
    "        model.fit(rf_features_train, rf_target_train) # train model on training set\n",
    "        score = model.score(rf_features_valid, rf_target_valid) # calculate accuracy score on validation set\n",
    "        if score > best_score: # if accuracy score is better than previous best, save model and its accuracy score\n",
    "            best_score = score\n",
    "            best_est = est\n",
    "            best_depth = depth\n",
    "            f1 = f1_score(rf_target_valid, model.predict(rf_features_valid))\n",
    "\n",
    "print(\"Accuracy of the best model:\", round(best_score*100,2), \"%\")\n",
    "print(\"Found with\",best_est, \"estimators and a depth of\", best_depth)\n",
    "print(\"F1 score of the best model:\", round(f1*100,2), \"%\")"
   ]
  },
  {
   "cell_type": "markdown",
   "metadata": {},
   "source": [
    "### Logistic Regression\n",
    "\n",
    "#### Description\n",
    "\n",
    "Logistic regression may be used by assigning observations of features (calls, messages, usage, etc) as either positive or negative (Ultra or Smart plans) based on probability.\n",
    "\n",
    "##### Parameters\n",
    "\n",
    "`solver`: Sets the method for fitting the data. Each will be used and compared.\n",
    "\n",
    "`random_state`: '12345' will be used.\n",
    "\n",
    "#### Process\n",
    "\n",
    "Features and the target will be determined using the appropriate preprocessing data. Accuracy scores with their associated parameters will be determined\n",
    "\n",
    "##### Features and Targets\n",
    "\n",
    "Select features by dropping those that arent relevant. These include 'geography_label' and 'exited'."
   ]
  },
  {
   "cell_type": "code",
   "execution_count": 24,
   "metadata": {},
   "outputs": [],
   "source": [
    "# Create a list of columns to drop for feature selection for random forests\n",
    "lr_drop_columns = ['geography_label','exited']\n",
    "\n",
    "# Split the training data into features and target\n",
    "lr_features_train = df_train.drop(lr_drop_columns, axis=1)\n",
    "lr_target_train = df_train['exited']\n",
    "\n",
    "# Split the validation data into features and target\n",
    "lr_features_valid = df_valid.drop(lr_drop_columns, axis=1)\n",
    "lr_target_valid = df_valid['exited']\n",
    "\n",
    "# Split the test data into features and target\n",
    "lr_features_test = df_test.drop(lr_drop_columns, axis=1)\n",
    "lr_target_test = df_test['exited']"
   ]
  },
  {
   "cell_type": "markdown",
   "metadata": {},
   "source": [
    "##### Model"
   ]
  },
  {
   "cell_type": "code",
   "execution_count": 25,
   "metadata": {},
   "outputs": [
    {
     "name": "stdout",
     "output_type": "stream",
     "text": [
      "Solver: newton-cg\n",
      "Accuracy on the validation set: 80.60000000000001 %\n",
      "F1 score on the validation set: 32.4 %\n",
      "\n",
      "Solver: lbfgs\n",
      "Accuracy on the validation set: 77.9 %\n",
      "F1 score on the validation set: 10.5 %\n",
      "\n",
      "Solver: liblinear\n",
      "Accuracy on the validation set: 78.10000000000001 %\n",
      "F1 score on the validation set: 8.4 %\n",
      "\n",
      "Solver: sag\n",
      "Accuracy on the validation set: 79.10000000000001 %\n",
      "F1 score on the validation set: 0.0 %\n",
      "\n",
      "Solver: saga\n",
      "Accuracy on the validation set: 79.10000000000001 %\n",
      "F1 score on the validation set: 0.0 %\n",
      "\n"
     ]
    }
   ],
   "source": [
    "# Save solvers to a list\n",
    "solvers = ['newton-cg', 'lbfgs', 'liblinear', 'sag', 'saga']\n",
    "\n",
    "# Create a loop to find the best accuracy score with different solvers\n",
    "for solver in solvers:\n",
    "    # Ignore warnings\n",
    "    with warnings.catch_warnings():\n",
    "        warnings.simplefilter('ignore')\n",
    "        \n",
    "        # Train model\n",
    "        model = LogisticRegression(random_state=12345, solver=solver)\n",
    "        model.fit(lr_features_train, lr_target_train)\n",
    "        score_valid = round(model.score(lr_features_valid, lr_target_valid), 3) * 100\n",
    "        print('Solver:', solver)\n",
    "        print('Accuracy on the validation set:', score_valid, '%')\n",
    "        print('F1 score on the validation set:', round(f1_score(lr_target_valid, model.predict(lr_features_valid)), 3) * 100, '%','/n')"
   ]
  },
  {
   "cell_type": "markdown",
   "metadata": {},
   "source": [
    "#### Analysis\n",
    "\n",
    "80% accuracy may look good, but is a bad metric to determine how good the model in comparison to the constant model. Only one Logistic regression model did better than the constant model on accuracy. Whilst the random forest did well with an accuracy of 86%, the constant model was only 6% behind. The high imbalance may have negatively affected the training process."
   ]
  },
  {
   "cell_type": "markdown",
   "metadata": {},
   "source": [
    "## Improve Model Quality\n",
    "\n",
    "To improve model quality, adjustments to class weights and thresholds will be made. Metrics aside from accuracy will be used improve model quality. These include precision, recall and F1 scores. \n",
    "\n",
    "Precision measures how many negative responses were found by the model when searching for positive responses. Recall shows how many positive answers were found by the model in relation to all positive responses. As these are both important, the F1 value combines the two and will be used as our main metric. The goal is to find one that exceeds 59%.\n",
    "\n",
    "Another good indicator of the effectiveness of our models is the area under curve and the receiver operating characteristic. These will be explained.\n",
    "\n",
    "### Class Weight Adjustment\n",
    "\n",
    "Machine learning algorithyms keep observations balanced by default. However, adjustments can be made through upscaling and downscaling.\n",
    "\n",
    "#### Upsampling\n",
    "\n",
    "Upsampling gives more weight to more important values by replicating observations. This requires 4 steps:\n",
    "\n",
    "1. Split data by target\n",
    "2. Duplicate appropriate observations\n",
    "3. Shuffle data\n",
    "4. Train models"
   ]
  },
  {
   "cell_type": "code",
   "execution_count": 26,
   "metadata": {},
   "outputs": [
    {
     "name": "stdout",
     "output_type": "stream",
     "text": [
      "target_zeros length: 4804\n",
      "target_ones length: 1196\n",
      "Ratio: 4.02\n",
      "Ratio Imbalanced\n"
     ]
    }
   ],
   "source": [
    "# 1. Split data by target\n",
    "\n",
    "# Split target_train data\n",
    "target_zeros = rf_target_train[rf_target_train == 0]\n",
    "target_ones = rf_target_train[rf_target_train == 1]\n",
    "\n",
    "# Split features data based on target data for both random forest and logistic regression\n",
    "rf_features_zeros = rf_features_train[rf_target_train == 0]\n",
    "rf_features_ones = rf_features_train[rf_target_train == 1]\n",
    "\n",
    "lr_features_zeros = lr_features_train[rf_target_train == 0]\n",
    "lr_features_ones = lr_features_train[rf_target_train == 1]\n",
    "\n",
    "# Print lengths for target zeros and target ones\n",
    "print('target_zeros length:', len(target_zeros))\n",
    "print('target_ones length:', len(target_ones))\n",
    "print('Ratio:', round(len(target_zeros)/len(target_ones), 2))\n",
    "print('Ratio Imbalanced')\n"
   ]
  },
  {
   "cell_type": "code",
   "execution_count": 27,
   "metadata": {},
   "outputs": [
    {
     "name": "stdout",
     "output_type": "stream",
     "text": [
      "Number of observations where the customer stayed: 4804\n",
      "Number of observations where the customer left: 4784\n",
      "Ratio: 1.0\n",
      "Ratio Balanced\n"
     ]
    }
   ],
   "source": [
    "# 2. Duplicate appropriate observations\n",
    "\n",
    "# Find ratio of target zeros to target ones\n",
    "ratio= int(len(target_zeros) / len(target_ones))\n",
    "\n",
    "# Duplicate target ones by ratio and concatenate for target for random forests\n",
    "rf_target_upsampled = pd.concat([target_zeros] + [target_ones] * ratio)\n",
    "\n",
    "# Duplicate target ones by ratio and concatenate for target for logistic regression\n",
    "lr_target_upsampled = pd.concat([target_zeros] + [target_ones] * ratio)\n",
    "\n",
    "# Repeat for features for random forests and logistic regression\n",
    "rf_features_upsampled = pd.concat([rf_features_zeros] + [rf_features_ones] * ratio)\n",
    "lr_features_upsampled = pd.concat([lr_features_zeros] + [lr_features_ones] * ratio)\n",
    "\n",
    "# Print lengths for target zeros and target ones\n",
    "print('Number of observations where the customer stayed:', len(target_zeros))\n",
    "print('Number of observations where the customer left:', len(target_ones) * ratio)\n",
    "print('Ratio:', round(len(target_zeros)/(len(target_ones) * ratio), 2))\n",
    "print('Ratio Balanced')"
   ]
  },
  {
   "cell_type": "code",
   "execution_count": 28,
   "metadata": {},
   "outputs": [],
   "source": [
    "# 3. Shuffle Data\n",
    "# Shuffle data for random forests\n",
    "rf_features_upsampled, rf_target_upsampled = shuffle(rf_features_upsampled, rf_target_upsampled, random_state=12345)\n",
    "\n",
    "# Repeat for logistic regression\n",
    "lr_features_upsampled, lr_target_upsampled = shuffle(lr_features_upsampled, lr_target_upsampled, random_state=12345)"
   ]
  },
  {
   "cell_type": "code",
   "execution_count": 29,
   "metadata": {},
   "outputs": [
    {
     "name": "stdout",
     "output_type": "stream",
     "text": [
      "F1 score of the best model: 61.73 %\n",
      "Found with 40 estimators and a depth of 8\n"
     ]
    }
   ],
   "source": [
    "# 4. Train Models\n",
    "\n",
    "# Train random forest model\n",
    "# Find the best F1 score for the model with accomodating max_depth and n_estimators\n",
    "\n",
    "best_score = 0\n",
    "best_est = 0\n",
    "best_depth = 0\n",
    "\n",
    "# Create loop to find the best accuracy score with different max_depths and n_estimators\n",
    "for est in range(10, 101, 10): # choose hyperparameter range\n",
    "    for depth in range(1, 11):\n",
    "        model = RandomForestClassifier(max_depth=depth, random_state=12345, n_estimators=est) # set number of trees\n",
    "        model.fit(rf_features_upsampled, rf_target_upsampled) # train model on training set\n",
    "        score = f1_score(rf_target_valid, model.predict(rf_features_valid)) # calculate f1 score on validation set\n",
    "        if score > best_score: # if f1 score is better than previous best, save model and its score\n",
    "            best_score = score\n",
    "            best_est = est\n",
    "            best_depth = depth\n",
    "\n",
    "print(\"F1 score of the best model:\", round(best_score*100,2), \"%\")\n",
    "print(\"Found with\", best_est, \"estimators and a depth of\", best_depth)"
   ]
  },
  {
   "cell_type": "code",
   "execution_count": 30,
   "metadata": {},
   "outputs": [],
   "source": [
    "# Train logistic regression model\n",
    "\n",
    "# Define a loop to find the best F1 score with different solvers\n",
    "def solver_loop(solvers, model_features, model_target):\n",
    "    \n",
    "    for solver in solvers:\n",
    "        # Ignore warnings\n",
    "        with warnings.catch_warnings():\n",
    "            warnings.simplefilter('ignore')\n",
    "            \n",
    "            # Train model\n",
    "            model = LogisticRegression(random_state=12345, solver=solver)\n",
    "            model.fit(model_features, model_target)\n",
    "            score_valid = round(f1_score(lr_target_valid, model.predict(lr_features_valid)), 3) * 100\n",
    "            print('Solver:', solver)\n",
    "            print('Accuracy on the validation set:', round(accuracy_score(lr_target_valid, model.predict(lr_features_valid)), 3) * 100, '%')\n",
    "            print('F1 score on the validation set:', score_valid, '%')\n",
    "            print('')\n",
    "    \n",
    "    return"
   ]
  },
  {
   "cell_type": "code",
   "execution_count": 31,
   "metadata": {},
   "outputs": [
    {
     "name": "stdout",
     "output_type": "stream",
     "text": [
      "Solver: newton-cg\n",
      "Accuracy on the validation set: 70.1 %\n",
      "F1 score on the validation set: 48.9 %\n",
      "\n",
      "Solver: lbfgs\n",
      "Accuracy on the validation set: 65.2 %\n",
      "F1 score on the validation set: 45.1 %\n",
      "\n",
      "Solver: liblinear\n",
      "Accuracy on the validation set: 66.9 %\n",
      "F1 score on the validation set: 46.0 %\n",
      "\n",
      "Solver: sag\n",
      "Accuracy on the validation set: 49.6 %\n",
      "F1 score on the validation set: 36.9 %\n",
      "\n",
      "Solver: saga\n",
      "Accuracy on the validation set: 48.699999999999996 %\n",
      "F1 score on the validation set: 36.5 %\n",
      "\n"
     ]
    }
   ],
   "source": [
    "# Input appropriate fields for upsampled data\n",
    "solver_loop(solvers, lr_features_upsampled, lr_target_upsampled)"
   ]
  },
  {
   "cell_type": "markdown",
   "metadata": {},
   "source": [
    "#### Analysis\n",
    "\n",
    "Upsampling with the random trees model has produced a F1 of 62.18%. This is an improvement from 57.32% before balancing. Logistic regression has also seen increases in F1 scores to almost 30%."
   ]
  },
  {
   "cell_type": "markdown",
   "metadata": {},
   "source": [
    "#### Downsampling\n",
    "\n",
    "Instead of upsampling the number of observations where customers exited, downsampling the number of customers that stayed could also work. This works similarly to upsampling and follows these steps:\n",
    "\n",
    "1. Split data by target\n",
    "2. Randomly drop negative observations\n",
    "3. Shuffle data\n",
    "4. Train models\n",
    "\n",
    "As we already did the first step in upsampling, move onto the second."
   ]
  },
  {
   "cell_type": "code",
   "execution_count": 32,
   "metadata": {},
   "outputs": [
    {
     "name": "stdout",
     "output_type": "stream",
     "text": [
      "Number of observations where the customer stayed: 1196.0\n",
      "Number of observations where the customer left: 1196\n",
      "Ratio: 1.0\n"
     ]
    }
   ],
   "source": [
    "# 2. Randomly drop negative observations\n",
    "\n",
    "# Define fraction to drop\n",
    "fraction = len(target_ones)/len(target_zeros)\n",
    "\n",
    "\n",
    "# Drop negative observations for random forests\n",
    "rf_features_downsampled = pd.concat(\n",
    "    [rf_features_zeros.sample(frac=fraction, random_state=12345)]\n",
    "    + [rf_features_ones]) \n",
    "\n",
    "rf_target_downsampled = pd.concat(\n",
    "    [target_zeros.sample(frac=fraction, random_state=12345)]\n",
    "    + [target_ones])\n",
    "\n",
    "# Drop negative observations for logistic regression\n",
    "lr_features_downsampled = pd.concat(\n",
    "    [lr_features_zeros.sample(frac=fraction, random_state=12345)]\n",
    "    + [lr_features_ones])\n",
    "\n",
    "lr_target_downsampled = pd.concat(\n",
    "    [target_zeros.sample(frac=fraction, random_state=12345)]\n",
    "    + [target_ones])\n",
    "\n",
    "# Print lengths for target zeros and target ones\n",
    "print('Number of observations where the customer stayed:', len(target_zeros) * fraction)\n",
    "print('Number of observations where the customer left:', len(target_ones))\n",
    "print('Ratio:', round(len(target_zeros) * fraction/len(target_ones), 2))"
   ]
  },
  {
   "cell_type": "code",
   "execution_count": 33,
   "metadata": {},
   "outputs": [],
   "source": [
    "# 3. Shuffle data\n",
    "# Shuffle data for random forests\n",
    "rf_features_downsampled, rf_target_downsampled = shuffle(rf_features_downsampled, rf_target_downsampled, random_state=12345)\n",
    "\n",
    "# Repeat for logistic regression\n",
    "lr_features_downsampled, lr_target_downsampled = shuffle(lr_features_downsampled, lr_target_downsampled, random_state=12345)"
   ]
  },
  {
   "cell_type": "code",
   "execution_count": 34,
   "metadata": {},
   "outputs": [
    {
     "name": "stdout",
     "output_type": "stream",
     "text": [
      "F1 score of the best model: 60.12 %\n",
      "Found with 80 estimators and a depth of 8\n"
     ]
    }
   ],
   "source": [
    "# 4. Train Models\n",
    "\n",
    "# Train random forest model\n",
    "# Find the best F1 score for the model with accomodating max_depth and n_estimators\n",
    "\n",
    "best_score = 0\n",
    "best_est = 0\n",
    "best_depth = 0\n",
    "\n",
    "# Create loop to find the best accuracy score with different max_depths and n_estimators\n",
    "for est in range(10, 101, 10): # choose hyperparameter range\n",
    "    for depth in range(1, 11):\n",
    "        model = RandomForestClassifier(max_depth=depth, random_state=12345, n_estimators=est) # set number of trees\n",
    "        model.fit(rf_features_downsampled, rf_target_downsampled) # train model on training set\n",
    "        score = f1_score(rf_target_valid, model.predict(rf_features_valid)) # calculate f1 score on validation set\n",
    "        if score > best_score: # if f1 score is better than previous best, save model and its score\n",
    "            best_score = score\n",
    "            best_est = est\n",
    "            best_depth = depth\n",
    "\n",
    "print(\"F1 score of the best model:\", round(best_score*100,2), \"%\")\n",
    "print(\"Found with\", best_est, \"estimators and a depth of\", best_depth)"
   ]
  },
  {
   "cell_type": "code",
   "execution_count": 35,
   "metadata": {},
   "outputs": [],
   "source": [
    "# Train logistic regression model\n",
    "\n",
    "# Define a loop to find the best F1 score with different solvers\n",
    "def solver_loop(solvers, model_features, model_target):\n",
    "    \n",
    "    for solver in solvers:\n",
    "        # Ignore warnings\n",
    "        with warnings.catch_warnings():\n",
    "            warnings.simplefilter('ignore')\n",
    "            \n",
    "            # Train model\n",
    "            model = LogisticRegression(random_state=12345, solver=solver)\n",
    "            model.fit(model_features, model_target)\n",
    "            score_valid = round(f1_score(lr_target_valid, model.predict(lr_features_valid)), 3) * 100\n",
    "            print('Solver:', solver)\n",
    "            print('Accuracy on the validation set:', round(accuracy_score(lr_target_valid, model.predict(lr_features_valid)), 3) * 100, '%')\n",
    "            print('F1 score on the validation set:', score_valid, '%')\n",
    "    \n",
    "    return"
   ]
  },
  {
   "cell_type": "code",
   "execution_count": 36,
   "metadata": {},
   "outputs": [
    {
     "name": "stdout",
     "output_type": "stream",
     "text": [
      "Solver: newton-cg\n",
      "Accuracy on the validation set: 70.0 %\n",
      "F1 score on the validation set: 48.6 %\n",
      "Solver: lbfgs\n",
      "Accuracy on the validation set: 65.4 %\n",
      "F1 score on the validation set: 45.2 %\n",
      "Solver: liblinear\n",
      "Accuracy on the validation set: 65.3 %\n",
      "F1 score on the validation set: 45.0 %\n",
      "Solver: sag\n",
      "Accuracy on the validation set: 47.699999999999996 %\n",
      "F1 score on the validation set: 36.5 %\n",
      "Solver: saga\n",
      "Accuracy on the validation set: 47.699999999999996 %\n",
      "F1 score on the validation set: 36.5 %\n"
     ]
    }
   ],
   "source": [
    "# Input appropriate fields for upsampled data\n",
    "solver_loop(solvers, lr_features_downsampled, lr_target_downsampled)"
   ]
  },
  {
   "cell_type": "markdown",
   "metadata": {},
   "source": [
    "#### Analysis\n",
    "\n",
    "Downsampling produced similar, but slightly less ideal results than the upscaling method. "
   ]
  },
  {
   "cell_type": "markdown",
   "metadata": {},
   "source": [
    "### Threshold Adjustments\n",
    "\n",
    "Threshold adjustments may help improve the F1 score of the logistic regression models. By default this level is set to 0.5 as it asigns a probability of 0.5 to each target observation outcome. However, this can be changed by iterating through threshold values."
   ]
  },
  {
   "cell_type": "code",
   "execution_count": 48,
   "metadata": {},
   "outputs": [
    {
     "name": "stdout",
     "output_type": "stream",
     "text": [
      "Best solver: saga\n",
      "Threshold = 0.20 | Precision = 0.304, Recall = 0.646, F1 = 41.38 %\n"
     ]
    }
   ],
   "source": [
    "# Create a loop to find the best f1 score with different solvers\n",
    "for solver in solvers:\n",
    "    model = LogisticRegression(random_state=12345, solver='liblinear')\n",
    "    model.fit(lr_features_train, lr_target_train)\n",
    "    probabilities_valid = model.predict_proba(lr_features_valid)\n",
    "    probabilities_one_valid = probabilities_valid[:, 1]\n",
    "\n",
    "    best_f1 = 0\n",
    "    best_threshold = 0\n",
    "    best_precision = 0\n",
    "    best_recall = 0\n",
    "    best_solver = ''\n",
    "\n",
    "    for threshold in np.arange(0, 0.5, 0.02):\n",
    "        predicted_valid = probabilities_one_valid > threshold\n",
    "        precision = precision_score(lr_target_valid, predicted_valid)\n",
    "        recall = recall_score(lr_target_valid, predicted_valid)\n",
    "        f1 = precision * recall * 2 / (precision + recall)\n",
    "        if f1 > best_f1:\n",
    "            best_f1 = f1\n",
    "            best_threshold = threshold\n",
    "            best_precision = precision\n",
    "            best_recall = recall\n",
    "            best_solver = solver\n",
    "            \n",
    "print('Best solver:', best_solver)\n",
    "\n",
    "print(\n",
    "'Threshold = {:.2f} | Precision = {:.3f}, Recall = {:.3f}, F1 = {:.2f} %'.format(\n",
    "    best_threshold, best_precision, best_recall, best_f1 * 100))"
   ]
  },
  {
   "cell_type": "markdown",
   "metadata": {},
   "source": [
    "#### Analysis\n",
    "\n",
    "By changing threshold levels, the model was optimized for precision and recall. The best solver, 'saga', produced an F1 score of 41.3%. However, this is still lower than the random forests model.\n",
    "\n",
    "### AUC-ROC\n",
    "\n",
    "By iterating through the threshold, a curve that shows the relationship between the true positive rate (TPR) and false positive rate (FPR) can be made. A random model should show a consistent rise as each increases. However, a model that is better will show a curve that rises above. \n",
    "\n",
    "Once this is calculated, the area under the curve can be used to show how effective it may be. An area equal to one shows that the model is perfect, whereas a model that shows lower than 0.5 is worse than a random model.\n",
    "\n",
    "The AUC-ROC curve will be optimized for both random forest and logistic regression models.\n"
   ]
  },
  {
   "cell_type": "code",
   "execution_count": 122,
   "metadata": {},
   "outputs": [
    {
     "name": "stdout",
     "output_type": "stream",
     "text": [
      "Best AUC-ROC score: 0.85\n",
      "Found with 100 estimators and a depth of 8\n"
     ]
    }
   ],
   "source": [
    "# Set scores to 0\n",
    "best_auc_roc = 0\n",
    "best_est = 0\n",
    "best_depth = 0\n",
    "\n",
    "# Train random forest model with best hyperparameters\n",
    "for est in range(10, 101, 10): # choose hyperparameter range\n",
    "    for depth in range(4, 11):\n",
    "        model = RandomForestClassifier(max_depth=depth, random_state=12345, n_estimators=est) # set number of trees\n",
    "        model.fit(rf_features_train, rf_target_train) # train model on training set\n",
    "        # Get probabilities for the positive class\n",
    "        probabilities_valid = model.predict_proba(rf_features_valid)\n",
    "        probabilities_one_valid = probabilities_valid[:, 1]\n",
    "        auc_roc = roc_auc_score(rf_target_valid, probabilities_one_valid)\n",
    "        if auc_roc > best_auc_roc:\n",
    "            best_auc_roc = auc_roc\n",
    "            best_est = est\n",
    "            best_depth = depth     \n",
    "            \n",
    "# Print best AUC-ROC score\n",
    "print('Best AUC-ROC score:', round(best_auc_roc, 2))\n",
    "print('Found with', best_est, 'estimators and a depth of', best_depth) "
   ]
  },
  {
   "cell_type": "code",
   "execution_count": 94,
   "metadata": {},
   "outputs": [],
   "source": [
    "# Set model with best hyperparameters for \n",
    "model = RandomForestClassifier(max_depth=8, random_state=12345, n_estimators=100)\n",
    "\n",
    "def plot_roc_curve(model, features_train, target_train, features_valid, kind):\n",
    "    # Train model\n",
    "    model.fit(features_train, target_train)\n",
    "\n",
    "    # Get probabilities for the positive class\n",
    "    probabilities_valid = model.predict_proba(features_valid)\n",
    "\n",
    "    # Get probabilities for the positive class\n",
    "    probabilities_one_valid = probabilities_valid[:, 1]\n",
    "\n",
    "    # find fpr, tpr, thresholds with sklearn roc_curve function\n",
    "    fpr, tpr, thresholds = roc_curve(rf_target_valid, probabilities_one_valid)\n",
    "\n",
    "    # Create figure\n",
    "    fig = go.Figure()\n",
    "\n",
    "    # Plot ROC curve\n",
    "    fig.add_trace(go.Scatter(x=fpr, y=tpr,\n",
    "                        mode='lines',\n",
    "                        name='High quality model',\n",
    "                        line=dict(color='deeppink')))  # Set ROC curve color\n",
    "\n",
    "    # Plot line of random model\n",
    "    fig.add_trace(go.Scatter(x=[0, 1], y=[0, 1],\n",
    "                        mode='lines',\n",
    "                        name='Random model',\n",
    "                        line=dict(color='aqua')))  # Set Random model color\n",
    "\n",
    "    # Customize layout\n",
    "    fig.update_layout(\n",
    "        title=kind + ' ROC Curve',\n",
    "        xaxis=dict(title='False Positive Rate'),\n",
    "        yaxis=dict(title='True Positive Rate'),\n",
    "        width=700,\n",
    "        height=500,\n",
    "        template='plotly_dark',  # Change the template to 'plotly_dark' for a dark background \n",
    "        title_font_color='white'  # Change title font color\n",
    "    )\n",
    "\n",
    "    # save figure as png\n",
    "    fig.write_image(\"roc_curve\"+kind+\".png\")\n",
    "\n",
    "    # Show plot\n",
    "    fig.show()\n",
    "\n",
    "    # Calculate AUC score\n",
    "    auc_roc = roc_auc_score(rf_target_valid, probabilities_one_valid)\n",
    "\n",
    "    # Print AUC Score\n",
    "    print('Area Under Curve =', round(auc_roc,3))\n",
    "\n",
    "    return"
   ]
  },
  {
   "cell_type": "code",
   "execution_count": 95,
   "metadata": {},
   "outputs": [
    {
     "data": {
      "application/vnd.plotly.v1+json": {
       "config": {
        "plotlyServerURL": "https://plot.ly"
       },
       "data": [
        {
         "line": {
          "color": "deeppink"
         },
         "mode": "lines",
         "name": "High quality model",
         "type": "scatter",
         "x": [
          0,
          0,
          0,
          0.0006321112515802782,
          0.0006321112515802782,
          0.0012642225031605564,
          0.0012642225031605564,
          0.0018963337547408343,
          0.0018963337547408343,
          0.0025284450063211127,
          0.0025284450063211127,
          0.0031605562579013905,
          0.0031605562579013905,
          0.0037926675094816687,
          0.0037926675094816687,
          0.004424778761061947,
          0.004424778761061947,
          0.0050568900126422255,
          0.0050568900126422255,
          0.005689001264222503,
          0.005689001264222503,
          0.006321112515802781,
          0.006321112515802781,
          0.00695322376738306,
          0.00695322376738306,
          0.007585335018963337,
          0.007585335018963337,
          0.008217446270543615,
          0.008217446270543615,
          0.008849557522123894,
          0.008849557522123894,
          0.009481668773704172,
          0.009481668773704172,
          0.010113780025284451,
          0.010113780025284451,
          0.010745891276864728,
          0.010745891276864728,
          0.011378002528445006,
          0.011378002528445006,
          0.01327433628318584,
          0.01327433628318584,
          0.01390644753476612,
          0.01390644753476612,
          0.014538558786346398,
          0.014538558786346398,
          0.01706700379266751,
          0.01706700379266751,
          0.018963337547408345,
          0.018963337547408345,
          0.019595448798988623,
          0.019595448798988623,
          0.020227560050568902,
          0.020227560050568902,
          0.020859671302149177,
          0.020859671302149177,
          0.021491782553729456,
          0.021491782553729456,
          0.022756005056890013,
          0.022756005056890013,
          0.02465233881163085,
          0.02465233881163085,
          0.025916561314791402,
          0.025916561314791402,
          0.02654867256637168,
          0.02654867256637168,
          0.028445006321112517,
          0.028445006321112517,
          0.029077117572692796,
          0.029077117572692796,
          0.02970922882427307,
          0.02970922882427307,
          0.032237673830594185,
          0.032237673830594185,
          0.03413400758533502,
          0.03413400758533502,
          0.03603034134007586,
          0.03603034134007586,
          0.03666245259165613,
          0.03666245259165613,
          0.03982300884955752,
          0.03982300884955752,
          0.040455120101137804,
          0.040455120101137804,
          0.04108723135271808,
          0.04108723135271808,
          0.041719342604298354,
          0.041719342604298354,
          0.042351453855878636,
          0.042351453855878636,
          0.04298356510745891,
          0.04298356510745891,
          0.04361567635903919,
          0.04361567635903919,
          0.0461441213653603,
          0.0461441213653603,
          0.04677623261694058,
          0.04677623261694058,
          0.04740834386852086,
          0.04740834386852086,
          0.048672566371681415,
          0.048672566371681415,
          0.0493046776232617,
          0.0493046776232617,
          0.04993678887484197,
          0.04993678887484197,
          0.05056890012642225,
          0.05056890012642225,
          0.05120101137800253,
          0.05120101137800253,
          0.05246523388116309,
          0.05246523388116309,
          0.053729456384323644,
          0.053729456384323644,
          0.054993678887484194,
          0.054993678887484194,
          0.05562579013906448,
          0.05562579013906448,
          0.05752212389380531,
          0.05752212389380531,
          0.05815423514538559,
          0.05815423514538559,
          0.058786346396965866,
          0.058786346396965866,
          0.06005056890012642,
          0.06005056890012642,
          0.0632111251580278,
          0.0632111251580278,
          0.0638432364096081,
          0.0638432364096081,
          0.06637168141592921,
          0.06637168141592921,
          0.06700379266750948,
          0.06700379266750948,
          0.06763590391908976,
          0.06763590391908976,
          0.07079646017699115,
          0.07079646017699115,
          0.07395701643489254,
          0.07395701643489254,
          0.07458912768647281,
          0.07458912768647281,
          0.07585335018963338,
          0.07585335018963338,
          0.07711757269279393,
          0.07711757269279393,
          0.07964601769911504,
          0.07964601769911504,
          0.08027812895069532,
          0.08027812895069532,
          0.08280657395701643,
          0.08280657395701643,
          0.08343868520859671,
          0.08343868520859671,
          0.08786346396965866,
          0.08786346396965866,
          0.09165613147914033,
          0.09165613147914033,
          0.09292035398230089,
          0.09292035398230089,
          0.09418457648546144,
          0.09418457648546144,
          0.09481668773704172,
          0.09481668773704172,
          0.09608091024020228,
          0.09608091024020228,
          0.0979772439949431,
          0.0979772439949431,
          0.0986093552465234,
          0.0986093552465234,
          0.10050568900126422,
          0.10050568900126422,
          0.1011378002528445,
          0.1011378002528445,
          0.10556257901390645,
          0.10556257901390645,
          0.10619469026548672,
          0.10619469026548672,
          0.10872313527180784,
          0.10872313527180784,
          0.11061946902654868,
          0.11061946902654868,
          0.1125158027812895,
          0.1125158027812895,
          0.11314791403286978,
          0.11314791403286978,
          0.11694058154235146,
          0.11694058154235146,
          0.12010113780025285,
          0.12010113780025285,
          0.12199747155499367,
          0.12199747155499367,
          0.12262958280657396,
          0.12262958280657396,
          0.1264222503160556,
          0.1264222503160556,
          0.12831858407079647,
          0.12831858407079647,
          0.12895069532237674,
          0.12895069532237674,
          0.13274336283185842,
          0.13274336283185842,
          0.1333754740834387,
          0.1333754740834387,
          0.13780025284450062,
          0.13780025284450062,
          0.1390644753476612,
          0.1390644753476612,
          0.14222503160556257,
          0.14222503160556257,
          0.14917825537294563,
          0.14917825537294563,
          0.15170670037926676,
          0.15170670037926676,
          0.15233881163084703,
          0.15233881163084703,
          0.15676359039190899,
          0.15676359039190899,
          0.15739570164348926,
          0.15739570164348926,
          0.1586599241466498,
          0.1586599241466498,
          0.1611883691529709,
          0.1611883691529709,
          0.16561314791403287,
          0.16561314791403287,
          0.17446270543615677,
          0.17446270543615677,
          0.17825537294563842,
          0.17825537294563842,
          0.1788874841972187,
          0.1788874841972187,
          0.18078381795195955,
          0.18078381795195955,
          0.18141592920353983,
          0.18141592920353983,
          0.1820480404551201,
          0.1820480404551201,
          0.19152970922882429,
          0.19152970922882429,
          0.19469026548672566,
          0.19469026548672566,
          0.19532237673830594,
          0.19532237673830594,
          0.1959544879898862,
          0.1959544879898862,
          0.20037926675094817,
          0.20037926675094817,
          0.202275600505689,
          0.202275600505689,
          0.20859671302149177,
          0.20859671302149177,
          0.21049304677623262,
          0.21049304677623262,
          0.21238938053097345,
          0.21238938053097345,
          0.21428571428571427,
          0.21428571428571427,
          0.22060682680151708,
          0.22060682680151708,
          0.225031605562579,
          0.225031605562579,
          0.23388116308470291,
          0.23388116308470291,
          0.23577749683944374,
          0.23577749683944374,
          0.24715549936788875,
          0.24715549936788875,
          0.24905183312262957,
          0.24905183312262957,
          0.2528445006321112,
          0.2528445006321112,
          0.2547408343868521,
          0.2547408343868521,
          0.2553729456384324,
          0.2553729456384324,
          0.26169405815423513,
          0.26169405815423513,
          0.2743362831858407,
          0.2743362831858407,
          0.27623261694058154,
          0.27623261694058154,
          0.2831858407079646,
          0.2831858407079646,
          0.2838179519595449,
          0.2838179519595449,
          0.29898862199747156,
          0.29898862199747156,
          0.3008849557522124,
          0.3008849557522124,
          0.30151706700379266,
          0.30151706700379266,
          0.3053097345132743,
          0.3053097345132743,
          0.3109987357774968,
          0.3109987357774968,
          0.3166877370417193,
          0.3166877370417193,
          0.3223767383059418,
          0.3223767383059418,
          0.324905183312263,
          0.324905183312263,
          0.33185840707964603,
          0.33185840707964603,
          0.3527180783817952,
          0.3527180783817952,
          0.35651074589127685,
          0.35651074589127685,
          0.3609355246523388,
          0.3609355246523388,
          0.3647281921618205,
          0.3647281921618205,
          0.3697850821744627,
          0.3697850821744627,
          0.37168141592920356,
          0.37168141592920356,
          0.3729456384323641,
          0.3729456384323641,
          0.3754740834386852,
          0.3754740834386852,
          0.3786346396965866,
          0.3786346396965866,
          0.37926675094816686,
          0.37926675094816686,
          0.38305941845764857,
          0.38305941845764857,
          0.3950695322376738,
          0.3950695322376738,
          0.404551201011378,
          0.404551201011378,
          0.4254108723135272,
          0.4254108723135272,
          0.4304677623261694,
          0.4304677623261694,
          0.43489254108723135,
          0.43489254108723135,
          0.43994943109987356,
          0.43994943109987356,
          0.44943109987357777,
          0.44943109987357777,
          0.45195954487989887,
          0.45195954487989887,
          0.4538558786346397,
          0.4538558786346397,
          0.45448798988621997,
          0.45448798988621997,
          0.45512010113780027,
          0.45512010113780027,
          0.4557522123893805,
          0.4557522123893805,
          0.4620733249051833,
          0.4620733249051833,
          0.47724399494311,
          0.47724399494311,
          0.47850821744627053,
          0.47850821744627053,
          0.4804045512010114,
          0.4804045512010114,
          0.4823008849557522,
          0.4823008849557522,
          0.5018963337547409,
          0.5018963337547409,
          0.5094816687737042,
          0.5094816687737042,
          0.5132743362831859,
          0.5132743362831859,
          0.5246523388116309,
          0.5246523388116309,
          0.5259165613147914,
          0.5259165613147914,
          0.5265486725663717,
          0.5265486725663717,
          0.5309734513274337,
          0.5309734513274337,
          0.538558786346397,
          0.538558786346397,
          0.5404551201011378,
          0.5404551201011378,
          0.5448798988621998,
          0.5448798988621998,
          0.5562579013906448,
          0.5562579013906448,
          0.5587863463969659,
          0.5587863463969659,
          0.5625790139064475,
          0.5625790139064475,
          0.565739570164349,
          0.565739570164349,
          0.5821744627054362,
          0.5821744627054362,
          0.6308470290771175,
          0.6308470290771175,
          0.6460176991150443,
          0.6460176991150443,
          0.6662452591656132,
          0.6662452591656132,
          0.6940581542351454,
          0.6940581542351454,
          0.6946902654867256,
          0.6946902654867256,
          0.7218710493046776,
          0.7218710493046776,
          0.7326169405815424,
          0.7326169405815424,
          0.7376738305941846,
          0.7376738305941846,
          0.7541087231352718,
          0.7541087231352718,
          0.7768647281921618,
          0.7768647281921618,
          0.7774968394437421,
          0.7774968394437421,
          0.7787610619469026,
          0.7787610619469026,
          0.7964601769911505,
          0.7964601769911505,
          0.8021491782553729,
          0.8021491782553729,
          0.8135271807838179,
          0.8135271807838179,
          0.8230088495575221,
          0.8230088495575221,
          0.8476611883691529,
          0.8476611883691529,
          0.861567635903919,
          0.861567635903919,
          0.8710493046776233,
          0.8710493046776233,
          0.8754740834386852,
          0.8754740834386852,
          0.8893805309734514,
          0.8893805309734514,
          0.9810366624525917,
          0.9810366624525917,
          1
         ],
         "y": [
          0,
          0.0023923444976076554,
          0.05502392344497608,
          0.05502392344497608,
          0.07177033492822966,
          0.07177033492822966,
          0.10047846889952153,
          0.10047846889952153,
          0.11722488038277512,
          0.11722488038277512,
          0.14832535885167464,
          0.14832535885167464,
          0.15311004784688995,
          0.15311004784688995,
          0.18899521531100477,
          0.18899521531100477,
          0.215311004784689,
          0.215311004784689,
          0.24880382775119617,
          0.24880382775119617,
          0.2607655502392344,
          0.2607655502392344,
          0.2703349282296651,
          0.2703349282296651,
          0.291866028708134,
          0.291866028708134,
          0.2942583732057416,
          0.2942583732057416,
          0.3062200956937799,
          0.3062200956937799,
          0.30861244019138756,
          0.30861244019138756,
          0.3157894736842105,
          0.3157894736842105,
          0.3229665071770335,
          0.3229665071770335,
          0.3492822966507177,
          0.3492822966507177,
          0.35167464114832536,
          0.35167464114832536,
          0.36363636363636365,
          0.36363636363636365,
          0.3708133971291866,
          0.3708133971291866,
          0.37320574162679426,
          0.37320574162679426,
          0.38516746411483255,
          0.38516746411483255,
          0.3923444976076555,
          0.3923444976076555,
          0.39712918660287083,
          0.39712918660287083,
          0.4043062200956938,
          0.4043062200956938,
          0.4090909090909091,
          0.4090909090909091,
          0.41148325358851673,
          0.41148325358851673,
          0.423444976076555,
          0.423444976076555,
          0.4258373205741627,
          0.4258373205741627,
          0.43301435406698563,
          0.43301435406698563,
          0.4449760765550239,
          0.4449760765550239,
          0.4473684210526316,
          0.4473684210526316,
          0.44976076555023925,
          0.44976076555023925,
          0.45215311004784686,
          0.45215311004784686,
          0.45454545454545453,
          0.45454545454545453,
          0.45933014354066987,
          0.45933014354066987,
          0.46172248803827753,
          0.46172248803827753,
          0.4665071770334928,
          0.4665071770334928,
          0.4688995215311005,
          0.4688995215311005,
          0.47129186602870815,
          0.47129186602870815,
          0.47368421052631576,
          0.47368421052631576,
          0.4784688995215311,
          0.4784688995215311,
          0.48564593301435405,
          0.48564593301435405,
          0.4904306220095694,
          0.4904306220095694,
          0.49282296650717705,
          0.49282296650717705,
          0.49521531100478466,
          0.49521531100478466,
          0.49760765550239233,
          0.49760765550239233,
          0.5,
          0.5,
          0.507177033492823,
          0.507177033492823,
          0.5119617224880383,
          0.5119617224880383,
          0.5167464114832536,
          0.5167464114832536,
          0.5191387559808612,
          0.5191387559808612,
          0.5215311004784688,
          0.5215311004784688,
          0.5287081339712919,
          0.5287081339712919,
          0.5334928229665071,
          0.5334928229665071,
          0.5358851674641149,
          0.5358851674641149,
          0.5406698564593302,
          0.5406698564593302,
          0.5454545454545454,
          0.5454545454545454,
          0.5550239234449761,
          0.5550239234449761,
          0.5574162679425837,
          0.5574162679425837,
          0.5598086124401914,
          0.5598086124401914,
          0.562200956937799,
          0.562200956937799,
          0.5645933014354066,
          0.5645933014354066,
          0.5669856459330144,
          0.5669856459330144,
          0.5717703349282297,
          0.5717703349282297,
          0.5741626794258373,
          0.5741626794258373,
          0.5789473684210527,
          0.5789473684210527,
          0.5813397129186603,
          0.5813397129186603,
          0.583732057416268,
          0.583732057416268,
          0.5861244019138756,
          0.5861244019138756,
          0.5885167464114832,
          0.5885167464114832,
          0.5909090909090909,
          0.5909090909090909,
          0.5956937799043063,
          0.5956937799043063,
          0.5980861244019139,
          0.5980861244019139,
          0.6028708133971292,
          0.6028708133971292,
          0.6076555023923444,
          0.6076555023923444,
          0.6100478468899522,
          0.6100478468899522,
          0.6172248803827751,
          0.6172248803827751,
          0.6196172248803827,
          0.6196172248803827,
          0.6220095693779905,
          0.6220095693779905,
          0.6267942583732058,
          0.6267942583732058,
          0.631578947368421,
          0.631578947368421,
          0.6339712918660287,
          0.6339712918660287,
          0.6363636363636364,
          0.6363636363636364,
          0.638755980861244,
          0.638755980861244,
          0.6435406698564593,
          0.6435406698564593,
          0.6483253588516746,
          0.6483253588516746,
          0.6507177033492823,
          0.6507177033492823,
          0.65311004784689,
          0.65311004784689,
          0.6555023923444976,
          0.6555023923444976,
          0.6578947368421053,
          0.6578947368421053,
          0.6602870813397129,
          0.6602870813397129,
          0.6626794258373205,
          0.6626794258373205,
          0.6650717703349283,
          0.6650717703349283,
          0.6698564593301436,
          0.6698564593301436,
          0.6722488038277512,
          0.6722488038277512,
          0.6746411483253588,
          0.6746411483253588,
          0.6770334928229665,
          0.6770334928229665,
          0.6818181818181818,
          0.6818181818181818,
          0.6866028708133971,
          0.6866028708133971,
          0.6889952153110048,
          0.6889952153110048,
          0.6913875598086124,
          0.6913875598086124,
          0.6985645933014354,
          0.6985645933014354,
          0.7057416267942583,
          0.7057416267942583,
          0.7081339712918661,
          0.7081339712918661,
          0.7105263157894737,
          0.7105263157894737,
          0.715311004784689,
          0.715311004784689,
          0.7177033492822966,
          0.7177033492822966,
          0.7200956937799043,
          0.7200956937799043,
          0.722488038277512,
          0.722488038277512,
          0.7272727272727273,
          0.7272727272727273,
          0.7296650717703349,
          0.7296650717703349,
          0.7320574162679426,
          0.7320574162679426,
          0.7344497607655502,
          0.7344497607655502,
          0.7368421052631579,
          0.7368421052631579,
          0.7392344497607656,
          0.7392344497607656,
          0.7416267942583732,
          0.7416267942583732,
          0.7440191387559809,
          0.7440191387559809,
          0.7488038277511961,
          0.7488038277511961,
          0.7511961722488039,
          0.7511961722488039,
          0.7559808612440191,
          0.7559808612440191,
          0.7583732057416268,
          0.7583732057416268,
          0.7607655502392344,
          0.7607655502392344,
          0.7631578947368421,
          0.7631578947368421,
          0.7655502392344498,
          0.7655502392344498,
          0.7679425837320574,
          0.7679425837320574,
          0.7703349282296651,
          0.7703349282296651,
          0.7751196172248804,
          0.7751196172248804,
          0.777511961722488,
          0.777511961722488,
          0.7799043062200957,
          0.7799043062200957,
          0.7822966507177034,
          0.7822966507177034,
          0.784688995215311,
          0.784688995215311,
          0.7870813397129187,
          0.7870813397129187,
          0.7894736842105263,
          0.7894736842105263,
          0.7918660287081339,
          0.7918660287081339,
          0.7942583732057417,
          0.7942583732057417,
          0.7966507177033493,
          0.7966507177033493,
          0.8038277511961722,
          0.8038277511961722,
          0.80622009569378,
          0.80622009569378,
          0.8086124401913876,
          0.8086124401913876,
          0.8110047846889952,
          0.8110047846889952,
          0.8133971291866029,
          0.8133971291866029,
          0.8157894736842105,
          0.8157894736842105,
          0.8181818181818182,
          0.8181818181818182,
          0.8205741626794258,
          0.8205741626794258,
          0.8253588516746412,
          0.8253588516746412,
          0.8277511961722488,
          0.8277511961722488,
          0.8301435406698564,
          0.8301435406698564,
          0.8349282296650717,
          0.8349282296650717,
          0.8373205741626795,
          0.8373205741626795,
          0.8397129186602871,
          0.8397129186602871,
          0.8421052631578947,
          0.8421052631578947,
          0.8444976076555024,
          0.8444976076555024,
          0.84688995215311,
          0.84688995215311,
          0.8492822966507177,
          0.8492822966507177,
          0.8516746411483254,
          0.8516746411483254,
          0.854066985645933,
          0.854066985645933,
          0.8564593301435407,
          0.8564593301435407,
          0.8588516746411483,
          0.8588516746411483,
          0.861244019138756,
          0.861244019138756,
          0.8636363636363636,
          0.8636363636363636,
          0.8660287081339713,
          0.8660287081339713,
          0.868421052631579,
          0.868421052631579,
          0.8708133971291866,
          0.8708133971291866,
          0.8732057416267942,
          0.8732057416267942,
          0.8755980861244019,
          0.8755980861244019,
          0.8779904306220095,
          0.8779904306220095,
          0.8803827751196173,
          0.8803827751196173,
          0.8851674641148325,
          0.8851674641148325,
          0.8875598086124402,
          0.8875598086124402,
          0.8899521531100478,
          0.8899521531100478,
          0.8923444976076556,
          0.8923444976076556,
          0.8947368421052632,
          0.8947368421052632,
          0.8971291866028708,
          0.8971291866028708,
          0.8995215311004785,
          0.8995215311004785,
          0.9019138755980861,
          0.9019138755980861,
          0.9043062200956937,
          0.9043062200956937,
          0.9066985645933014,
          0.9066985645933014,
          0.9090909090909091,
          0.9090909090909091,
          0.9114832535885168,
          0.9114832535885168,
          0.9138755980861244,
          0.9138755980861244,
          0.916267942583732,
          0.916267942583732,
          0.9186602870813397,
          0.9186602870813397,
          0.9210526315789473,
          0.9210526315789473,
          0.9234449760765551,
          0.9234449760765551,
          0.9258373205741627,
          0.9258373205741627,
          0.9282296650717703,
          0.9282296650717703,
          0.930622009569378,
          0.930622009569378,
          0.9330143540669856,
          0.9330143540669856,
          0.9354066985645934,
          0.9354066985645934,
          0.937799043062201,
          0.937799043062201,
          0.9401913875598086,
          0.9401913875598086,
          0.9425837320574163,
          0.9425837320574163,
          0.9449760765550239,
          0.9449760765550239,
          0.9473684210526315,
          0.9473684210526315,
          0.9497607655502392,
          0.9497607655502392,
          0.9521531100478469,
          0.9521531100478469,
          0.9545454545454546,
          0.9545454545454546,
          0.9569377990430622,
          0.9569377990430622,
          0.9593301435406698,
          0.9593301435406698,
          0.9617224880382775,
          0.9617224880382775,
          0.9641148325358851,
          0.9641148325358851,
          0.9688995215311005,
          0.9688995215311005,
          0.9712918660287081,
          0.9712918660287081,
          0.9736842105263158,
          0.9736842105263158,
          0.9760765550239234,
          0.9760765550239234,
          0.9784688995215312,
          0.9784688995215312,
          0.9808612440191388,
          0.9808612440191388,
          0.9832535885167464,
          0.9832535885167464,
          0.9856459330143541,
          0.9856459330143541,
          0.9880382775119617,
          0.9880382775119617,
          0.9904306220095693,
          0.9904306220095693,
          0.9952153110047847,
          0.9952153110047847,
          0.9976076555023924,
          0.9976076555023924,
          1,
          1
         ]
        },
        {
         "line": {
          "color": "aqua"
         },
         "mode": "lines",
         "name": "Random model",
         "type": "scatter",
         "x": [
          0,
          1
         ],
         "y": [
          0,
          1
         ]
        }
       ],
       "layout": {
        "height": 500,
        "template": {
         "data": {
          "bar": [
           {
            "error_x": {
             "color": "#f2f5fa"
            },
            "error_y": {
             "color": "#f2f5fa"
            },
            "marker": {
             "line": {
              "color": "rgb(17,17,17)",
              "width": 0.5
             },
             "pattern": {
              "fillmode": "overlay",
              "size": 10,
              "solidity": 0.2
             }
            },
            "type": "bar"
           }
          ],
          "barpolar": [
           {
            "marker": {
             "line": {
              "color": "rgb(17,17,17)",
              "width": 0.5
             },
             "pattern": {
              "fillmode": "overlay",
              "size": 10,
              "solidity": 0.2
             }
            },
            "type": "barpolar"
           }
          ],
          "carpet": [
           {
            "aaxis": {
             "endlinecolor": "#A2B1C6",
             "gridcolor": "#506784",
             "linecolor": "#506784",
             "minorgridcolor": "#506784",
             "startlinecolor": "#A2B1C6"
            },
            "baxis": {
             "endlinecolor": "#A2B1C6",
             "gridcolor": "#506784",
             "linecolor": "#506784",
             "minorgridcolor": "#506784",
             "startlinecolor": "#A2B1C6"
            },
            "type": "carpet"
           }
          ],
          "choropleth": [
           {
            "colorbar": {
             "outlinewidth": 0,
             "ticks": ""
            },
            "type": "choropleth"
           }
          ],
          "contour": [
           {
            "colorbar": {
             "outlinewidth": 0,
             "ticks": ""
            },
            "colorscale": [
             [
              0,
              "#0d0887"
             ],
             [
              0.1111111111111111,
              "#46039f"
             ],
             [
              0.2222222222222222,
              "#7201a8"
             ],
             [
              0.3333333333333333,
              "#9c179e"
             ],
             [
              0.4444444444444444,
              "#bd3786"
             ],
             [
              0.5555555555555556,
              "#d8576b"
             ],
             [
              0.6666666666666666,
              "#ed7953"
             ],
             [
              0.7777777777777778,
              "#fb9f3a"
             ],
             [
              0.8888888888888888,
              "#fdca26"
             ],
             [
              1,
              "#f0f921"
             ]
            ],
            "type": "contour"
           }
          ],
          "contourcarpet": [
           {
            "colorbar": {
             "outlinewidth": 0,
             "ticks": ""
            },
            "type": "contourcarpet"
           }
          ],
          "heatmap": [
           {
            "colorbar": {
             "outlinewidth": 0,
             "ticks": ""
            },
            "colorscale": [
             [
              0,
              "#0d0887"
             ],
             [
              0.1111111111111111,
              "#46039f"
             ],
             [
              0.2222222222222222,
              "#7201a8"
             ],
             [
              0.3333333333333333,
              "#9c179e"
             ],
             [
              0.4444444444444444,
              "#bd3786"
             ],
             [
              0.5555555555555556,
              "#d8576b"
             ],
             [
              0.6666666666666666,
              "#ed7953"
             ],
             [
              0.7777777777777778,
              "#fb9f3a"
             ],
             [
              0.8888888888888888,
              "#fdca26"
             ],
             [
              1,
              "#f0f921"
             ]
            ],
            "type": "heatmap"
           }
          ],
          "heatmapgl": [
           {
            "colorbar": {
             "outlinewidth": 0,
             "ticks": ""
            },
            "colorscale": [
             [
              0,
              "#0d0887"
             ],
             [
              0.1111111111111111,
              "#46039f"
             ],
             [
              0.2222222222222222,
              "#7201a8"
             ],
             [
              0.3333333333333333,
              "#9c179e"
             ],
             [
              0.4444444444444444,
              "#bd3786"
             ],
             [
              0.5555555555555556,
              "#d8576b"
             ],
             [
              0.6666666666666666,
              "#ed7953"
             ],
             [
              0.7777777777777778,
              "#fb9f3a"
             ],
             [
              0.8888888888888888,
              "#fdca26"
             ],
             [
              1,
              "#f0f921"
             ]
            ],
            "type": "heatmapgl"
           }
          ],
          "histogram": [
           {
            "marker": {
             "pattern": {
              "fillmode": "overlay",
              "size": 10,
              "solidity": 0.2
             }
            },
            "type": "histogram"
           }
          ],
          "histogram2d": [
           {
            "colorbar": {
             "outlinewidth": 0,
             "ticks": ""
            },
            "colorscale": [
             [
              0,
              "#0d0887"
             ],
             [
              0.1111111111111111,
              "#46039f"
             ],
             [
              0.2222222222222222,
              "#7201a8"
             ],
             [
              0.3333333333333333,
              "#9c179e"
             ],
             [
              0.4444444444444444,
              "#bd3786"
             ],
             [
              0.5555555555555556,
              "#d8576b"
             ],
             [
              0.6666666666666666,
              "#ed7953"
             ],
             [
              0.7777777777777778,
              "#fb9f3a"
             ],
             [
              0.8888888888888888,
              "#fdca26"
             ],
             [
              1,
              "#f0f921"
             ]
            ],
            "type": "histogram2d"
           }
          ],
          "histogram2dcontour": [
           {
            "colorbar": {
             "outlinewidth": 0,
             "ticks": ""
            },
            "colorscale": [
             [
              0,
              "#0d0887"
             ],
             [
              0.1111111111111111,
              "#46039f"
             ],
             [
              0.2222222222222222,
              "#7201a8"
             ],
             [
              0.3333333333333333,
              "#9c179e"
             ],
             [
              0.4444444444444444,
              "#bd3786"
             ],
             [
              0.5555555555555556,
              "#d8576b"
             ],
             [
              0.6666666666666666,
              "#ed7953"
             ],
             [
              0.7777777777777778,
              "#fb9f3a"
             ],
             [
              0.8888888888888888,
              "#fdca26"
             ],
             [
              1,
              "#f0f921"
             ]
            ],
            "type": "histogram2dcontour"
           }
          ],
          "mesh3d": [
           {
            "colorbar": {
             "outlinewidth": 0,
             "ticks": ""
            },
            "type": "mesh3d"
           }
          ],
          "parcoords": [
           {
            "line": {
             "colorbar": {
              "outlinewidth": 0,
              "ticks": ""
             }
            },
            "type": "parcoords"
           }
          ],
          "pie": [
           {
            "automargin": true,
            "type": "pie"
           }
          ],
          "scatter": [
           {
            "marker": {
             "line": {
              "color": "#283442"
             }
            },
            "type": "scatter"
           }
          ],
          "scatter3d": [
           {
            "line": {
             "colorbar": {
              "outlinewidth": 0,
              "ticks": ""
             }
            },
            "marker": {
             "colorbar": {
              "outlinewidth": 0,
              "ticks": ""
             }
            },
            "type": "scatter3d"
           }
          ],
          "scattercarpet": [
           {
            "marker": {
             "colorbar": {
              "outlinewidth": 0,
              "ticks": ""
             }
            },
            "type": "scattercarpet"
           }
          ],
          "scattergeo": [
           {
            "marker": {
             "colorbar": {
              "outlinewidth": 0,
              "ticks": ""
             }
            },
            "type": "scattergeo"
           }
          ],
          "scattergl": [
           {
            "marker": {
             "line": {
              "color": "#283442"
             }
            },
            "type": "scattergl"
           }
          ],
          "scattermapbox": [
           {
            "marker": {
             "colorbar": {
              "outlinewidth": 0,
              "ticks": ""
             }
            },
            "type": "scattermapbox"
           }
          ],
          "scatterpolar": [
           {
            "marker": {
             "colorbar": {
              "outlinewidth": 0,
              "ticks": ""
             }
            },
            "type": "scatterpolar"
           }
          ],
          "scatterpolargl": [
           {
            "marker": {
             "colorbar": {
              "outlinewidth": 0,
              "ticks": ""
             }
            },
            "type": "scatterpolargl"
           }
          ],
          "scatterternary": [
           {
            "marker": {
             "colorbar": {
              "outlinewidth": 0,
              "ticks": ""
             }
            },
            "type": "scatterternary"
           }
          ],
          "surface": [
           {
            "colorbar": {
             "outlinewidth": 0,
             "ticks": ""
            },
            "colorscale": [
             [
              0,
              "#0d0887"
             ],
             [
              0.1111111111111111,
              "#46039f"
             ],
             [
              0.2222222222222222,
              "#7201a8"
             ],
             [
              0.3333333333333333,
              "#9c179e"
             ],
             [
              0.4444444444444444,
              "#bd3786"
             ],
             [
              0.5555555555555556,
              "#d8576b"
             ],
             [
              0.6666666666666666,
              "#ed7953"
             ],
             [
              0.7777777777777778,
              "#fb9f3a"
             ],
             [
              0.8888888888888888,
              "#fdca26"
             ],
             [
              1,
              "#f0f921"
             ]
            ],
            "type": "surface"
           }
          ],
          "table": [
           {
            "cells": {
             "fill": {
              "color": "#506784"
             },
             "line": {
              "color": "rgb(17,17,17)"
             }
            },
            "header": {
             "fill": {
              "color": "#2a3f5f"
             },
             "line": {
              "color": "rgb(17,17,17)"
             }
            },
            "type": "table"
           }
          ]
         },
         "layout": {
          "annotationdefaults": {
           "arrowcolor": "#f2f5fa",
           "arrowhead": 0,
           "arrowwidth": 1
          },
          "autotypenumbers": "strict",
          "coloraxis": {
           "colorbar": {
            "outlinewidth": 0,
            "ticks": ""
           }
          },
          "colorscale": {
           "diverging": [
            [
             0,
             "#8e0152"
            ],
            [
             0.1,
             "#c51b7d"
            ],
            [
             0.2,
             "#de77ae"
            ],
            [
             0.3,
             "#f1b6da"
            ],
            [
             0.4,
             "#fde0ef"
            ],
            [
             0.5,
             "#f7f7f7"
            ],
            [
             0.6,
             "#e6f5d0"
            ],
            [
             0.7,
             "#b8e186"
            ],
            [
             0.8,
             "#7fbc41"
            ],
            [
             0.9,
             "#4d9221"
            ],
            [
             1,
             "#276419"
            ]
           ],
           "sequential": [
            [
             0,
             "#0d0887"
            ],
            [
             0.1111111111111111,
             "#46039f"
            ],
            [
             0.2222222222222222,
             "#7201a8"
            ],
            [
             0.3333333333333333,
             "#9c179e"
            ],
            [
             0.4444444444444444,
             "#bd3786"
            ],
            [
             0.5555555555555556,
             "#d8576b"
            ],
            [
             0.6666666666666666,
             "#ed7953"
            ],
            [
             0.7777777777777778,
             "#fb9f3a"
            ],
            [
             0.8888888888888888,
             "#fdca26"
            ],
            [
             1,
             "#f0f921"
            ]
           ],
           "sequentialminus": [
            [
             0,
             "#0d0887"
            ],
            [
             0.1111111111111111,
             "#46039f"
            ],
            [
             0.2222222222222222,
             "#7201a8"
            ],
            [
             0.3333333333333333,
             "#9c179e"
            ],
            [
             0.4444444444444444,
             "#bd3786"
            ],
            [
             0.5555555555555556,
             "#d8576b"
            ],
            [
             0.6666666666666666,
             "#ed7953"
            ],
            [
             0.7777777777777778,
             "#fb9f3a"
            ],
            [
             0.8888888888888888,
             "#fdca26"
            ],
            [
             1,
             "#f0f921"
            ]
           ]
          },
          "colorway": [
           "#636efa",
           "#EF553B",
           "#00cc96",
           "#ab63fa",
           "#FFA15A",
           "#19d3f3",
           "#FF6692",
           "#B6E880",
           "#FF97FF",
           "#FECB52"
          ],
          "font": {
           "color": "#f2f5fa"
          },
          "geo": {
           "bgcolor": "rgb(17,17,17)",
           "lakecolor": "rgb(17,17,17)",
           "landcolor": "rgb(17,17,17)",
           "showlakes": true,
           "showland": true,
           "subunitcolor": "#506784"
          },
          "hoverlabel": {
           "align": "left"
          },
          "hovermode": "closest",
          "mapbox": {
           "style": "dark"
          },
          "paper_bgcolor": "rgb(17,17,17)",
          "plot_bgcolor": "rgb(17,17,17)",
          "polar": {
           "angularaxis": {
            "gridcolor": "#506784",
            "linecolor": "#506784",
            "ticks": ""
           },
           "bgcolor": "rgb(17,17,17)",
           "radialaxis": {
            "gridcolor": "#506784",
            "linecolor": "#506784",
            "ticks": ""
           }
          },
          "scene": {
           "xaxis": {
            "backgroundcolor": "rgb(17,17,17)",
            "gridcolor": "#506784",
            "gridwidth": 2,
            "linecolor": "#506784",
            "showbackground": true,
            "ticks": "",
            "zerolinecolor": "#C8D4E3"
           },
           "yaxis": {
            "backgroundcolor": "rgb(17,17,17)",
            "gridcolor": "#506784",
            "gridwidth": 2,
            "linecolor": "#506784",
            "showbackground": true,
            "ticks": "",
            "zerolinecolor": "#C8D4E3"
           },
           "zaxis": {
            "backgroundcolor": "rgb(17,17,17)",
            "gridcolor": "#506784",
            "gridwidth": 2,
            "linecolor": "#506784",
            "showbackground": true,
            "ticks": "",
            "zerolinecolor": "#C8D4E3"
           }
          },
          "shapedefaults": {
           "line": {
            "color": "#f2f5fa"
           }
          },
          "sliderdefaults": {
           "bgcolor": "#C8D4E3",
           "bordercolor": "rgb(17,17,17)",
           "borderwidth": 1,
           "tickwidth": 0
          },
          "ternary": {
           "aaxis": {
            "gridcolor": "#506784",
            "linecolor": "#506784",
            "ticks": ""
           },
           "baxis": {
            "gridcolor": "#506784",
            "linecolor": "#506784",
            "ticks": ""
           },
           "bgcolor": "rgb(17,17,17)",
           "caxis": {
            "gridcolor": "#506784",
            "linecolor": "#506784",
            "ticks": ""
           }
          },
          "title": {
           "x": 0.05
          },
          "updatemenudefaults": {
           "bgcolor": "#506784",
           "borderwidth": 0
          },
          "xaxis": {
           "automargin": true,
           "gridcolor": "#283442",
           "linecolor": "#506784",
           "ticks": "",
           "title": {
            "standoff": 15
           },
           "zerolinecolor": "#283442",
           "zerolinewidth": 2
          },
          "yaxis": {
           "automargin": true,
           "gridcolor": "#283442",
           "linecolor": "#506784",
           "ticks": "",
           "title": {
            "standoff": 15
           },
           "zerolinecolor": "#283442",
           "zerolinewidth": 2
          }
         }
        },
        "title": {
         "font": {
          "color": "white"
         },
         "text": "Random Forest ROC Curve"
        },
        "width": 700,
        "xaxis": {
         "title": {
          "text": "False Positive Rate"
         }
        },
        "yaxis": {
         "title": {
          "text": "True Positive Rate"
         }
        }
       }
      }
     },
     "metadata": {},
     "output_type": "display_data"
    },
    {
     "name": "stdout",
     "output_type": "stream",
     "text": [
      "Area Under Curve = 0.852\n"
     ]
    }
   ],
   "source": [
    "# Plot ROC curve\n",
    "plot_roc_curve(model, rf_features_train, rf_target_train, rf_features_valid, 'Random Forest')"
   ]
  },
  {
   "cell_type": "code",
   "execution_count": 111,
   "metadata": {},
   "outputs": [
    {
     "name": "stdout",
     "output_type": "stream",
     "text": [
      "Best AUC-ROC score: 0.759\n",
      "Found with newton-cg solver and max_iter = 200\n"
     ]
    }
   ],
   "source": [
    "\n",
    "# Set warnings to ignore\n",
    "warnings.filterwarnings(\"ignore\", category=Warning)\n",
    "\n",
    "# Find best logistic regression model for auc_roc score\n",
    "best_auc_roc = 0\n",
    "best_solver = ''\n",
    "best_max_iter = 0\n",
    "\n",
    "# Create a loop to find the best auc_roc score with different solvers\n",
    "for solver in solvers:\n",
    "    for max_iter in [100, 200, 300]:  # Try different values for max_iter\n",
    "        model = LogisticRegression(random_state=12345, solver=solver, max_iter=max_iter)\n",
    "        model.fit(lr_features_train, lr_target_train)\n",
    "        probabilities_valid = model.predict_proba(lr_features_valid)\n",
    "        probabilities_one_valid = probabilities_valid[:, 1]\n",
    "        auc_roc = roc_auc_score(lr_target_valid, probabilities_one_valid)\n",
    "        if auc_roc > best_auc_roc:\n",
    "            best_auc_roc = auc_roc\n",
    "            best_solver = solver\n",
    "            best_max_iter = max_iter\n",
    "\n",
    "# Print best AUC-ROC score and parameters\n",
    "print('Best AUC-ROC score:', round(best_auc_roc, 3))\n",
    "print('Found with', best_solver, 'solver and max_iter =', best_max_iter)\n"
   ]
  },
  {
   "cell_type": "code",
   "execution_count": 123,
   "metadata": {},
   "outputs": [
    {
     "data": {
      "application/vnd.plotly.v1+json": {
       "config": {
        "plotlyServerURL": "https://plot.ly"
       },
       "data": [
        {
         "line": {
          "color": "deeppink"
         },
         "mode": "lines",
         "name": "High quality model",
         "type": "scatter",
         "x": [
          0,
          0.0006321112515802782,
          0.0006321112515802782,
          0.0025284450063211127,
          0.0025284450063211127,
          0.0037926675094816687,
          0.0037926675094816687,
          0.004424778761061947,
          0.004424778761061947,
          0.005689001264222503,
          0.005689001264222503,
          0.00695322376738306,
          0.00695322376738306,
          0.007585335018963337,
          0.007585335018963337,
          0.010113780025284451,
          0.010113780025284451,
          0.012642225031605562,
          0.012642225031605562,
          0.01327433628318584,
          0.01327433628318584,
          0.01390644753476612,
          0.01390644753476612,
          0.014538558786346398,
          0.014538558786346398,
          0.017699115044247787,
          0.017699115044247787,
          0.018331226295828066,
          0.018331226295828066,
          0.020227560050568902,
          0.020227560050568902,
          0.022123893805309734,
          0.022123893805309734,
          0.022756005056890013,
          0.022756005056890013,
          0.02338811630847029,
          0.02338811630847029,
          0.025916561314791402,
          0.025916561314791402,
          0.02654867256637168,
          0.02654867256637168,
          0.02718078381795196,
          0.02718078381795196,
          0.02781289506953224,
          0.02781289506953224,
          0.029077117572692796,
          0.029077117572692796,
          0.02970922882427307,
          0.02970922882427307,
          0.0316055625790139,
          0.0316055625790139,
          0.032237673830594185,
          0.032237673830594185,
          0.03286978508217446,
          0.03286978508217446,
          0.03350189633375474,
          0.03350189633375474,
          0.03413400758533502,
          0.03413400758533502,
          0.03666245259165613,
          0.03666245259165613,
          0.04361567635903919,
          0.04361567635903919,
          0.04424778761061947,
          0.04424778761061947,
          0.04487989886219975,
          0.04487989886219975,
          0.04804045512010114,
          0.04804045512010114,
          0.0493046776232617,
          0.0493046776232617,
          0.05056890012642225,
          0.05056890012642225,
          0.05246523388116309,
          0.05246523388116309,
          0.05309734513274336,
          0.05309734513274336,
          0.05436156763590392,
          0.05436156763590392,
          0.05562579013906448,
          0.05562579013906448,
          0.056890012642225034,
          0.056890012642225034,
          0.0632111251580278,
          0.0632111251580278,
          0.06826801517067003,
          0.06826801517067003,
          0.06890012642225031,
          0.06890012642225031,
          0.07142857142857142,
          0.07142857142857142,
          0.07269279393173199,
          0.07269279393173199,
          0.07395701643489254,
          0.07395701643489254,
          0.07585335018963338,
          0.07585335018963338,
          0.07648546144121365,
          0.07648546144121365,
          0.0777496839443742,
          0.0777496839443742,
          0.07838179519595449,
          0.07838179519595449,
          0.07964601769911504,
          0.07964601769911504,
          0.08027812895069532,
          0.08027812895069532,
          0.08280657395701643,
          0.08280657395701643,
          0.084070796460177,
          0.084070796460177,
          0.08912768647281921,
          0.08912768647281921,
          0.0897597977243995,
          0.0897597977243995,
          0.09165613147914033,
          0.09165613147914033,
          0.09292035398230089,
          0.09292035398230089,
          0.09481668773704172,
          0.09481668773704172,
          0.09734513274336283,
          0.09734513274336283,
          0.0979772439949431,
          0.0979772439949431,
          0.0986093552465234,
          0.0986093552465234,
          0.10050568900126422,
          0.10050568900126422,
          0.10240202275600506,
          0.10240202275600506,
          0.10303413400758533,
          0.10303413400758533,
          0.10619469026548672,
          0.10619469026548672,
          0.10745891276864729,
          0.10745891276864729,
          0.10998735777496839,
          0.10998735777496839,
          0.1125158027812895,
          0.1125158027812895,
          0.11378002528445007,
          0.11378002528445007,
          0.11441213653603034,
          0.11441213653603034,
          0.12073324905183312,
          0.12073324905183312,
          0.12326169405815424,
          0.12326169405815424,
          0.12452591656131479,
          0.12452591656131479,
          0.12515802781289506,
          0.12515802781289506,
          0.12705436156763592,
          0.12705436156763592,
          0.13084702907711757,
          0.13084702907711757,
          0.13211125158027812,
          0.13211125158027812,
          0.13274336283185842,
          0.13274336283185842,
          0.13653603034134007,
          0.13653603034134007,
          0.13780025284450062,
          0.13780025284450062,
          0.14096080910240202,
          0.14096080910240202,
          0.1415929203539823,
          0.1415929203539823,
          0.14222503160556257,
          0.14222503160556257,
          0.14285714285714285,
          0.14285714285714285,
          0.14412136536030343,
          0.14412136536030343,
          0.1447534766118837,
          0.1447534766118837,
          0.14601769911504425,
          0.14601769911504425,
          0.14791403286978508,
          0.14791403286978508,
          0.14854614412136535,
          0.14854614412136535,
          0.1498103666245259,
          0.1498103666245259,
          0.15233881163084703,
          0.15233881163084703,
          0.1529709228824273,
          0.1529709228824273,
          0.15676359039190899,
          0.15676359039190899,
          0.15992414664981036,
          0.15992414664981036,
          0.1611883691529709,
          0.1611883691529709,
          0.16182048040455121,
          0.16182048040455121,
          0.1624525916561315,
          0.1624525916561315,
          0.1675094816687737,
          0.1675094816687737,
          0.16940581542351454,
          0.16940581542351454,
          0.17256637168141592,
          0.17256637168141592,
          0.17572692793931732,
          0.17572692793931732,
          0.179519595448799,
          0.179519595448799,
          0.1820480404551201,
          0.1820480404551201,
          0.1877370417193426,
          0.1877370417193426,
          0.18836915297092288,
          0.18836915297092288,
          0.18900126422250316,
          0.18900126422250316,
          0.1902654867256637,
          0.1902654867256637,
          0.19089759797724398,
          0.19089759797724398,
          0.19152970922882429,
          0.19152970922882429,
          0.1972187104930468,
          0.1972187104930468,
          0.19848293299620734,
          0.19848293299620734,
          0.20480404551201012,
          0.20480404551201012,
          0.2079646017699115,
          0.2079646017699115,
          0.20859671302149177,
          0.20859671302149177,
          0.20986093552465235,
          0.20986093552465235,
          0.2193426042983565,
          0.2193426042983565,
          0.22756005056890014,
          0.22756005056890014,
          0.2281921618204804,
          0.2281921618204804,
          0.22882427307206069,
          0.22882427307206069,
          0.23008849557522124,
          0.23008849557522124,
          0.23198482932996206,
          0.23198482932996206,
          0.23324905183312264,
          0.23324905183312264,
          0.23640960809102401,
          0.23640960809102401,
          0.2370417193426043,
          0.2370417193426043,
          0.23830594184576487,
          0.23830594184576487,
          0.24083438685208597,
          0.24083438685208597,
          0.24905183312262957,
          0.24905183312262957,
          0.2509481668773704,
          0.2509481668773704,
          0.252212389380531,
          0.252212389380531,
          0.25410872313527183,
          0.25410872313527183,
          0.26548672566371684,
          0.26548672566371684,
          0.2661188369152971,
          0.2661188369152971,
          0.27054361567635904,
          0.27054361567635904,
          0.27623261694058154,
          0.27623261694058154,
          0.27686472819216185,
          0.27686472819216185,
          0.27876106194690264,
          0.27876106194690264,
          0.2838179519595449,
          0.2838179519595449,
          0.2857142857142857,
          0.2857142857142857,
          0.29013906447534765,
          0.29013906447534765,
          0.2914032869785082,
          0.2914032869785082,
          0.29266750948166875,
          0.29266750948166875,
          0.2970922882427307,
          0.2970922882427307,
          0.297724399494311,
          0.297724399494311,
          0.3034134007585335,
          0.3034134007585335,
          0.30404551201011376,
          0.30404551201011376,
          0.3053097345132743,
          0.3053097345132743,
          0.3084702907711757,
          0.3084702907711757,
          0.3116308470290771,
          0.3116308470290771,
          0.3141592920353982,
          0.3141592920353982,
          0.31542351453855877,
          0.31542351453855877,
          0.3173198482932996,
          0.3173198482932996,
          0.3185840707964602,
          0.3185840707964602,
          0.3223767383059418,
          0.3223767383059418,
          0.324905183312263,
          0.324905183312263,
          0.3268015170670038,
          0.3268015170670038,
          0.32869785082174463,
          0.32869785082174463,
          0.3293299620733249,
          0.3293299620733249,
          0.33122629582806573,
          0.33122629582806573,
          0.3324905183312263,
          0.3324905183312263,
          0.34576485461441214,
          0.34576485461441214,
          0.34829329962073324,
          0.34829329962073324,
          0.34892541087231355,
          0.34892541087231355,
          0.35145385587863465,
          0.35145385587863465,
          0.3520859671302149,
          0.3520859671302149,
          0.35651074589127685,
          0.35651074589127685,
          0.3584070796460177,
          0.3584070796460177,
          0.36030341340075855,
          0.36030341340075855,
          0.3647281921618205,
          0.3647281921618205,
          0.3723135271807838,
          0.3723135271807838,
          0.37610619469026546,
          0.37610619469026546,
          0.37673830594184576,
          0.37673830594184576,
          0.38495575221238937,
          0.38495575221238937,
          0.3938053097345133,
          0.3938053097345133,
          0.3950695322376738,
          0.3950695322376738,
          0.3969658659924147,
          0.3969658659924147,
          0.3975979772439949,
          0.3975979772439949,
          0.39823008849557523,
          0.39823008849557523,
          0.4083438685208597,
          0.4083438685208597,
          0.41213653603034134,
          0.41213653603034134,
          0.41719342604298354,
          0.41719342604298354,
          0.42414664981036665,
          0.42414664981036665,
          0.4310998735777497,
          0.4310998735777497,
          0.43236409608091025,
          0.43236409608091025,
          0.43552465233881166,
          0.43552465233881166,
          0.43742098609355246,
          0.43742098609355246,
          0.43994943109987356,
          0.43994943109987356,
          0.4418457648546144,
          0.4418457648546144,
          0.4424778761061947,
          0.4424778761061947,
          0.4443742098609355,
          0.4443742098609355,
          0.4481668773704172,
          0.4481668773704172,
          0.4538558786346397,
          0.4538558786346397,
          0.45512010113780027,
          0.45512010113780027,
          0.4563843236409608,
          0.4563843236409608,
          0.45764854614412137,
          0.45764854614412137,
          0.4589127686472819,
          0.4589127686472819,
          0.4633375474083439,
          0.4633375474083439,
          0.4639696586599241,
          0.4639696586599241,
          0.4664981036662453,
          0.4664981036662453,
          0.46776232616940583,
          0.46776232616940583,
          0.4823008849557522,
          0.4823008849557522,
          0.4879898862199747,
          0.4879898862199747,
          0.4936788874841972,
          0.4936788874841972,
          0.4974715549936789,
          0.4974715549936789,
          0.5006321112515802,
          0.5006321112515802,
          0.5151706700379267,
          0.5151706700379267,
          0.5246523388116309,
          0.5246523388116309,
          0.5252844500632111,
          0.5252844500632111,
          0.5297092288242731,
          0.5297092288242731,
          0.5372945638432364,
          0.5372945638432364,
          0.5442477876106194,
          0.5442477876106194,
          0.5505689001264222,
          0.5505689001264222,
          0.5581542351453855,
          0.5581542351453855,
          0.5619469026548672,
          0.5619469026548672,
          0.5733249051833123,
          0.5733249051833123,
          0.584070796460177,
          0.584070796460177,
          0.595448798988622,
          0.595448798988622,
          0.6093552465233881,
          0.6093552465233881,
          0.6125158027812895,
          0.6125158027812895,
          0.6137800252844501,
          0.6137800252844501,
          0.6302149178255373,
          0.6302149178255373,
          0.6390644753476612,
          0.6390644753476612,
          0.6396965865992414,
          0.6396965865992414,
          0.6485461441213654,
          0.6485461441213654,
          0.6510745891276865,
          0.6510745891276865,
          0.6643489254108723,
          0.6643489254108723,
          0.6738305941845765,
          0.6738305941845765,
          0.6763590391908976,
          0.6763590391908976,
          0.6921618204804045,
          0.6921618204804045,
          0.695322376738306,
          0.695322376738306,
          0.6991150442477876,
          0.6991150442477876,
          0.7041719342604298,
          0.7041719342604298,
          0.7048040455120101,
          0.7048040455120101,
          0.7054361567635904,
          0.7054361567635904,
          0.7060682680151706,
          0.7060682680151706,
          0.7149178255372945,
          0.7149178255372945,
          0.7174462705436156,
          0.7174462705436156,
          0.7193426042983565,
          0.7193426042983565,
          0.7300884955752213,
          0.7300884955752213,
          0.7439949431099874,
          0.7439949431099874,
          0.7490518331226296,
          0.7490518331226296,
          0.7635903919089759,
          0.7635903919089759,
          0.7743362831858407,
          0.7743362831858407,
          0.7781289506953224,
          0.7781289506953224,
          0.7787610619469026,
          0.7787610619469026,
          0.7882427307206068,
          0.7882427307206068,
          0.8122629582806574,
          0.8122629582806574,
          0.8261694058154235,
          0.8261694058154235,
          0.8299620733249052,
          0.8299620733249052,
          0.8369152970922883,
          0.8369152970922883,
          0.8413400758533502,
          0.8413400758533502,
          0.843236409608091,
          0.843236409608091,
          0.8685208596713021,
          0.8685208596713021,
          0.8735777496839444,
          0.8735777496839444,
          0.877370417193426,
          0.877370417193426,
          0.8982300884955752,
          0.8982300884955752,
          0.9146649810366625,
          0.9146649810366625,
          0.9405815423514539,
          0.9405815423514539,
          0.9487989886219975,
          0.9487989886219975,
          1
         ],
         "y": [
          0,
          0,
          0.004784688995215311,
          0.004784688995215311,
          0.007177033492822967,
          0.007177033492822967,
          0.011961722488038277,
          0.011961722488038277,
          0.03110047846889952,
          0.03110047846889952,
          0.03827751196172249,
          0.03827751196172249,
          0.06698564593301436,
          0.06698564593301436,
          0.07416267942583732,
          0.07416267942583732,
          0.07894736842105263,
          0.07894736842105263,
          0.0861244019138756,
          0.0861244019138756,
          0.11483253588516747,
          0.11483253588516747,
          0.11722488038277512,
          0.11722488038277512,
          0.12440191387559808,
          0.12440191387559808,
          0.13636363636363635,
          0.13636363636363635,
          0.1507177033492823,
          0.1507177033492823,
          0.15789473684210525,
          0.15789473684210525,
          0.16028708133971292,
          0.16028708133971292,
          0.16267942583732056,
          0.16267942583732056,
          0.16507177033492823,
          0.16507177033492823,
          0.1674641148325359,
          0.1674641148325359,
          0.16985645933014354,
          0.16985645933014354,
          0.1722488038277512,
          0.1722488038277512,
          0.17703349282296652,
          0.17703349282296652,
          0.17942583732057416,
          0.17942583732057416,
          0.18181818181818182,
          0.18181818181818182,
          0.18660287081339713,
          0.18660287081339713,
          0.19617224880382775,
          0.19617224880382775,
          0.19856459330143542,
          0.19856459330143542,
          0.20095693779904306,
          0.20095693779904306,
          0.20574162679425836,
          0.20574162679425836,
          0.21052631578947367,
          0.21052631578947367,
          0.21770334928229665,
          0.21770334928229665,
          0.22727272727272727,
          0.22727272727272727,
          0.22966507177033493,
          0.22966507177033493,
          0.23684210526315788,
          0.23684210526315788,
          0.24641148325358853,
          0.24641148325358853,
          0.24880382775119617,
          0.24880382775119617,
          0.2535885167464115,
          0.2535885167464115,
          0.2583732057416268,
          0.2583732057416268,
          0.2631578947368421,
          0.2631578947368421,
          0.2727272727272727,
          0.2727272727272727,
          0.2751196172248804,
          0.2751196172248804,
          0.27751196172248804,
          0.27751196172248804,
          0.2822966507177033,
          0.2822966507177033,
          0.284688995215311,
          0.284688995215311,
          0.28708133971291866,
          0.28708133971291866,
          0.2942583732057416,
          0.2942583732057416,
          0.2966507177033493,
          0.2966507177033493,
          0.29904306220095694,
          0.29904306220095694,
          0.30861244019138756,
          0.30861244019138756,
          0.31100478468899523,
          0.31100478468899523,
          0.3133971291866029,
          0.3133971291866029,
          0.3157894736842105,
          0.3157894736842105,
          0.3181818181818182,
          0.3181818181818182,
          0.3253588516746411,
          0.3253588516746411,
          0.33253588516746413,
          0.33253588516746413,
          0.3349282296650718,
          0.3349282296650718,
          0.3373205741626794,
          0.3373205741626794,
          0.3444976076555024,
          0.3444976076555024,
          0.34688995215311,
          0.34688995215311,
          0.35406698564593303,
          0.35406698564593303,
          0.35645933014354064,
          0.35645933014354064,
          0.361244019138756,
          0.361244019138756,
          0.3708133971291866,
          0.3708133971291866,
          0.37320574162679426,
          0.37320574162679426,
          0.3803827751196172,
          0.3803827751196172,
          0.38995215311004783,
          0.38995215311004783,
          0.39473684210526316,
          0.39473684210526316,
          0.39952153110047844,
          0.39952153110047844,
          0.4090909090909091,
          0.4090909090909091,
          0.41148325358851673,
          0.41148325358851673,
          0.4138755980861244,
          0.4138755980861244,
          0.4258373205741627,
          0.4258373205741627,
          0.42822966507177035,
          0.42822966507177035,
          0.43779904306220097,
          0.43779904306220097,
          0.44019138755980863,
          0.44019138755980863,
          0.44258373205741625,
          0.44258373205741625,
          0.4449760765550239,
          0.4449760765550239,
          0.4473684210526316,
          0.4473684210526316,
          0.45215311004784686,
          0.45215311004784686,
          0.4569377990430622,
          0.4569377990430622,
          0.45933014354066987,
          0.45933014354066987,
          0.46172248803827753,
          0.46172248803827753,
          0.46411483253588515,
          0.46411483253588515,
          0.4665071770334928,
          0.4665071770334928,
          0.4688995215311005,
          0.4688995215311005,
          0.47368421052631576,
          0.47368421052631576,
          0.47607655502392343,
          0.47607655502392343,
          0.48086124401913877,
          0.48086124401913877,
          0.4880382775119617,
          0.4880382775119617,
          0.4904306220095694,
          0.4904306220095694,
          0.49521531100478466,
          0.49521531100478466,
          0.49760765550239233,
          0.49760765550239233,
          0.5047846889952153,
          0.5047846889952153,
          0.507177033492823,
          0.507177033492823,
          0.5095693779904307,
          0.5095693779904307,
          0.5119617224880383,
          0.5119617224880383,
          0.5143540669856459,
          0.5143540669856459,
          0.5191387559808612,
          0.5191387559808612,
          0.5215311004784688,
          0.5215311004784688,
          0.5239234449760766,
          0.5239234449760766,
          0.5287081339712919,
          0.5287081339712919,
          0.5334928229665071,
          0.5334928229665071,
          0.5382775119617225,
          0.5382775119617225,
          0.5406698564593302,
          0.5406698564593302,
          0.5454545454545454,
          0.5454545454545454,
          0.5502392344497608,
          0.5502392344497608,
          0.5574162679425837,
          0.5574162679425837,
          0.5598086124401914,
          0.5598086124401914,
          0.5645933014354066,
          0.5645933014354066,
          0.569377990430622,
          0.569377990430622,
          0.5813397129186603,
          0.5813397129186603,
          0.5861244019138756,
          0.5861244019138756,
          0.5885167464114832,
          0.5885167464114832,
          0.5933014354066986,
          0.5933014354066986,
          0.5956937799043063,
          0.5956937799043063,
          0.6004784688995215,
          0.6004784688995215,
          0.6028708133971292,
          0.6028708133971292,
          0.6052631578947368,
          0.6052631578947368,
          0.6076555023923444,
          0.6076555023923444,
          0.6100478468899522,
          0.6100478468899522,
          0.6124401913875598,
          0.6124401913875598,
          0.6148325358851675,
          0.6148325358851675,
          0.6172248803827751,
          0.6172248803827751,
          0.6196172248803827,
          0.6196172248803827,
          0.6220095693779905,
          0.6220095693779905,
          0.6244019138755981,
          0.6244019138755981,
          0.6267942583732058,
          0.6267942583732058,
          0.6291866028708134,
          0.6291866028708134,
          0.631578947368421,
          0.631578947368421,
          0.6339712918660287,
          0.6339712918660287,
          0.6363636363636364,
          0.6363636363636364,
          0.638755980861244,
          0.638755980861244,
          0.6411483253588517,
          0.6411483253588517,
          0.6435406698564593,
          0.6435406698564593,
          0.645933014354067,
          0.645933014354067,
          0.6483253588516746,
          0.6483253588516746,
          0.6507177033492823,
          0.6507177033492823,
          0.6555023923444976,
          0.6555023923444976,
          0.6578947368421053,
          0.6578947368421053,
          0.6602870813397129,
          0.6602870813397129,
          0.6626794258373205,
          0.6626794258373205,
          0.6650717703349283,
          0.6650717703349283,
          0.6698564593301436,
          0.6698564593301436,
          0.6722488038277512,
          0.6722488038277512,
          0.6746411483253588,
          0.6746411483253588,
          0.6818181818181818,
          0.6818181818181818,
          0.6842105263157895,
          0.6842105263157895,
          0.6866028708133971,
          0.6866028708133971,
          0.6889952153110048,
          0.6889952153110048,
          0.6913875598086124,
          0.6913875598086124,
          0.69377990430622,
          0.69377990430622,
          0.6961722488038278,
          0.6961722488038278,
          0.7009569377990431,
          0.7009569377990431,
          0.7033492822966507,
          0.7033492822966507,
          0.7057416267942583,
          0.7057416267942583,
          0.7081339712918661,
          0.7081339712918661,
          0.7105263157894737,
          0.7105263157894737,
          0.7129186602870813,
          0.7129186602870813,
          0.715311004784689,
          0.715311004784689,
          0.7177033492822966,
          0.7177033492822966,
          0.7200956937799043,
          0.7200956937799043,
          0.7272727272727273,
          0.7272727272727273,
          0.7296650717703349,
          0.7296650717703349,
          0.7344497607655502,
          0.7344497607655502,
          0.7368421052631579,
          0.7368421052631579,
          0.7392344497607656,
          0.7392344497607656,
          0.7416267942583732,
          0.7416267942583732,
          0.7440191387559809,
          0.7440191387559809,
          0.7464114832535885,
          0.7464114832535885,
          0.7488038277511961,
          0.7488038277511961,
          0.7511961722488039,
          0.7511961722488039,
          0.7535885167464115,
          0.7535885167464115,
          0.7559808612440191,
          0.7559808612440191,
          0.7583732057416268,
          0.7583732057416268,
          0.7607655502392344,
          0.7607655502392344,
          0.7631578947368421,
          0.7631578947368421,
          0.7655502392344498,
          0.7655502392344498,
          0.7703349282296651,
          0.7703349282296651,
          0.7727272727272727,
          0.7727272727272727,
          0.7751196172248804,
          0.7751196172248804,
          0.777511961722488,
          0.777511961722488,
          0.784688995215311,
          0.784688995215311,
          0.7870813397129187,
          0.7870813397129187,
          0.7894736842105263,
          0.7894736842105263,
          0.7918660287081339,
          0.7918660287081339,
          0.7942583732057417,
          0.7942583732057417,
          0.7966507177033493,
          0.7966507177033493,
          0.7990430622009569,
          0.7990430622009569,
          0.8014354066985646,
          0.8014354066985646,
          0.80622009569378,
          0.80622009569378,
          0.8086124401913876,
          0.8086124401913876,
          0.8133971291866029,
          0.8133971291866029,
          0.8157894736842105,
          0.8157894736842105,
          0.8181818181818182,
          0.8181818181818182,
          0.8205741626794258,
          0.8205741626794258,
          0.8253588516746412,
          0.8253588516746412,
          0.8325358851674641,
          0.8325358851674641,
          0.8349282296650717,
          0.8349282296650717,
          0.8373205741626795,
          0.8373205741626795,
          0.8397129186602871,
          0.8397129186602871,
          0.8421052631578947,
          0.8421052631578947,
          0.8444976076555024,
          0.8444976076555024,
          0.84688995215311,
          0.84688995215311,
          0.8492822966507177,
          0.8492822966507177,
          0.8516746411483254,
          0.8516746411483254,
          0.854066985645933,
          0.854066985645933,
          0.8564593301435407,
          0.8564593301435407,
          0.8588516746411483,
          0.8588516746411483,
          0.861244019138756,
          0.861244019138756,
          0.8636363636363636,
          0.8636363636363636,
          0.8660287081339713,
          0.8660287081339713,
          0.868421052631579,
          0.868421052631579,
          0.8708133971291866,
          0.8708133971291866,
          0.8732057416267942,
          0.8732057416267942,
          0.8755980861244019,
          0.8755980861244019,
          0.8779904306220095,
          0.8779904306220095,
          0.8827751196172249,
          0.8827751196172249,
          0.8851674641148325,
          0.8851674641148325,
          0.8875598086124402,
          0.8875598086124402,
          0.8947368421052632,
          0.8947368421052632,
          0.8971291866028708,
          0.8971291866028708,
          0.8995215311004785,
          0.8995215311004785,
          0.9019138755980861,
          0.9019138755980861,
          0.9043062200956937,
          0.9043062200956937,
          0.9066985645933014,
          0.9066985645933014,
          0.9090909090909091,
          0.9090909090909091,
          0.9114832535885168,
          0.9114832535885168,
          0.9138755980861244,
          0.9138755980861244,
          0.916267942583732,
          0.916267942583732,
          0.9186602870813397,
          0.9186602870813397,
          0.9210526315789473,
          0.9210526315789473,
          0.9234449760765551,
          0.9234449760765551,
          0.9258373205741627,
          0.9258373205741627,
          0.9282296650717703,
          0.9282296650717703,
          0.9330143540669856,
          0.9330143540669856,
          0.9354066985645934,
          0.9354066985645934,
          0.937799043062201,
          0.937799043062201,
          0.9401913875598086,
          0.9401913875598086,
          0.9425837320574163,
          0.9425837320574163,
          0.9449760765550239,
          0.9449760765550239,
          0.9473684210526315,
          0.9473684210526315,
          0.9545454545454546,
          0.9545454545454546,
          0.9569377990430622,
          0.9569377990430622,
          0.9593301435406698,
          0.9593301435406698,
          0.9617224880382775,
          0.9617224880382775,
          0.9641148325358851,
          0.9641148325358851,
          0.9665071770334929,
          0.9665071770334929,
          0.9712918660287081,
          0.9712918660287081,
          0.9736842105263158,
          0.9736842105263158,
          0.9760765550239234,
          0.9760765550239234,
          0.9784688995215312,
          0.9784688995215312,
          0.9808612440191388,
          0.9808612440191388,
          0.9832535885167464,
          0.9832535885167464,
          0.9856459330143541,
          0.9856459330143541,
          0.9880382775119617,
          0.9880382775119617,
          0.9904306220095693,
          0.9904306220095693,
          0.992822966507177,
          0.992822966507177,
          0.9952153110047847,
          0.9952153110047847,
          0.9976076555023924,
          0.9976076555023924,
          1,
          1
         ]
        },
        {
         "line": {
          "color": "aqua"
         },
         "mode": "lines",
         "name": "Random model",
         "type": "scatter",
         "x": [
          0,
          1
         ],
         "y": [
          0,
          1
         ]
        }
       ],
       "layout": {
        "height": 500,
        "template": {
         "data": {
          "bar": [
           {
            "error_x": {
             "color": "#f2f5fa"
            },
            "error_y": {
             "color": "#f2f5fa"
            },
            "marker": {
             "line": {
              "color": "rgb(17,17,17)",
              "width": 0.5
             },
             "pattern": {
              "fillmode": "overlay",
              "size": 10,
              "solidity": 0.2
             }
            },
            "type": "bar"
           }
          ],
          "barpolar": [
           {
            "marker": {
             "line": {
              "color": "rgb(17,17,17)",
              "width": 0.5
             },
             "pattern": {
              "fillmode": "overlay",
              "size": 10,
              "solidity": 0.2
             }
            },
            "type": "barpolar"
           }
          ],
          "carpet": [
           {
            "aaxis": {
             "endlinecolor": "#A2B1C6",
             "gridcolor": "#506784",
             "linecolor": "#506784",
             "minorgridcolor": "#506784",
             "startlinecolor": "#A2B1C6"
            },
            "baxis": {
             "endlinecolor": "#A2B1C6",
             "gridcolor": "#506784",
             "linecolor": "#506784",
             "minorgridcolor": "#506784",
             "startlinecolor": "#A2B1C6"
            },
            "type": "carpet"
           }
          ],
          "choropleth": [
           {
            "colorbar": {
             "outlinewidth": 0,
             "ticks": ""
            },
            "type": "choropleth"
           }
          ],
          "contour": [
           {
            "colorbar": {
             "outlinewidth": 0,
             "ticks": ""
            },
            "colorscale": [
             [
              0,
              "#0d0887"
             ],
             [
              0.1111111111111111,
              "#46039f"
             ],
             [
              0.2222222222222222,
              "#7201a8"
             ],
             [
              0.3333333333333333,
              "#9c179e"
             ],
             [
              0.4444444444444444,
              "#bd3786"
             ],
             [
              0.5555555555555556,
              "#d8576b"
             ],
             [
              0.6666666666666666,
              "#ed7953"
             ],
             [
              0.7777777777777778,
              "#fb9f3a"
             ],
             [
              0.8888888888888888,
              "#fdca26"
             ],
             [
              1,
              "#f0f921"
             ]
            ],
            "type": "contour"
           }
          ],
          "contourcarpet": [
           {
            "colorbar": {
             "outlinewidth": 0,
             "ticks": ""
            },
            "type": "contourcarpet"
           }
          ],
          "heatmap": [
           {
            "colorbar": {
             "outlinewidth": 0,
             "ticks": ""
            },
            "colorscale": [
             [
              0,
              "#0d0887"
             ],
             [
              0.1111111111111111,
              "#46039f"
             ],
             [
              0.2222222222222222,
              "#7201a8"
             ],
             [
              0.3333333333333333,
              "#9c179e"
             ],
             [
              0.4444444444444444,
              "#bd3786"
             ],
             [
              0.5555555555555556,
              "#d8576b"
             ],
             [
              0.6666666666666666,
              "#ed7953"
             ],
             [
              0.7777777777777778,
              "#fb9f3a"
             ],
             [
              0.8888888888888888,
              "#fdca26"
             ],
             [
              1,
              "#f0f921"
             ]
            ],
            "type": "heatmap"
           }
          ],
          "heatmapgl": [
           {
            "colorbar": {
             "outlinewidth": 0,
             "ticks": ""
            },
            "colorscale": [
             [
              0,
              "#0d0887"
             ],
             [
              0.1111111111111111,
              "#46039f"
             ],
             [
              0.2222222222222222,
              "#7201a8"
             ],
             [
              0.3333333333333333,
              "#9c179e"
             ],
             [
              0.4444444444444444,
              "#bd3786"
             ],
             [
              0.5555555555555556,
              "#d8576b"
             ],
             [
              0.6666666666666666,
              "#ed7953"
             ],
             [
              0.7777777777777778,
              "#fb9f3a"
             ],
             [
              0.8888888888888888,
              "#fdca26"
             ],
             [
              1,
              "#f0f921"
             ]
            ],
            "type": "heatmapgl"
           }
          ],
          "histogram": [
           {
            "marker": {
             "pattern": {
              "fillmode": "overlay",
              "size": 10,
              "solidity": 0.2
             }
            },
            "type": "histogram"
           }
          ],
          "histogram2d": [
           {
            "colorbar": {
             "outlinewidth": 0,
             "ticks": ""
            },
            "colorscale": [
             [
              0,
              "#0d0887"
             ],
             [
              0.1111111111111111,
              "#46039f"
             ],
             [
              0.2222222222222222,
              "#7201a8"
             ],
             [
              0.3333333333333333,
              "#9c179e"
             ],
             [
              0.4444444444444444,
              "#bd3786"
             ],
             [
              0.5555555555555556,
              "#d8576b"
             ],
             [
              0.6666666666666666,
              "#ed7953"
             ],
             [
              0.7777777777777778,
              "#fb9f3a"
             ],
             [
              0.8888888888888888,
              "#fdca26"
             ],
             [
              1,
              "#f0f921"
             ]
            ],
            "type": "histogram2d"
           }
          ],
          "histogram2dcontour": [
           {
            "colorbar": {
             "outlinewidth": 0,
             "ticks": ""
            },
            "colorscale": [
             [
              0,
              "#0d0887"
             ],
             [
              0.1111111111111111,
              "#46039f"
             ],
             [
              0.2222222222222222,
              "#7201a8"
             ],
             [
              0.3333333333333333,
              "#9c179e"
             ],
             [
              0.4444444444444444,
              "#bd3786"
             ],
             [
              0.5555555555555556,
              "#d8576b"
             ],
             [
              0.6666666666666666,
              "#ed7953"
             ],
             [
              0.7777777777777778,
              "#fb9f3a"
             ],
             [
              0.8888888888888888,
              "#fdca26"
             ],
             [
              1,
              "#f0f921"
             ]
            ],
            "type": "histogram2dcontour"
           }
          ],
          "mesh3d": [
           {
            "colorbar": {
             "outlinewidth": 0,
             "ticks": ""
            },
            "type": "mesh3d"
           }
          ],
          "parcoords": [
           {
            "line": {
             "colorbar": {
              "outlinewidth": 0,
              "ticks": ""
             }
            },
            "type": "parcoords"
           }
          ],
          "pie": [
           {
            "automargin": true,
            "type": "pie"
           }
          ],
          "scatter": [
           {
            "marker": {
             "line": {
              "color": "#283442"
             }
            },
            "type": "scatter"
           }
          ],
          "scatter3d": [
           {
            "line": {
             "colorbar": {
              "outlinewidth": 0,
              "ticks": ""
             }
            },
            "marker": {
             "colorbar": {
              "outlinewidth": 0,
              "ticks": ""
             }
            },
            "type": "scatter3d"
           }
          ],
          "scattercarpet": [
           {
            "marker": {
             "colorbar": {
              "outlinewidth": 0,
              "ticks": ""
             }
            },
            "type": "scattercarpet"
           }
          ],
          "scattergeo": [
           {
            "marker": {
             "colorbar": {
              "outlinewidth": 0,
              "ticks": ""
             }
            },
            "type": "scattergeo"
           }
          ],
          "scattergl": [
           {
            "marker": {
             "line": {
              "color": "#283442"
             }
            },
            "type": "scattergl"
           }
          ],
          "scattermapbox": [
           {
            "marker": {
             "colorbar": {
              "outlinewidth": 0,
              "ticks": ""
             }
            },
            "type": "scattermapbox"
           }
          ],
          "scatterpolar": [
           {
            "marker": {
             "colorbar": {
              "outlinewidth": 0,
              "ticks": ""
             }
            },
            "type": "scatterpolar"
           }
          ],
          "scatterpolargl": [
           {
            "marker": {
             "colorbar": {
              "outlinewidth": 0,
              "ticks": ""
             }
            },
            "type": "scatterpolargl"
           }
          ],
          "scatterternary": [
           {
            "marker": {
             "colorbar": {
              "outlinewidth": 0,
              "ticks": ""
             }
            },
            "type": "scatterternary"
           }
          ],
          "surface": [
           {
            "colorbar": {
             "outlinewidth": 0,
             "ticks": ""
            },
            "colorscale": [
             [
              0,
              "#0d0887"
             ],
             [
              0.1111111111111111,
              "#46039f"
             ],
             [
              0.2222222222222222,
              "#7201a8"
             ],
             [
              0.3333333333333333,
              "#9c179e"
             ],
             [
              0.4444444444444444,
              "#bd3786"
             ],
             [
              0.5555555555555556,
              "#d8576b"
             ],
             [
              0.6666666666666666,
              "#ed7953"
             ],
             [
              0.7777777777777778,
              "#fb9f3a"
             ],
             [
              0.8888888888888888,
              "#fdca26"
             ],
             [
              1,
              "#f0f921"
             ]
            ],
            "type": "surface"
           }
          ],
          "table": [
           {
            "cells": {
             "fill": {
              "color": "#506784"
             },
             "line": {
              "color": "rgb(17,17,17)"
             }
            },
            "header": {
             "fill": {
              "color": "#2a3f5f"
             },
             "line": {
              "color": "rgb(17,17,17)"
             }
            },
            "type": "table"
           }
          ]
         },
         "layout": {
          "annotationdefaults": {
           "arrowcolor": "#f2f5fa",
           "arrowhead": 0,
           "arrowwidth": 1
          },
          "autotypenumbers": "strict",
          "coloraxis": {
           "colorbar": {
            "outlinewidth": 0,
            "ticks": ""
           }
          },
          "colorscale": {
           "diverging": [
            [
             0,
             "#8e0152"
            ],
            [
             0.1,
             "#c51b7d"
            ],
            [
             0.2,
             "#de77ae"
            ],
            [
             0.3,
             "#f1b6da"
            ],
            [
             0.4,
             "#fde0ef"
            ],
            [
             0.5,
             "#f7f7f7"
            ],
            [
             0.6,
             "#e6f5d0"
            ],
            [
             0.7,
             "#b8e186"
            ],
            [
             0.8,
             "#7fbc41"
            ],
            [
             0.9,
             "#4d9221"
            ],
            [
             1,
             "#276419"
            ]
           ],
           "sequential": [
            [
             0,
             "#0d0887"
            ],
            [
             0.1111111111111111,
             "#46039f"
            ],
            [
             0.2222222222222222,
             "#7201a8"
            ],
            [
             0.3333333333333333,
             "#9c179e"
            ],
            [
             0.4444444444444444,
             "#bd3786"
            ],
            [
             0.5555555555555556,
             "#d8576b"
            ],
            [
             0.6666666666666666,
             "#ed7953"
            ],
            [
             0.7777777777777778,
             "#fb9f3a"
            ],
            [
             0.8888888888888888,
             "#fdca26"
            ],
            [
             1,
             "#f0f921"
            ]
           ],
           "sequentialminus": [
            [
             0,
             "#0d0887"
            ],
            [
             0.1111111111111111,
             "#46039f"
            ],
            [
             0.2222222222222222,
             "#7201a8"
            ],
            [
             0.3333333333333333,
             "#9c179e"
            ],
            [
             0.4444444444444444,
             "#bd3786"
            ],
            [
             0.5555555555555556,
             "#d8576b"
            ],
            [
             0.6666666666666666,
             "#ed7953"
            ],
            [
             0.7777777777777778,
             "#fb9f3a"
            ],
            [
             0.8888888888888888,
             "#fdca26"
            ],
            [
             1,
             "#f0f921"
            ]
           ]
          },
          "colorway": [
           "#636efa",
           "#EF553B",
           "#00cc96",
           "#ab63fa",
           "#FFA15A",
           "#19d3f3",
           "#FF6692",
           "#B6E880",
           "#FF97FF",
           "#FECB52"
          ],
          "font": {
           "color": "#f2f5fa"
          },
          "geo": {
           "bgcolor": "rgb(17,17,17)",
           "lakecolor": "rgb(17,17,17)",
           "landcolor": "rgb(17,17,17)",
           "showlakes": true,
           "showland": true,
           "subunitcolor": "#506784"
          },
          "hoverlabel": {
           "align": "left"
          },
          "hovermode": "closest",
          "mapbox": {
           "style": "dark"
          },
          "paper_bgcolor": "rgb(17,17,17)",
          "plot_bgcolor": "rgb(17,17,17)",
          "polar": {
           "angularaxis": {
            "gridcolor": "#506784",
            "linecolor": "#506784",
            "ticks": ""
           },
           "bgcolor": "rgb(17,17,17)",
           "radialaxis": {
            "gridcolor": "#506784",
            "linecolor": "#506784",
            "ticks": ""
           }
          },
          "scene": {
           "xaxis": {
            "backgroundcolor": "rgb(17,17,17)",
            "gridcolor": "#506784",
            "gridwidth": 2,
            "linecolor": "#506784",
            "showbackground": true,
            "ticks": "",
            "zerolinecolor": "#C8D4E3"
           },
           "yaxis": {
            "backgroundcolor": "rgb(17,17,17)",
            "gridcolor": "#506784",
            "gridwidth": 2,
            "linecolor": "#506784",
            "showbackground": true,
            "ticks": "",
            "zerolinecolor": "#C8D4E3"
           },
           "zaxis": {
            "backgroundcolor": "rgb(17,17,17)",
            "gridcolor": "#506784",
            "gridwidth": 2,
            "linecolor": "#506784",
            "showbackground": true,
            "ticks": "",
            "zerolinecolor": "#C8D4E3"
           }
          },
          "shapedefaults": {
           "line": {
            "color": "#f2f5fa"
           }
          },
          "sliderdefaults": {
           "bgcolor": "#C8D4E3",
           "bordercolor": "rgb(17,17,17)",
           "borderwidth": 1,
           "tickwidth": 0
          },
          "ternary": {
           "aaxis": {
            "gridcolor": "#506784",
            "linecolor": "#506784",
            "ticks": ""
           },
           "baxis": {
            "gridcolor": "#506784",
            "linecolor": "#506784",
            "ticks": ""
           },
           "bgcolor": "rgb(17,17,17)",
           "caxis": {
            "gridcolor": "#506784",
            "linecolor": "#506784",
            "ticks": ""
           }
          },
          "title": {
           "x": 0.05
          },
          "updatemenudefaults": {
           "bgcolor": "#506784",
           "borderwidth": 0
          },
          "xaxis": {
           "automargin": true,
           "gridcolor": "#283442",
           "linecolor": "#506784",
           "ticks": "",
           "title": {
            "standoff": 15
           },
           "zerolinecolor": "#283442",
           "zerolinewidth": 2
          },
          "yaxis": {
           "automargin": true,
           "gridcolor": "#283442",
           "linecolor": "#506784",
           "ticks": "",
           "title": {
            "standoff": 15
           },
           "zerolinecolor": "#283442",
           "zerolinewidth": 2
          }
         }
        },
        "title": {
         "font": {
          "color": "white"
         },
         "text": "Logistic Regression ROC Curve"
        },
        "width": 700,
        "xaxis": {
         "title": {
          "text": "False Positive Rate"
         }
        },
        "yaxis": {
         "title": {
          "text": "True Positive Rate"
         }
        }
       }
      }
     },
     "metadata": {},
     "output_type": "display_data"
    },
    {
     "name": "stdout",
     "output_type": "stream",
     "text": [
      "Area Under Curve = 0.759\n"
     ]
    }
   ],
   "source": [
    "# define model as logistic regression with liblinear solver\n",
    "model = LogisticRegression(random_state=12345, solver='newton-cg', max_iter=200)\n",
    "\n",
    "# Plot ROC curve\n",
    "plot_roc_curve(model, lr_features_train, lr_target_train, lr_features_valid, 'Logistic Regression')"
   ]
  },
  {
   "cell_type": "markdown",
   "metadata": {},
   "source": [
    "#### Analysis\n",
    "\n",
    "The random forest model is not  perfect, but it's better than the random model with an area under curve at 0.852. The area under the curve is 0.748 for the logistic regression model, which is better than the 0.5 of a simple random model."
   ]
  },
  {
   "cell_type": "markdown",
   "metadata": {},
   "source": [
    "## Final Testing\n",
    "\n",
    "After making adjustments to both the class weights and thresholds, the random forest model is the most effective. This model was able to reach an F1 level of 62.18% with the validation set using upscaling methods. The validation set will now be incorporated into the training set. This helps when the data is limited as is the current case. However, overfitting may be increased. Once this has been accomplished, the same methods used to upsample will be used. These results will be used to test  the test set.\n",
    "\n",
    "### Incorporate Validation Set"
   ]
  },
  {
   "cell_type": "code",
   "execution_count": 113,
   "metadata": {},
   "outputs": [],
   "source": [
    "# Combine random forest validation and training sets for features and target\n",
    "rf_features_valid_train = pd.concat([rf_features_valid, rf_features_train])\n",
    "rf_target_valid_train = pd.concat([rf_target_valid, rf_target_train])\n"
   ]
  },
  {
   "cell_type": "markdown",
   "metadata": {},
   "source": [
    "### Split data by target"
   ]
  },
  {
   "cell_type": "code",
   "execution_count": 114,
   "metadata": {},
   "outputs": [
    {
     "name": "stdout",
     "output_type": "stream",
     "text": [
      "target_zeros length: 6386\n",
      "target_ones length: 1614\n",
      "Ratio: 3.96\n",
      "Ratio Imbalanced\n"
     ]
    }
   ],
   "source": [
    "# Split target data\n",
    "target_zeros = rf_target_valid_train[rf_target_valid_train == 0]\n",
    "target_ones = rf_target_valid_train[rf_target_valid_train == 1]\n",
    "\n",
    "# Split features data based on target data for both random forest and logistic regression\n",
    "features_zeros = rf_features_valid_train[rf_target_valid_train == 0]\n",
    "features_ones = rf_features_valid_train[rf_target_valid_train == 1]\n",
    "\n",
    "# Print lengths for target zeros and target ones\n",
    "print('target_zeros length:', len(target_zeros))\n",
    "print('target_ones length:', len(target_ones))\n",
    "print('Ratio:', round(len(target_zeros)/len(target_ones), 2))\n",
    "print('Ratio Imbalanced')"
   ]
  },
  {
   "cell_type": "markdown",
   "metadata": {},
   "source": [
    "### Duplicate appropriate observations"
   ]
  },
  {
   "cell_type": "code",
   "execution_count": 115,
   "metadata": {},
   "outputs": [
    {
     "name": "stdout",
     "output_type": "stream",
     "text": [
      "Number of observations where the customer stayed: 6386\n",
      "Number of observations where the customer left: 4842\n",
      "Ratio: 1.32\n",
      "Ratio Balanced\n"
     ]
    }
   ],
   "source": [
    "# Find ratio of target zeros to target ones\n",
    "ratio= int(len(target_zeros) / len(target_ones))\n",
    "\n",
    "# Duplicate target ones by ratio and concatenate for target for random forests\n",
    "target_upsampled = pd.concat([target_zeros] + [target_ones] * ratio)\n",
    "\n",
    "# Repeat for features\n",
    "features_upsampled = pd.concat([features_zeros] + [features_ones] * ratio)\n",
    "\n",
    "# Print lengths for target zeros and target ones\n",
    "print('Number of observations where the customer stayed:', len(target_zeros))\n",
    "print('Number of observations where the customer left:', len(target_ones) * ratio)\n",
    "print('Ratio:', round(len(target_zeros)/(len(target_ones) * ratio), 2))\n",
    "print('Ratio Balanced')\n"
   ]
  },
  {
   "cell_type": "markdown",
   "metadata": {},
   "source": [
    "### Shuffle Data"
   ]
  },
  {
   "cell_type": "code",
   "execution_count": 116,
   "metadata": {},
   "outputs": [],
   "source": [
    "# Shuffle Data\n",
    "features_upsampled, target_upsampled = shuffle(features_upsampled, target_upsampled, random_state=12345)"
   ]
  },
  {
   "cell_type": "markdown",
   "metadata": {},
   "source": [
    "### Train Model"
   ]
  },
  {
   "cell_type": "code",
   "execution_count": 47,
   "metadata": {},
   "outputs": [
    {
     "name": "stdout",
     "output_type": "stream",
     "text": [
      "F1 score of the best model on test set: 60.07 %\n",
      "Accuracy of the best model on test set: 83.05 %\n"
     ]
    }
   ],
   "source": [
    "# Use estimators = 100 and max_depth = 10 from previous model\n",
    "model = RandomForestClassifier(max_depth=10, random_state=12345, n_estimators=100) # set number of trees\n",
    "\n",
    "# Train model on combined training and validation upsampled set\n",
    "model.fit(features_upsampled, target_upsampled)\n",
    "\n",
    "# Calculate f1 and accuracy scores on test set\n",
    "f1 = f1_score(rf_target_test, model.predict(rf_features_test))\n",
    "accuracy = accuracy_score(rf_target_test, model.predict(rf_features_test))\n",
    "\n",
    "# Print F1 score and Accuracy score\n",
    "print(\"F1 score of the best model on test set:\", round(f1*100,2), \"%\")\n",
    "print(\"Accuracy of the best model on test set:\", round(accuracy*100,2), \"%\")"
   ]
  },
  {
   "cell_type": "markdown",
   "metadata": {},
   "source": [
    "## Conclusion\n",
    "\n",
    "### Data Preparation\n",
    "\n",
    "The data was saved, cleaned and pre-processed. This meant installing the appropriate packages, tidying up column names, checking for null and duplicate values, and encoding the data according to datatypes.\n",
    "\n",
    "### Class Balances\n",
    "\n",
    "Class balances were examined and found that 80% of customers stayed. Thus, a constant model produced an accuracy of 80%. The random forest model performed a little better with 86% accuracy, but this alone is not as good as it appears. To improve model quality, adjustments to class weights and thresholds were made. Metrics aside from accuracy were used improve model quality. These include precision, recall and F1 scores. \n",
    "\n",
    "### Improving Models\n",
    "\n",
    "The models were improved with changes to class weights and thresholds. By upsampling and downsampling, the F1 scores on the random forests were increased to over 60%. The logistic regression model saw some improvement, but saw its biggest jump in F1 when adjusting threshold levels. At a threshold of 0.22, the F1 score was 41%. After creating an AUC-ROC graph it was determined that these logistic regression models were better than random, but not by a significant amount.\n",
    "\n",
    "### Final Testing\n",
    "Ultimately, the random forest produced the highest F1 score at 62% using the upscaling method. The hyperparameters used 100 estimators and a depth of 10. The model was further improved by combining training and validation sets and upsampling the data. Once this was done, the model was tested on the test set. This yielded an F1 score of 60% and an accuracy of 83.3%."
   ]
  }
 ],
 "metadata": {
  "kernelspec": {
   "display_name": "Python 3 (ipykernel)",
   "language": "python",
   "name": "python3"
  },
  "language_info": {
   "codemirror_mode": {
    "name": "ipython",
    "version": 3
   },
   "file_extension": ".py",
   "mimetype": "text/x-python",
   "name": "python",
   "nbconvert_exporter": "python",
   "pygments_lexer": "ipython3",
   "version": "3.11.6"
  },
  "toc": {
   "base_numbering": 1,
   "nav_menu": {},
   "number_sections": true,
   "sideBar": true,
   "skip_h1_title": true,
   "title_cell": "Table of Contents",
   "title_sidebar": "Contents",
   "toc_cell": false,
   "toc_position": {},
   "toc_section_display": true,
   "toc_window_display": false
  }
 },
 "nbformat": 4,
 "nbformat_minor": 2
}
