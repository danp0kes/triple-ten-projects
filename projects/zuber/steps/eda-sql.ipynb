{
 "cells": [
  {
   "cell_type": "markdown",
   "metadata": {},
   "source": [
    "Print the company_name field. Find the number of taxi rides for each taxi company for November 15-16, 2017, name the resulting field trips_amount, and print it, too. Sort the results by the trips_amount field in descending order."
   ]
  },
  {
   "cell_type": "markdown",
   "metadata": {},
   "source": [
    "``` sql\n",
    "\n",
    "SELECT\n",
    "    cabs.company_name AS company_name,\n",
    "    COUNT(trips.trip_id) AS trips_amount\n",
    "FROM\n",
    "    trips\n",
    "    INNER JOIN cabs ON trips.cab_id = cabs.cab_id\n",
    "WHERE\n",
    "    trips.start_ts::date BETWEEN '2017-11-15'\n",
    "    AND '2017-11-16'\n",
    "GROUP BY\n",
    "    company_name\n",
    "ORDER BY\n",
    "    trips_amount DESC;\n",
    "    \n",
    "```\n"
   ]
  },
  {
   "cell_type": "markdown",
   "metadata": {},
   "source": [
    "Output:"
   ]
  },
  {
   "cell_type": "markdown",
   "metadata": {},
   "source": [
    "```\n",
    "company_name\ttrips_amount\n",
    "Flash Cab\t19558\n",
    "Taxi Affiliation Services\t11422\n",
    "Medallion Leasin\t10367\n",
    "Yellow Cab\t9888\n",
    "Taxi Affiliation Service Yellow\t9299\n",
    "Chicago Carriage Cab Corp\t9181\n",
    "City Service\t8448\n",
    "Sun Taxi\t7701\n",
    "Star North Management LLC\t7455\n",
    "Blue Ribbon Taxi Association Inc.\t5953\n",
    "Choice Taxi Association\t5015\n",
    "Globe Taxi\t4383\n",
    "Dispatch Taxi Affiliation\t3355\n",
    "Nova Taxi Affiliation Llc\t3175\n",
    "Patriot Taxi Dba Peace Taxi Associat\t2235\n",
    "Checker Taxi Affiliation\t2216\n",
    "Blue Diamond\t2070\n",
    "Chicago Medallion Management\t1955\n",
    "24 Seven Taxi\t1775\n",
    "Chicago Medallion Leasing INC\t1607\n",
    "Checker Taxi\t1486\n",
    "American United\t1404\n",
    "Chicago Independents\t1296\n",
    "KOAM Taxi Association\t1259\n",
    "Chicago Taxicab\t1014\n",
    "Top Cab Affiliation\t978\n",
    "Gold Coast Taxi\t428\n",
    "Service Taxi Association\t402\n",
    "5 Star Taxi\t310\n",
    "303 Taxi\t250\n",
    "Setare Inc\t230\n",
    "American United Taxi Affiliation\t210\n",
    "Leonard Cab Co\t147\n",
    "Metro Jet Taxi A\t146\n",
    "Norshore Cab\t127\n",
    "6742 - 83735 Tasha ride inc\t39\n",
    "3591 - 63480 Chuks Cab\t37\n",
    "1469 - 64126 Omar Jada\t36\n",
    "0118 - 42111 Godfrey S.Awir\t33\n",
    "6743 - 78771 Luhak Corp\t33\n",
    "6574 - Babylon Express Inc.\t31\n",
    "Chicago Star Taxicab\t29\n",
    "1085 - 72312 N and W Cab Co\t29\n",
    "2809 - 95474 C & D Cab Co Inc.\t29\n",
    "2092 - 61288 Sbeih company\t27\n",
    "3011 - 66308 JBL Cab Inc.\t25\n",
    "3620 - 52292 David K. Cab Corp.\t21\n",
    "4615 - 83503 Tyrone Henderson\t21\n",
    "3623 - 72222 Arrington Enterprises\t20\n",
    "5074 - 54002 Ahzmi Inc\t16\n",
    "2823 - 73307 Lee Express Inc\t15\n",
    "4623 - 27290 Jay Kim\t15\n",
    "3721 - Santamaria Express, Alvaro Santamaria\t14\n",
    "5006 - 39261 Salifu Bawa\t14\n",
    "2192 - 73487 Zeymane Corp\t14\n",
    "6057 - 24657 Richard Addo\t13\n",
    "5997 - 65283 AW Services Inc.\t12\n",
    "Metro Group\t11\n",
    "5062 - 34841 Sam Mestas\t8\n",
    "4053 - 40193 Adwar H. Nikola\t7\n",
    "2733 - 74600 Benny Jona\t7\n",
    "5874 - 73628 Sergey Cab Corp.\t5\n",
    "2241 - 44667 - Felman Corp, Manuel Alonso\t3\n",
    "3556 - 36214 RC Andrews Cab\t2\n",
    "```"
   ]
  },
  {
   "cell_type": "markdown",
   "metadata": {},
   "source": [
    "Find the number of rides for every taxi company whose name contains the words \"Yellow\" or \"Blue\" for November 1-7, 2017. Name the resulting variable trips_amount. Group the results by the company_name field."
   ]
  },
  {
   "cell_type": "markdown",
   "metadata": {},
   "source": [
    "```sql\n",
    "\n",
    "SELECT\n",
    "    cabs.company_name AS company_name,\n",
    "    COUNT(trips.trip_id) AS trips_amount\n",
    "FROM\n",
    "    trips\n",
    "    INNER JOIN cabs ON trips.cab_id = cabs.cab_id\n",
    "WHERE\n",
    "    trips.start_ts::date BETWEEN '2017-11-1'\n",
    "    AND '2017-11-7'\n",
    "    AND (company_name LIKE '%Yellow%' \n",
    "         OR company_name LIKE '%Blue%')\n",
    "GROUP BY\n",
    "    company_name\n",
    "ORDER BY\n",
    "    trips_amount DESC;\n",
    "\n",
    "```"
   ]
  },
  {
   "cell_type": "markdown",
   "metadata": {},
   "source": [
    "Output:"
   ]
  },
  {
   "cell_type": "markdown",
   "metadata": {},
   "source": [
    "``` output\n",
    "\n",
    "company_name\ttrips_amount\n",
    "Yellow Cab\t33668\n",
    "Taxi Affiliation Service Yellow\t29213\n",
    "Blue Ribbon Taxi Association Inc.\t17675\n",
    "Blue Diamond\t6764\n",
    "```"
   ]
  },
  {
   "cell_type": "markdown",
   "metadata": {},
   "source": [
    "For November 1-7, 2017, the most popular taxi companies were Flash Cab and Taxi Affiliation Services. Find the number of rides for these two companies and name the resulting variable trips_amount. Join the rides for all other companies in the group \"Other.\" Group the data by taxi company names. Name the field with taxi company names company. Sort the result in descending order by trips_amount."
   ]
  },
  {
   "cell_type": "markdown",
   "metadata": {},
   "source": [
    "``` sql\n",
    "\n",
    "SELECT\n",
    "    CASE\n",
    "        WHEN company_name = 'Flash Cab' THEN 'Flash Cab'\n",
    "        WHEN company_name = 'Taxi Affiliation Services' THEN 'Taxi Affiliation Services'\n",
    "        ELSE 'Other'\n",
    "    END AS company_category,\n",
    "    COUNT(trips.trip_id) AS trips_amount\n",
    "FROM\n",
    "    trips\n",
    "    INNER JOIN cabs ON trips.cab_id = cabs.cab_id\n",
    "WHERE\n",
    "    trips.start_ts::date BETWEEN '2017-11-1' AND '2017-11-7'\n",
    "GROUP BY\n",
    "    CASE\n",
    "        WHEN company_name = 'Flash Cab' THEN 'Flash Cab'\n",
    "        WHEN company_name = 'Taxi Affiliation Services' THEN 'Taxi Affiliation Services'\n",
    "        ELSE 'Other'\n",
    "    END\n",
    "ORDER BY\n",
    "    trips_amount DESC;\n",
    "```"
   ]
  },
  {
   "cell_type": "markdown",
   "metadata": {},
   "source": [
    "Output:"
   ]
  },
  {
   "cell_type": "markdown",
   "metadata": {},
   "source": [
    "```\n",
    "company_category\ttrips_amount\n",
    "Other\t335771\n",
    "Flash Cab\t64084\n",
    "Taxi Affiliation Services\t37583\n",
    "```"
   ]
  }
 ],
 "metadata": {
  "kernelspec": {
   "display_name": "qtconsole",
   "language": "python",
   "name": "python3"
  },
  "language_info": {
   "codemirror_mode": {
    "name": "ipython",
    "version": 3
   },
   "file_extension": ".py",
   "mimetype": "text/x-python",
   "name": "python",
   "nbconvert_exporter": "python",
   "pygments_lexer": "ipython3",
   "version": "3.11.6"
  },
  "orig_nbformat": 4
 },
 "nbformat": 4,
 "nbformat_minor": 2
}
