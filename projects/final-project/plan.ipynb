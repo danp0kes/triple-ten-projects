{
 "cells": [
  {
   "cell_type": "markdown",
   "metadata": {},
   "source": [
    "# Proposed Work Plan\n",
    "\n",
    "The goal of the project is to develop a model that will determine which customers are likely to leave Telecom. This will follow these main steps:\n",
    "\n",
    "## 1. Load Data\n",
    "\n",
    "Before a model can be made, the data will be briefly prepared for an analysis to understand the best course of action to take when creating the model. The following steps will be done to do this:\n",
    "\n",
    "### 1.1 Import Packages\n",
    "\n",
    "Packages that enable the data to be analyzed, visualized, and modelled will be read in.\n",
    "\n",
    "### 1.2 Save Dataframes\n",
    "\n",
    "The four dataframes will be saved as `contract`, `internet`, `personal`, and `phone` using pandas.\n",
    "\n",
    "### 1.3 Inspect Dataframe\n",
    "\n",
    "Determine key insights about the data and the distribution of the target by looking to the `contracts` dataframe."
   ]
  },
  {
   "cell_type": "markdown",
   "metadata": {},
   "source": [
    "## 2 Prepare Data\n",
    "\n",
    "### 2.1 Merge DataFrames\n",
    "With the the `customer_ID` columns, merge each DataFrame. Handle appropriate missing values that may occur due to the merge.\n",
    "\n",
    "### 2.2 Change Column Names\n",
    "The dataframes will be editted for readability, ensuring that all column names are in snake_case. This will make it easier to reference later columns later. \n",
    "\n",
    "### 2.3 Change Column Datatypes\n",
    "Columns will be adjusted so that they fit the appropriate data types. To do so, the target will need to be extracted.\n",
    "\n",
    "### 2.4 Handle Missing Data\n",
    "Rows with missing values will be dealt with accordingly to ensure that data is sufficiently supplied.\n",
    "\n",
    "### 2.4 Delete Redundant Columns\n",
    "Confirm that columns contain redundant information and delete necessary columns.\n",
    "\n"
   ]
  },
  {
   "cell_type": "markdown",
   "metadata": {},
   "source": [
    "## 3 Exploratory Data Analysis\n",
    "\n",
    "Perform an analysis to understand the best way to move forward with the modelling process.\n",
    "\n",
    "### 3.1 Target Distribution\n",
    "\n",
    "Determine the distribution of the target. Use methods to decrease the effects of an imbalance if it occurs."
   ]
  },
  {
   "cell_type": "markdown",
   "metadata": {},
   "source": [
    "## 4 Pre-Process Data\n",
    "\n",
    "### 4.1 Feature Engineering\n",
    "\n",
    "Create new columns based on information from other columns. These may include:\n",
    "- Day of the week the customer signed up\n",
    "- Month that the customer signed up\n",
    "- Etc...\n",
    "\n",
    "### 4.2 Encode Data\n",
    "\n",
    "Use the appropriate encoding techniques with reference to the models that will be used.\n",
    "\n",
    "### 4.3 Scale Features\n",
    "\n",
    "Ensure that all feature values are scaled between 0 - 1 for efficient processing"
   ]
  },
  {
   "cell_type": "markdown",
   "metadata": {},
   "source": [
    "## 5 Create Model\n",
    "\n",
    "### 5.1 Split Data\n",
    "\n",
    "Split into validation and training sets. Split features from target.\n",
    "\n",
    "### 5.2 Create Models\n",
    "\n",
    "Initialize models for classification:\n",
    "- Logistic Regression\n",
    "- Random Forests\n",
    "- Gradient Descent\n",
    "\n",
    "Fine tune each with different hyperparameters to produce optimal AUC-ROC.\n",
    "\n",
    "### 5.3 Determine Best Model\n",
    "\n",
    "Find the model that produces the best AUC-ROC score and test on the validation set.\n",
    "\n",
    "### 5.4 Make Conclusions\n",
    "\n",
    "Summarize key findings and take-aways."
   ]
  },
  {
   "cell_type": "code",
   "execution_count": null,
   "metadata": {},
   "outputs": [],
   "source": [
    "## Questions\n",
    "\n"
   ]
  }
 ],
 "metadata": {
  "kernelspec": {
   "display_name": "qtconsole",
   "language": "python",
   "name": "python3"
  },
  "language_info": {
   "codemirror_mode": {
    "name": "ipython",
    "version": 3
   },
   "file_extension": ".py",
   "mimetype": "text/x-python",
   "name": "python",
   "nbconvert_exporter": "python",
   "pygments_lexer": "ipython3",
   "version": "3.11.6"
  },
  "orig_nbformat": 4
 },
 "nbformat": 4,
 "nbformat_minor": 2
}
