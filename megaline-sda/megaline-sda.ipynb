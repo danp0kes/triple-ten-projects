{
 "cells": [
  {
   "cell_type": "markdown",
   "metadata": {},
   "source": [
    "<div style=\"border:solid green 2px; padding: 20px\">\n",
    "    \n",
    "<b> Hello, Dan!</b> We're glad to see you in code-reviewer territory. You've done a great job on the project, but let's get to know each other and make it even better! We have our own atmosphere here and a few rules:\n",
    "\n",
    "\n",
    "1. My name is Alexander Matveevsky. I work as a code reviewer, and my main goal is not to point out your mistakes, but to share my experience and help you become a data analyst.\n",
    "2. We speak on a first-come-first-served basis.\n",
    "3. if you want to write or ask a question, don't be shy. Just choose your color for your comment.  \n",
    "4. this is a training project, you don't have to be afraid of making a mistake.  \n",
    "5. You have an unlimited number of attempts to pass the project.  \n",
    "6. Let's Go!\n",
    "\n",
    "\n",
    "---\n",
    "I'll be color-coding comments, please don't delete them:\n",
    "\n",
    "<div class=\"alert alert-block alert-danger\">✍\n",
    "    \n",
    "\n",
    "__Reviewer's comment №1__\n",
    "\n",
    "Needs fixing. The block requires some corrections. Work can't be accepted with the red comments.\n",
    "</div>\n",
    "    \n",
    "---\n",
    "\n",
    "<div class=\"alert alert-block alert-warning\">📝\n",
    "    \n",
    "\n",
    "__Reviewer's comment №1__\n",
    "\n",
    "\n",
    "Remarks. Some recommendations.\n",
    "</div>\n",
    "\n",
    "---\n",
    "\n",
    "<div class=\"alert alert-block alert-success\">✔️\n",
    "    \n",
    "\n",
    "__Reviewer's comment №1__\n",
    "\n",
    "Success. Everything is done succesfully.\n",
    "</div>\n",
    "    \n",
    "---\n",
    "    \n",
    "I suggest that we work on the project in dialogue: if you change something in the project or respond to my comments, write about it. It will be easier for me to track changes if you highlight your comments:   \n",
    "    \n",
    "<div class=\"alert alert-info\"> <b>Student сomments:</b> Student answer..</div>\n",
    "    \n",
    "All this will help to make the recheck of your project faster. If you have any questions about my comments, let me know, we'll figure it out together :)   \n",
    "    \n",
    "---"
   ]
  },
  {
   "cell_type": "markdown",
   "metadata": {},
   "source": [
    "# Which one is a better plan?\n",
    "\n",
    "You work as an analyst for the telecom operator Megaline. The company offers its clients two prepaid plans, Surf and Ultimate. The commercial department wants to know which of the plans brings in more revenue in order to adjust the advertising budget.\n",
    "\n",
    "You are going to carry out a preliminary analysis of the plans based on a relatively small client selection. You'll have the data on 500 Megaline clients: who the clients are, where they're from, which plan they use, and the number of calls they made and text messages they sent in 2018. Your job is to analyze the clients' behavior and determine which prepaid plan brings in more revenue."
   ]
  },
  {
   "cell_type": "markdown",
   "metadata": {},
   "source": [
    "The analysis on phone user data will first involve initializing, loading, and preparing the data. From here, the revenue of each user will be determined and aggregated on a monthly basis. This will allow for a comparison of calling, messaging, and internet usage behaviours between surf and ultimate plan users. Revenue will also be compared and used when looking to hypothesis testing. "
   ]
  },
  {
   "cell_type": "markdown",
   "metadata": {},
   "source": [
    "<div class=\"alert alert-block alert-success\">✔️\n",
    "    \n",
    "\n",
    "__Reviewer's comment №1__\n",
    "\n",
    "An excellent practice is to describe the goal and main steps in your own words (a skill that will help a lot on a final project). It would be good to add the progress and purpose of the study."
   ]
  },
  {
   "cell_type": "markdown",
   "metadata": {},
   "source": [
    "## Initialization"
   ]
  },
  {
   "cell_type": "markdown",
   "metadata": {},
   "source": [
    "Load appropriate libraries."
   ]
  },
  {
   "cell_type": "code",
   "execution_count": 1,
   "metadata": {},
   "outputs": [],
   "source": [
    "# For loading and manipulating dataframe objects\n",
    "import pandas as pd \n",
    "import numpy as np \n",
    "\n",
    "# For data visualization\n",
    "import matplotlib.pyplot as plt \n",
    "import seaborn as sns \n",
    "\n",
    "# For hypothesis testing\n",
    "from scipy import stats"
   ]
  },
  {
   "cell_type": "markdown",
   "metadata": {},
   "source": [
    "## Load data"
   ]
  },
  {
   "cell_type": "markdown",
   "metadata": {},
   "source": [
    "Read users, calls, messages, internet, and plans CSV files. Save approriately."
   ]
  },
  {
   "cell_type": "code",
   "execution_count": 2,
   "metadata": {},
   "outputs": [],
   "source": [
    "# Load the data files into different DataFrames\n",
    "users = pd.read_csv('/datasets/megaline_users.csv')\n",
    "calls = pd.read_csv('/datasets/megaline_calls.csv')\n",
    "messages = pd.read_csv('/datasets/megaline_messages.csv')\n",
    "internet = pd.read_csv('/datasets/megaline_internet.csv')\n",
    "plans = pd.read_csv('/datasets/megaline_plans.csv')"
   ]
  },
  {
   "cell_type": "markdown",
   "metadata": {},
   "source": [
    "## Prepare the data"
   ]
  },
  {
   "cell_type": "markdown",
   "metadata": {},
   "source": [
    "Each dataframe will be prepared by first looking into each datasets values and data types. These will be evaluated, fixed and enriched where appropriate."
   ]
  },
  {
   "cell_type": "markdown",
   "metadata": {},
   "source": [
    "## Plans"
   ]
  },
  {
   "cell_type": "code",
   "execution_count": 3,
   "metadata": {},
   "outputs": [
    {
     "name": "stdout",
     "output_type": "stream",
     "text": [
      "<class 'pandas.core.frame.DataFrame'>\n",
      "RangeIndex: 2 entries, 0 to 1\n",
      "Data columns (total 8 columns):\n",
      " #   Column                 Non-Null Count  Dtype  \n",
      "---  ------                 --------------  -----  \n",
      " 0   messages_included      2 non-null      int64  \n",
      " 1   mb_per_month_included  2 non-null      int64  \n",
      " 2   minutes_included       2 non-null      int64  \n",
      " 3   usd_monthly_pay        2 non-null      int64  \n",
      " 4   usd_per_gb             2 non-null      int64  \n",
      " 5   usd_per_message        2 non-null      float64\n",
      " 6   usd_per_minute         2 non-null      float64\n",
      " 7   plan_name              2 non-null      object \n",
      "dtypes: float64(2), int64(5), object(1)\n",
      "memory usage: 256.0+ bytes\n"
     ]
    }
   ],
   "source": [
    "# Print the general/summary information about the plans' DataFrame\n",
    "plans.info()"
   ]
  },
  {
   "cell_type": "code",
   "execution_count": 4,
   "metadata": {
    "scrolled": true
   },
   "outputs": [
    {
     "data": {
      "text/html": [
       "<div>\n",
       "<style scoped>\n",
       "    .dataframe tbody tr th:only-of-type {\n",
       "        vertical-align: middle;\n",
       "    }\n",
       "\n",
       "    .dataframe tbody tr th {\n",
       "        vertical-align: top;\n",
       "    }\n",
       "\n",
       "    .dataframe thead th {\n",
       "        text-align: right;\n",
       "    }\n",
       "</style>\n",
       "<table border=\"1\" class=\"dataframe\">\n",
       "  <thead>\n",
       "    <tr style=\"text-align: right;\">\n",
       "      <th></th>\n",
       "      <th>messages_included</th>\n",
       "      <th>mb_per_month_included</th>\n",
       "      <th>minutes_included</th>\n",
       "      <th>usd_monthly_pay</th>\n",
       "      <th>usd_per_gb</th>\n",
       "      <th>usd_per_message</th>\n",
       "      <th>usd_per_minute</th>\n",
       "      <th>plan_name</th>\n",
       "    </tr>\n",
       "  </thead>\n",
       "  <tbody>\n",
       "    <tr>\n",
       "      <th>0</th>\n",
       "      <td>50</td>\n",
       "      <td>15360</td>\n",
       "      <td>500</td>\n",
       "      <td>20</td>\n",
       "      <td>10</td>\n",
       "      <td>0.03</td>\n",
       "      <td>0.03</td>\n",
       "      <td>surf</td>\n",
       "    </tr>\n",
       "    <tr>\n",
       "      <th>1</th>\n",
       "      <td>1000</td>\n",
       "      <td>30720</td>\n",
       "      <td>3000</td>\n",
       "      <td>70</td>\n",
       "      <td>7</td>\n",
       "      <td>0.01</td>\n",
       "      <td>0.01</td>\n",
       "      <td>ultimate</td>\n",
       "    </tr>\n",
       "  </tbody>\n",
       "</table>\n",
       "</div>"
      ],
      "text/plain": [
       "   messages_included  mb_per_month_included  minutes_included  \\\n",
       "0                 50                  15360               500   \n",
       "1               1000                  30720              3000   \n",
       "\n",
       "   usd_monthly_pay  usd_per_gb  usd_per_message  usd_per_minute plan_name  \n",
       "0               20          10             0.03            0.03      surf  \n",
       "1               70           7             0.01            0.01  ultimate  "
      ]
     },
     "execution_count": 4,
     "metadata": {},
     "output_type": "execute_result"
    }
   ],
   "source": [
    "# Print a sample of data for plans\n",
    "plans.sample(2)"
   ]
  },
  {
   "cell_type": "markdown",
   "metadata": {},
   "source": [
    "No missing data exists and all data is in the correct data type. We can reorder the data so that the plan name is given first."
   ]
  },
  {
   "cell_type": "markdown",
   "metadata": {},
   "source": [
    " "
   ]
  },
  {
   "cell_type": "markdown",
   "metadata": {},
   "source": [
    "### Fix data"
   ]
  },
  {
   "cell_type": "markdown",
   "metadata": {},
   "source": [
    "Reorder columns"
   ]
  },
  {
   "cell_type": "code",
   "execution_count": 5,
   "metadata": {},
   "outputs": [
    {
     "data": {
      "text/html": [
       "<div>\n",
       "<style scoped>\n",
       "    .dataframe tbody tr th:only-of-type {\n",
       "        vertical-align: middle;\n",
       "    }\n",
       "\n",
       "    .dataframe tbody tr th {\n",
       "        vertical-align: top;\n",
       "    }\n",
       "\n",
       "    .dataframe thead th {\n",
       "        text-align: right;\n",
       "    }\n",
       "</style>\n",
       "<table border=\"1\" class=\"dataframe\">\n",
       "  <thead>\n",
       "    <tr style=\"text-align: right;\">\n",
       "      <th></th>\n",
       "      <th>plan_name</th>\n",
       "      <th>messages_included</th>\n",
       "      <th>mb_per_month_included</th>\n",
       "      <th>minutes_included</th>\n",
       "      <th>usd_monthly_pay</th>\n",
       "      <th>usd_per_gb</th>\n",
       "      <th>usd_per_message</th>\n",
       "      <th>usd_per_minute</th>\n",
       "    </tr>\n",
       "  </thead>\n",
       "  <tbody>\n",
       "    <tr>\n",
       "      <th>0</th>\n",
       "      <td>surf</td>\n",
       "      <td>50</td>\n",
       "      <td>15360</td>\n",
       "      <td>500</td>\n",
       "      <td>20</td>\n",
       "      <td>10</td>\n",
       "      <td>0.03</td>\n",
       "      <td>0.03</td>\n",
       "    </tr>\n",
       "    <tr>\n",
       "      <th>1</th>\n",
       "      <td>ultimate</td>\n",
       "      <td>1000</td>\n",
       "      <td>30720</td>\n",
       "      <td>3000</td>\n",
       "      <td>70</td>\n",
       "      <td>7</td>\n",
       "      <td>0.01</td>\n",
       "      <td>0.01</td>\n",
       "    </tr>\n",
       "  </tbody>\n",
       "</table>\n",
       "</div>"
      ],
      "text/plain": [
       "  plan_name  messages_included  mb_per_month_included  minutes_included  \\\n",
       "0      surf                 50                  15360               500   \n",
       "1  ultimate               1000                  30720              3000   \n",
       "\n",
       "   usd_monthly_pay  usd_per_gb  usd_per_message  usd_per_minute  \n",
       "0               20          10             0.03            0.03  \n",
       "1               70           7             0.01            0.01  "
      ]
     },
     "execution_count": 5,
     "metadata": {},
     "output_type": "execute_result"
    }
   ],
   "source": [
    "# Reorder columns\n",
    "# Save list of columns\n",
    "cols = plans.columns.tolist()\n",
    "\n",
    "# Reorder last value as first followed by others\n",
    "cols = cols[-1:] + cols[:-1]\n",
    "\n",
    "# Save plans with reorders cols\n",
    "plans = plans[cols]\n",
    "\n",
    "# Show plans\n",
    "plans"
   ]
  },
  {
   "cell_type": "markdown",
   "metadata": {},
   "source": [
    "### Enrich data"
   ]
  },
  {
   "cell_type": "markdown",
   "metadata": {},
   "source": [
    "Add a column for megabytes to gigabytes conversion. This will be helpful later when determing how many gigabytess have been used. 1024 megabytes equate to one gigabyte."
   ]
  },
  {
   "cell_type": "code",
   "execution_count": 6,
   "metadata": {},
   "outputs": [],
   "source": [
    "# Set gb_per_month as mb_per_month divided by 1024 \n",
    "plans['gb_per_month_included'] = plans['mb_per_month_included'] / 1024\n",
    "\n",
    "# Drop mb_per_month_included column\n",
    "plans = plans.drop(columns='mb_per_month_included')"
   ]
  },
  {
   "cell_type": "markdown",
   "metadata": {},
   "source": [
    "<div class=\"alert alert-block alert-success\">✔️\n",
    "    \n",
    "\n",
    "__Reviewer's comment №1__\n",
    "\n",
    "That's right, there are 1,024 megabytes in one gigabyte."
   ]
  },
  {
   "cell_type": "markdown",
   "metadata": {},
   "source": [
    "## Users"
   ]
  },
  {
   "cell_type": "code",
   "execution_count": 7,
   "metadata": {},
   "outputs": [
    {
     "name": "stdout",
     "output_type": "stream",
     "text": [
      "<class 'pandas.core.frame.DataFrame'>\n",
      "RangeIndex: 500 entries, 0 to 499\n",
      "Data columns (total 8 columns):\n",
      " #   Column      Non-Null Count  Dtype \n",
      "---  ------      --------------  ----- \n",
      " 0   user_id     500 non-null    int64 \n",
      " 1   first_name  500 non-null    object\n",
      " 2   last_name   500 non-null    object\n",
      " 3   age         500 non-null    int64 \n",
      " 4   city        500 non-null    object\n",
      " 5   reg_date    500 non-null    object\n",
      " 6   plan        500 non-null    object\n",
      " 7   churn_date  34 non-null     object\n",
      "dtypes: int64(2), object(6)\n",
      "memory usage: 31.4+ KB\n"
     ]
    }
   ],
   "source": [
    "# Print the general/summary information about the users' DataFrame\n",
    "users.info()"
   ]
  },
  {
   "cell_type": "code",
   "execution_count": 8,
   "metadata": {},
   "outputs": [
    {
     "data": {
      "text/html": [
       "<div>\n",
       "<style scoped>\n",
       "    .dataframe tbody tr th:only-of-type {\n",
       "        vertical-align: middle;\n",
       "    }\n",
       "\n",
       "    .dataframe tbody tr th {\n",
       "        vertical-align: top;\n",
       "    }\n",
       "\n",
       "    .dataframe thead th {\n",
       "        text-align: right;\n",
       "    }\n",
       "</style>\n",
       "<table border=\"1\" class=\"dataframe\">\n",
       "  <thead>\n",
       "    <tr style=\"text-align: right;\">\n",
       "      <th></th>\n",
       "      <th>user_id</th>\n",
       "      <th>first_name</th>\n",
       "      <th>last_name</th>\n",
       "      <th>age</th>\n",
       "      <th>city</th>\n",
       "      <th>reg_date</th>\n",
       "      <th>plan</th>\n",
       "      <th>churn_date</th>\n",
       "    </tr>\n",
       "  </thead>\n",
       "  <tbody>\n",
       "    <tr>\n",
       "      <th>47</th>\n",
       "      <td>1047</td>\n",
       "      <td>Yuk</td>\n",
       "      <td>French</td>\n",
       "      <td>22</td>\n",
       "      <td>Indianapolis-Carmel-Anderson, IN MSA</td>\n",
       "      <td>2018-06-16</td>\n",
       "      <td>ultimate</td>\n",
       "      <td>NaN</td>\n",
       "    </tr>\n",
       "    <tr>\n",
       "      <th>179</th>\n",
       "      <td>1179</td>\n",
       "      <td>Darcey</td>\n",
       "      <td>Baird</td>\n",
       "      <td>22</td>\n",
       "      <td>Dallas-Fort Worth-Arlington, TX MSA</td>\n",
       "      <td>2018-04-27</td>\n",
       "      <td>surf</td>\n",
       "      <td>NaN</td>\n",
       "    </tr>\n",
       "    <tr>\n",
       "      <th>395</th>\n",
       "      <td>1395</td>\n",
       "      <td>Leonard</td>\n",
       "      <td>Wooten</td>\n",
       "      <td>24</td>\n",
       "      <td>New York-Newark-Jersey City, NY-NJ-PA MSA</td>\n",
       "      <td>2018-06-19</td>\n",
       "      <td>ultimate</td>\n",
       "      <td>NaN</td>\n",
       "    </tr>\n",
       "    <tr>\n",
       "      <th>20</th>\n",
       "      <td>1020</td>\n",
       "      <td>Rutha</td>\n",
       "      <td>Bell</td>\n",
       "      <td>56</td>\n",
       "      <td>Dallas-Fort Worth-Arlington, TX MSA</td>\n",
       "      <td>2018-11-08</td>\n",
       "      <td>surf</td>\n",
       "      <td>NaN</td>\n",
       "    </tr>\n",
       "    <tr>\n",
       "      <th>481</th>\n",
       "      <td>1481</td>\n",
       "      <td>Roni</td>\n",
       "      <td>Frye</td>\n",
       "      <td>32</td>\n",
       "      <td>Urban Honolulu, HI MSA</td>\n",
       "      <td>2018-12-27</td>\n",
       "      <td>surf</td>\n",
       "      <td>NaN</td>\n",
       "    </tr>\n",
       "  </tbody>\n",
       "</table>\n",
       "</div>"
      ],
      "text/plain": [
       "     user_id first_name last_name  age  \\\n",
       "47      1047        Yuk    French   22   \n",
       "179     1179     Darcey     Baird   22   \n",
       "395     1395    Leonard    Wooten   24   \n",
       "20      1020      Rutha      Bell   56   \n",
       "481     1481       Roni      Frye   32   \n",
       "\n",
       "                                          city    reg_date      plan  \\\n",
       "47        Indianapolis-Carmel-Anderson, IN MSA  2018-06-16  ultimate   \n",
       "179        Dallas-Fort Worth-Arlington, TX MSA  2018-04-27      surf   \n",
       "395  New York-Newark-Jersey City, NY-NJ-PA MSA  2018-06-19  ultimate   \n",
       "20         Dallas-Fort Worth-Arlington, TX MSA  2018-11-08      surf   \n",
       "481                     Urban Honolulu, HI MSA  2018-12-27      surf   \n",
       "\n",
       "    churn_date  \n",
       "47         NaN  \n",
       "179        NaN  \n",
       "395        NaN  \n",
       "20         NaN  \n",
       "481        NaN  "
      ]
     },
     "execution_count": 8,
     "metadata": {},
     "output_type": "execute_result"
    }
   ],
   "source": [
    "# Print a sample of data for users\n",
    "users.sample(5)"
   ]
  },
  {
   "cell_type": "code",
   "execution_count": 9,
   "metadata": {},
   "outputs": [
    {
     "data": {
      "text/plain": [
       "1024    1\n",
       "1353    1\n",
       "1366    1\n",
       "1365    1\n",
       "1364    1\n",
       "       ..\n",
       "1185    1\n",
       "1184    1\n",
       "1183    1\n",
       "1182    1\n",
       "1023    1\n",
       "Name: user_id, Length: 500, dtype: int64"
      ]
     },
     "execution_count": 9,
     "metadata": {},
     "output_type": "execute_result"
    }
   ],
   "source": [
    "# ID column should only contain unique values. Check for duplicates by counting values for id\n",
    "users['user_id'].value_counts(ascending=False)"
   ]
  },
  {
   "cell_type": "markdown",
   "metadata": {},
   "source": [
    "The registration and churn date is in the form of an object. This needs to be changed to date-time using pandas. The city also includes 'MSA' at the end of each string. This will be removed using the replace method. The User ID column only contains unique values so no duplicates exist."
   ]
  },
  {
   "cell_type": "markdown",
   "metadata": {},
   "source": [
    " "
   ]
  },
  {
   "cell_type": "markdown",
   "metadata": {},
   "source": [
    "### Fix Data"
   ]
  },
  {
   "cell_type": "markdown",
   "metadata": {},
   "source": [
    "Change registration and churn dates to date-time."
   ]
  },
  {
   "cell_type": "code",
   "execution_count": 10,
   "metadata": {},
   "outputs": [],
   "source": [
    "# reg_date to datetime\n",
    "users['reg_date'] = pd.to_datetime(users['reg_date'])\n",
    "\n",
    "# churn_date to datetime\n",
    "users['churn_date'] = pd.to_datetime(users['churn_date'])"
   ]
  },
  {
   "cell_type": "markdown",
   "metadata": {},
   "source": [
    "Replace' MSA' within city columns."
   ]
  },
  {
   "cell_type": "code",
   "execution_count": 11,
   "metadata": {},
   "outputs": [],
   "source": [
    "#replace 'MSA' in city column with blank\n",
    "users['city'] = users['city'].str.replace(' MSA','') "
   ]
  },
  {
   "cell_type": "markdown",
   "metadata": {},
   "source": [
    "## Calls"
   ]
  },
  {
   "cell_type": "code",
   "execution_count": 12,
   "metadata": {},
   "outputs": [
    {
     "name": "stdout",
     "output_type": "stream",
     "text": [
      "<class 'pandas.core.frame.DataFrame'>\n",
      "RangeIndex: 137735 entries, 0 to 137734\n",
      "Data columns (total 4 columns):\n",
      " #   Column     Non-Null Count   Dtype  \n",
      "---  ------     --------------   -----  \n",
      " 0   id         137735 non-null  object \n",
      " 1   user_id    137735 non-null  int64  \n",
      " 2   call_date  137735 non-null  object \n",
      " 3   duration   137735 non-null  float64\n",
      "dtypes: float64(1), int64(1), object(2)\n",
      "memory usage: 4.2+ MB\n"
     ]
    }
   ],
   "source": [
    "# Print the general/summary information about the calls' DataFrame\n",
    "calls.info()"
   ]
  },
  {
   "cell_type": "code",
   "execution_count": 13,
   "metadata": {},
   "outputs": [
    {
     "data": {
      "text/html": [
       "<div>\n",
       "<style scoped>\n",
       "    .dataframe tbody tr th:only-of-type {\n",
       "        vertical-align: middle;\n",
       "    }\n",
       "\n",
       "    .dataframe tbody tr th {\n",
       "        vertical-align: top;\n",
       "    }\n",
       "\n",
       "    .dataframe thead th {\n",
       "        text-align: right;\n",
       "    }\n",
       "</style>\n",
       "<table border=\"1\" class=\"dataframe\">\n",
       "  <thead>\n",
       "    <tr style=\"text-align: right;\">\n",
       "      <th></th>\n",
       "      <th>id</th>\n",
       "      <th>user_id</th>\n",
       "      <th>call_date</th>\n",
       "      <th>duration</th>\n",
       "    </tr>\n",
       "  </thead>\n",
       "  <tbody>\n",
       "    <tr>\n",
       "      <th>117475</th>\n",
       "      <td>1411_69</td>\n",
       "      <td>1411</td>\n",
       "      <td>2018-10-19</td>\n",
       "      <td>2.79</td>\n",
       "    </tr>\n",
       "    <tr>\n",
       "      <th>65776</th>\n",
       "      <td>1237_383</td>\n",
       "      <td>1237</td>\n",
       "      <td>2018-09-17</td>\n",
       "      <td>3.43</td>\n",
       "    </tr>\n",
       "    <tr>\n",
       "      <th>107413</th>\n",
       "      <td>1381_150</td>\n",
       "      <td>1381</td>\n",
       "      <td>2018-10-11</td>\n",
       "      <td>0.00</td>\n",
       "    </tr>\n",
       "    <tr>\n",
       "      <th>35529</th>\n",
       "      <td>1132_1058</td>\n",
       "      <td>1132</td>\n",
       "      <td>2018-12-25</td>\n",
       "      <td>3.66</td>\n",
       "    </tr>\n",
       "    <tr>\n",
       "      <th>41106</th>\n",
       "      <td>1151_284</td>\n",
       "      <td>1151</td>\n",
       "      <td>2018-12-01</td>\n",
       "      <td>8.56</td>\n",
       "    </tr>\n",
       "    <tr>\n",
       "      <th>39186</th>\n",
       "      <td>1146_243</td>\n",
       "      <td>1146</td>\n",
       "      <td>2018-12-07</td>\n",
       "      <td>11.48</td>\n",
       "    </tr>\n",
       "    <tr>\n",
       "      <th>41784</th>\n",
       "      <td>1153_614</td>\n",
       "      <td>1153</td>\n",
       "      <td>2018-11-20</td>\n",
       "      <td>0.55</td>\n",
       "    </tr>\n",
       "    <tr>\n",
       "      <th>69154</th>\n",
       "      <td>1248_61</td>\n",
       "      <td>1248</td>\n",
       "      <td>2018-12-24</td>\n",
       "      <td>14.87</td>\n",
       "    </tr>\n",
       "    <tr>\n",
       "      <th>134055</th>\n",
       "      <td>1488_152</td>\n",
       "      <td>1488</td>\n",
       "      <td>2018-08-28</td>\n",
       "      <td>0.00</td>\n",
       "    </tr>\n",
       "    <tr>\n",
       "      <th>75088</th>\n",
       "      <td>1264_460</td>\n",
       "      <td>1264</td>\n",
       "      <td>2018-11-02</td>\n",
       "      <td>0.00</td>\n",
       "    </tr>\n",
       "  </tbody>\n",
       "</table>\n",
       "</div>"
      ],
      "text/plain": [
       "               id  user_id   call_date  duration\n",
       "117475    1411_69     1411  2018-10-19      2.79\n",
       "65776    1237_383     1237  2018-09-17      3.43\n",
       "107413   1381_150     1381  2018-10-11      0.00\n",
       "35529   1132_1058     1132  2018-12-25      3.66\n",
       "41106    1151_284     1151  2018-12-01      8.56\n",
       "39186    1146_243     1146  2018-12-07     11.48\n",
       "41784    1153_614     1153  2018-11-20      0.55\n",
       "69154     1248_61     1248  2018-12-24     14.87\n",
       "134055   1488_152     1488  2018-08-28      0.00\n",
       "75088    1264_460     1264  2018-11-02      0.00"
      ]
     },
     "execution_count": 13,
     "metadata": {},
     "output_type": "execute_result"
    }
   ],
   "source": [
    "# Print a sample of data for calls\n",
    "calls.sample(10)"
   ]
  },
  {
   "cell_type": "code",
   "execution_count": 14,
   "metadata": {},
   "outputs": [
    {
     "data": {
      "text/plain": [
       "1185_4      1\n",
       "1192_643    1\n",
       "1412_524    1\n",
       "1014_770    1\n",
       "1030_18     1\n",
       "Name: id, dtype: int64"
      ]
     },
     "execution_count": 14,
     "metadata": {},
     "output_type": "execute_result"
    }
   ],
   "source": [
    "# ID column should only contain unique values. Check for duplicates by counting values for id\n",
    "calls['id'].value_counts(ascending=False).head()"
   ]
  },
  {
   "cell_type": "markdown",
   "metadata": {},
   "source": [
    "Call date will be converted to date-time. Since call minutes are rounded up to the nearest number, duration type will be converted to an integer. Values round down when using this method, so each are increased by one to reflect plan terms where each minute is rounded up.  All User IDs are unique. "
   ]
  },
  {
   "cell_type": "markdown",
   "metadata": {},
   "source": [
    "### Fix data"
   ]
  },
  {
   "cell_type": "markdown",
   "metadata": {},
   "source": [
    "Convert call date to date-time."
   ]
  },
  {
   "cell_type": "code",
   "execution_count": 15,
   "metadata": {},
   "outputs": [],
   "source": [
    "# Convert call date to datetime\n",
    "calls['call_date'] = pd.to_datetime(calls['call_date'])"
   ]
  },
  {
   "cell_type": "markdown",
   "metadata": {},
   "source": [
    "Round up duration to the nearest minute, save column as an integer"
   ]
  },
  {
   "cell_type": "code",
   "execution_count": 16,
   "metadata": {},
   "outputs": [],
   "source": [
    "# Round duration up using np.ceil()\n",
    "calls['duration'] = np.ceil(calls['duration'])\n",
    "\n",
    "# Save as type int\n",
    "calls['duration'] = calls['duration'].astype('int')"
   ]
  },
  {
   "cell_type": "markdown",
   "metadata": {},
   "source": [
    "<div class=\"alert alert-block alert-danger\">✍\n",
    "    \n",
    "\n",
    "__Reviewer's comment №1__\n",
    "\n",
    "Incorrect implementation. We need to round up. The np.ceil() method is suitable for this purpose"
   ]
  },
  {
   "cell_type": "markdown",
   "metadata": {},
   "source": [
    "<div class=\"alert alert-info\"> <b>Student сomments:</b> Thanks for the tip! I don't believe this is in the course. <div>"
   ]
  },
  {
   "cell_type": "markdown",
   "metadata": {},
   "source": [
    "<div class=\"alert alert-block alert-success\">✔️\n",
    "    \n",
    "\n",
    "__Reviewer's comment №2__\n",
    "\n",
    "All right. It's a method you learned in your course"
   ]
  },
  {
   "cell_type": "markdown",
   "metadata": {},
   "source": [
    "### Enrich data"
   ]
  },
  {
   "cell_type": "markdown",
   "metadata": {},
   "source": [
    "Create a column to group data by month."
   ]
  },
  {
   "cell_type": "code",
   "execution_count": 17,
   "metadata": {},
   "outputs": [],
   "source": [
    "# Assign new column 'month'\n",
    "calls['month'] = calls['call_date'].dt.month"
   ]
  },
  {
   "cell_type": "markdown",
   "metadata": {},
   "source": [
    "## Messages"
   ]
  },
  {
   "cell_type": "code",
   "execution_count": 18,
   "metadata": {},
   "outputs": [
    {
     "name": "stdout",
     "output_type": "stream",
     "text": [
      "<class 'pandas.core.frame.DataFrame'>\n",
      "RangeIndex: 76051 entries, 0 to 76050\n",
      "Data columns (total 3 columns):\n",
      " #   Column        Non-Null Count  Dtype \n",
      "---  ------        --------------  ----- \n",
      " 0   id            76051 non-null  object\n",
      " 1   user_id       76051 non-null  int64 \n",
      " 2   message_date  76051 non-null  object\n",
      "dtypes: int64(1), object(2)\n",
      "memory usage: 1.7+ MB\n"
     ]
    }
   ],
   "source": [
    "# Print the general/summary information about the messages' DataFrame\n",
    "messages.info()"
   ]
  },
  {
   "cell_type": "code",
   "execution_count": 19,
   "metadata": {},
   "outputs": [
    {
     "data": {
      "text/html": [
       "<div>\n",
       "<style scoped>\n",
       "    .dataframe tbody tr th:only-of-type {\n",
       "        vertical-align: middle;\n",
       "    }\n",
       "\n",
       "    .dataframe tbody tr th {\n",
       "        vertical-align: top;\n",
       "    }\n",
       "\n",
       "    .dataframe thead th {\n",
       "        text-align: right;\n",
       "    }\n",
       "</style>\n",
       "<table border=\"1\" class=\"dataframe\">\n",
       "  <thead>\n",
       "    <tr style=\"text-align: right;\">\n",
       "      <th></th>\n",
       "      <th>id</th>\n",
       "      <th>user_id</th>\n",
       "      <th>message_date</th>\n",
       "    </tr>\n",
       "  </thead>\n",
       "  <tbody>\n",
       "    <tr>\n",
       "      <th>52962</th>\n",
       "      <td>1339_96</td>\n",
       "      <td>1339</td>\n",
       "      <td>2018-09-13</td>\n",
       "    </tr>\n",
       "    <tr>\n",
       "      <th>43374</th>\n",
       "      <td>1287_48</td>\n",
       "      <td>1287</td>\n",
       "      <td>2018-12-11</td>\n",
       "    </tr>\n",
       "    <tr>\n",
       "      <th>21383</th>\n",
       "      <td>1132_699</td>\n",
       "      <td>1132</td>\n",
       "      <td>2018-11-16</td>\n",
       "    </tr>\n",
       "    <tr>\n",
       "      <th>41561</th>\n",
       "      <td>1267_72</td>\n",
       "      <td>1267</td>\n",
       "      <td>2018-12-09</td>\n",
       "    </tr>\n",
       "    <tr>\n",
       "      <th>8821</th>\n",
       "      <td>1065_92</td>\n",
       "      <td>1065</td>\n",
       "      <td>2018-12-26</td>\n",
       "    </tr>\n",
       "  </tbody>\n",
       "</table>\n",
       "</div>"
      ],
      "text/plain": [
       "             id  user_id message_date\n",
       "52962   1339_96     1339   2018-09-13\n",
       "43374   1287_48     1287   2018-12-11\n",
       "21383  1132_699     1132   2018-11-16\n",
       "41561   1267_72     1267   2018-12-09\n",
       "8821    1065_92     1065   2018-12-26"
      ]
     },
     "execution_count": 19,
     "metadata": {},
     "output_type": "execute_result"
    }
   ],
   "source": [
    "# Print a sample of data for messages\n",
    "messages.sample(5)"
   ]
  },
  {
   "cell_type": "code",
   "execution_count": 20,
   "metadata": {},
   "outputs": [
    {
     "data": {
      "text/plain": [
       "1101_328    1\n",
       "1028_287    1\n",
       "1036_147    1\n",
       "1056_65     1\n",
       "1460_413    1\n",
       "Name: id, dtype: int64"
      ]
     },
     "execution_count": 20,
     "metadata": {},
     "output_type": "execute_result"
    }
   ],
   "source": [
    "# ID column should only contain unique values. Check for duplicates by counting values for id, descending order\n",
    "messages['id'].value_counts(ascending=False).head()"
   ]
  },
  {
   "cell_type": "markdown",
   "metadata": {},
   "source": [
    "Message date will be converted to date-time. Other wise, dtypes are appropriate, no missing data is shown, and all ID values are unique."
   ]
  },
  {
   "cell_type": "markdown",
   "metadata": {},
   "source": [
    "### Fix data"
   ]
  },
  {
   "cell_type": "markdown",
   "metadata": {},
   "source": [
    "Convert message date to date-time."
   ]
  },
  {
   "cell_type": "code",
   "execution_count": 21,
   "metadata": {},
   "outputs": [],
   "source": [
    "# Convert message date to datetime\n",
    "messages['message_date'] = pd.to_datetime(messages['message_date'])"
   ]
  },
  {
   "cell_type": "markdown",
   "metadata": {},
   "source": [
    "### Enrich data"
   ]
  },
  {
   "cell_type": "markdown",
   "metadata": {},
   "source": [
    "As with calls data, assign new column 'month'."
   ]
  },
  {
   "cell_type": "code",
   "execution_count": 22,
   "metadata": {},
   "outputs": [],
   "source": [
    "# Assign new column 'month'\n",
    "messages['month'] = messages['message_date'].dt.month"
   ]
  },
  {
   "cell_type": "markdown",
   "metadata": {},
   "source": [
    "## Internet"
   ]
  },
  {
   "cell_type": "code",
   "execution_count": 23,
   "metadata": {},
   "outputs": [
    {
     "name": "stdout",
     "output_type": "stream",
     "text": [
      "<class 'pandas.core.frame.DataFrame'>\n",
      "RangeIndex: 104825 entries, 0 to 104824\n",
      "Data columns (total 4 columns):\n",
      " #   Column        Non-Null Count   Dtype  \n",
      "---  ------        --------------   -----  \n",
      " 0   id            104825 non-null  object \n",
      " 1   user_id       104825 non-null  int64  \n",
      " 2   session_date  104825 non-null  object \n",
      " 3   mb_used       104825 non-null  float64\n",
      "dtypes: float64(1), int64(1), object(2)\n",
      "memory usage: 3.2+ MB\n"
     ]
    }
   ],
   "source": [
    "# Print the general/summary information about the internet DataFrame\n",
    "internet.info()"
   ]
  },
  {
   "cell_type": "code",
   "execution_count": 24,
   "metadata": {},
   "outputs": [
    {
     "data": {
      "text/html": [
       "<div>\n",
       "<style scoped>\n",
       "    .dataframe tbody tr th:only-of-type {\n",
       "        vertical-align: middle;\n",
       "    }\n",
       "\n",
       "    .dataframe tbody tr th {\n",
       "        vertical-align: top;\n",
       "    }\n",
       "\n",
       "    .dataframe thead th {\n",
       "        text-align: right;\n",
       "    }\n",
       "</style>\n",
       "<table border=\"1\" class=\"dataframe\">\n",
       "  <thead>\n",
       "    <tr style=\"text-align: right;\">\n",
       "      <th></th>\n",
       "      <th>id</th>\n",
       "      <th>user_id</th>\n",
       "      <th>session_date</th>\n",
       "      <th>mb_used</th>\n",
       "    </tr>\n",
       "  </thead>\n",
       "  <tbody>\n",
       "    <tr>\n",
       "      <th>33804</th>\n",
       "      <td>1153_376</td>\n",
       "      <td>1153</td>\n",
       "      <td>2018-07-04</td>\n",
       "      <td>0.00</td>\n",
       "    </tr>\n",
       "    <tr>\n",
       "      <th>94907</th>\n",
       "      <td>1442_26</td>\n",
       "      <td>1442</td>\n",
       "      <td>2018-12-21</td>\n",
       "      <td>0.00</td>\n",
       "    </tr>\n",
       "    <tr>\n",
       "      <th>66110</th>\n",
       "      <td>1305_327</td>\n",
       "      <td>1305</td>\n",
       "      <td>2018-08-18</td>\n",
       "      <td>132.44</td>\n",
       "    </tr>\n",
       "    <tr>\n",
       "      <th>16014</th>\n",
       "      <td>1072_429</td>\n",
       "      <td>1072</td>\n",
       "      <td>2018-12-01</td>\n",
       "      <td>166.18</td>\n",
       "    </tr>\n",
       "    <tr>\n",
       "      <th>11741</th>\n",
       "      <td>1057_81</td>\n",
       "      <td>1057</td>\n",
       "      <td>2018-11-06</td>\n",
       "      <td>1134.62</td>\n",
       "    </tr>\n",
       "  </tbody>\n",
       "</table>\n",
       "</div>"
      ],
      "text/plain": [
       "             id  user_id session_date  mb_used\n",
       "33804  1153_376     1153   2018-07-04     0.00\n",
       "94907   1442_26     1442   2018-12-21     0.00\n",
       "66110  1305_327     1305   2018-08-18   132.44\n",
       "16014  1072_429     1072   2018-12-01   166.18\n",
       "11741   1057_81     1057   2018-11-06  1134.62"
      ]
     },
     "execution_count": 24,
     "metadata": {},
     "output_type": "execute_result"
    }
   ],
   "source": [
    "# Print a sample of data for the internet traffic\n",
    "internet.sample(5)"
   ]
  },
  {
   "cell_type": "code",
   "execution_count": 25,
   "metadata": {},
   "outputs": [
    {
     "data": {
      "text/plain": [
       "1185_4      1\n",
       "1069_381    1\n",
       "1010_90     1\n",
       "1418_95     1\n",
       "1468_324    1\n",
       "Name: id, dtype: int64"
      ]
     },
     "execution_count": 25,
     "metadata": {},
     "output_type": "execute_result"
    }
   ],
   "source": [
    "# ID column should only contain unique values. Check for duplicates by counting values for id, descending order\n",
    "internet['id'].value_counts(ascending=False).head()"
   ]
  },
  {
   "cell_type": "markdown",
   "metadata": {},
   "source": [
    "Message date will be converted to date-time. As charges occur in gigabytes, data used will be converted to gigabytes. Otherwise, data types are appropriate, no missing data is shown, and all ID values are unique."
   ]
  },
  {
   "cell_type": "markdown",
   "metadata": {},
   "source": [
    " "
   ]
  },
  {
   "cell_type": "markdown",
   "metadata": {},
   "source": [
    "### Fix data"
   ]
  },
  {
   "cell_type": "markdown",
   "metadata": {},
   "source": [
    "Convert session date to date time."
   ]
  },
  {
   "cell_type": "code",
   "execution_count": 26,
   "metadata": {},
   "outputs": [],
   "source": [
    "# Convert session date to datetime\n",
    "internet['session_date'] = pd.to_datetime(internet['session_date'])"
   ]
  },
  {
   "cell_type": "markdown",
   "metadata": {},
   "source": [
    "### Enrich data"
   ]
  },
  {
   "cell_type": "markdown",
   "metadata": {},
   "source": [
    "As with above sets, create new column for month."
   ]
  },
  {
   "cell_type": "code",
   "execution_count": 27,
   "metadata": {},
   "outputs": [],
   "source": [
    "# Assign new column 'month'\n",
    "internet['month'] = internet['session_date'].dt.month"
   ]
  },
  {
   "cell_type": "markdown",
   "metadata": {},
   "source": [
    "Create new column for gigabytes used. Drop megabytes column after conversion."
   ]
  },
  {
   "cell_type": "code",
   "execution_count": 28,
   "metadata": {},
   "outputs": [],
   "source": [
    "# Create new column for gb used\n",
    "internet['gb_used'] = internet['mb_used'] / 1024\n",
    "\n",
    "# Drop mb_used column\n",
    "internet = internet.drop(columns = 'mb_used')"
   ]
  },
  {
   "cell_type": "markdown",
   "metadata": {},
   "source": [
    "## Study plan conditions"
   ]
  },
  {
   "cell_type": "markdown",
   "metadata": {},
   "source": [
    "Print study plan condtions to make sure they are understood."
   ]
  },
  {
   "cell_type": "code",
   "execution_count": 29,
   "metadata": {},
   "outputs": [
    {
     "data": {
      "text/html": [
       "<div>\n",
       "<style scoped>\n",
       "    .dataframe tbody tr th:only-of-type {\n",
       "        vertical-align: middle;\n",
       "    }\n",
       "\n",
       "    .dataframe tbody tr th {\n",
       "        vertical-align: top;\n",
       "    }\n",
       "\n",
       "    .dataframe thead th {\n",
       "        text-align: right;\n",
       "    }\n",
       "</style>\n",
       "<table border=\"1\" class=\"dataframe\">\n",
       "  <thead>\n",
       "    <tr style=\"text-align: right;\">\n",
       "      <th></th>\n",
       "      <th>plan_name</th>\n",
       "      <th>messages_included</th>\n",
       "      <th>minutes_included</th>\n",
       "      <th>usd_monthly_pay</th>\n",
       "      <th>usd_per_gb</th>\n",
       "      <th>usd_per_message</th>\n",
       "      <th>usd_per_minute</th>\n",
       "      <th>gb_per_month_included</th>\n",
       "    </tr>\n",
       "  </thead>\n",
       "  <tbody>\n",
       "    <tr>\n",
       "      <th>0</th>\n",
       "      <td>surf</td>\n",
       "      <td>50</td>\n",
       "      <td>500</td>\n",
       "      <td>20</td>\n",
       "      <td>10</td>\n",
       "      <td>0.03</td>\n",
       "      <td>0.03</td>\n",
       "      <td>15.0</td>\n",
       "    </tr>\n",
       "    <tr>\n",
       "      <th>1</th>\n",
       "      <td>ultimate</td>\n",
       "      <td>1000</td>\n",
       "      <td>3000</td>\n",
       "      <td>70</td>\n",
       "      <td>7</td>\n",
       "      <td>0.01</td>\n",
       "      <td>0.01</td>\n",
       "      <td>30.0</td>\n",
       "    </tr>\n",
       "  </tbody>\n",
       "</table>\n",
       "</div>"
      ],
      "text/plain": [
       "  plan_name  messages_included  minutes_included  usd_monthly_pay  usd_per_gb  \\\n",
       "0      surf                 50               500               20          10   \n",
       "1  ultimate               1000              3000               70           7   \n",
       "\n",
       "   usd_per_message  usd_per_minute  gb_per_month_included  \n",
       "0             0.03            0.03                   15.0  \n",
       "1             0.01            0.01                   30.0  "
      ]
     },
     "execution_count": 29,
     "metadata": {},
     "output_type": "execute_result"
    }
   ],
   "source": [
    "# Print out the plan conditions\n",
    "plans"
   ]
  },
  {
   "cell_type": "markdown",
   "metadata": {},
   "source": [
    "## Aggregate data per user\n",
    "\n",
    "Aggregating the data will make it easier to analyze how a user behaves in a one month period. \n",
    "\n",
    "For calls, messages and internet dataframes, group data by user ID and month. Save appropriate metrics that will be necessary to determine revenue as outlined by the plan above.\n",
    "\n",
    "Once data is grouped, the data is aggregated with merges. This is done with outer merges to ensure that users who may not call, text or use data are all accounted for. Note however that this assumes that all users do one of those activities.\n",
    "\n",
    "### Group Data"
   ]
  },
  {
   "cell_type": "code",
   "execution_count": 30,
   "metadata": {},
   "outputs": [],
   "source": [
    "# Calculate the number of calls made by each user per month. Save the result.\n",
    "calls_num = calls.groupby(['user_id','month'])['id'].count().reset_index().rename(columns={'id': 'calls'})"
   ]
  },
  {
   "cell_type": "code",
   "execution_count": 31,
   "metadata": {},
   "outputs": [],
   "source": [
    "# Calculate the amount of minutes spent by each user per month. Save the result.\n",
    "calls_mins = calls.groupby(['user_id','month'])['duration'].sum().reset_index().rename(columns={'duration': 'call_minutes'})"
   ]
  },
  {
   "cell_type": "code",
   "execution_count": 32,
   "metadata": {},
   "outputs": [],
   "source": [
    "# Calculate the number of messages sent by each user per month. Save the result.\n",
    "messages_num = messages.groupby(['user_id','month'])['id'].count().reset_index().rename(columns={'id': 'messages'})"
   ]
  },
  {
   "cell_type": "code",
   "execution_count": 33,
   "metadata": {},
   "outputs": [],
   "source": [
    "# Calculate the volume of internet traffic used by each user per month. Save the result.\n",
    "internet_vol = internet.groupby(['user_id','month'])['gb_used'].sum().reset_index()\n",
    "\n",
    "# Round up Gigabyte values\n",
    "internet_vol['gb_used'] = np.ceil(internet_vol['gb_used'])"
   ]
  },
  {
   "cell_type": "markdown",
   "metadata": {},
   "source": [
    "<div class=\"alert alert-block alert-danger\">✍\n",
    "    \n",
    "\n",
    "__Reviewer's comment №1__\n",
    "\n",
    "At the end of each month, the Gb's are rounded up. Can you fix it, please?"
   ]
  },
  {
   "cell_type": "markdown",
   "metadata": {},
   "source": [
    "<div class=\"alert alert-info\"> <b>Student сomments:</b> Ohh that makes sense. It makes my revenue calculation below way cleaner too, thank-you <div>"
   ]
  },
  {
   "cell_type": "markdown",
   "metadata": {},
   "source": [
    "<div class=\"alert alert-block alert-success\">✔️\n",
    "    \n",
    "\n",
    "__Reviewer's comment №2__\n",
    "\n",
    "Great!)"
   ]
  },
  {
   "cell_type": "markdown",
   "metadata": {},
   "source": [
    "### Merge Data"
   ]
  },
  {
   "cell_type": "code",
   "execution_count": 34,
   "metadata": {},
   "outputs": [],
   "source": [
    "# Merge the data for calls, minutes, messages, internet based on user_id and month\n",
    "df = calls_num.merge(calls_mins, on=['user_id','month'], how='outer') \\\n",
    "            .merge(messages_num, on=['user_id','month'], how='outer') \\\n",
    "            .merge(internet_vol, on=['user_id','month'], how='outer')"
   ]
  },
  {
   "cell_type": "code",
   "execution_count": 35,
   "metadata": {},
   "outputs": [],
   "source": [
    "# Add the plan information\n",
    "# Merge plan type from users df\n",
    "df = df.merge(users[['user_id','plan']], on='user_id')"
   ]
  },
  {
   "cell_type": "code",
   "execution_count": 36,
   "metadata": {},
   "outputs": [],
   "source": [
    "# Merge plan information from plan on 'plan'\n",
    "df = df.merge(plans, left_on='plan', right_on='plan_name')\n",
    "\n",
    "#drop duplicated 'plan_name' column\n",
    "df = df.drop(columns = 'plan_name')"
   ]
  },
  {
   "cell_type": "code",
   "execution_count": 37,
   "metadata": {},
   "outputs": [],
   "source": [
    "# Replace NaN values with 0\n",
    "df = df.fillna(0)"
   ]
  },
  {
   "cell_type": "markdown",
   "metadata": {},
   "source": [
    "<div class=\"alert alert-block alert-success\">✔️\n",
    "    \n",
    "\n",
    "__Reviewer's comment №1__\n",
    "\n",
    "All right"
   ]
  },
  {
   "cell_type": "markdown",
   "metadata": {},
   "source": [
    "[Calculate the monthly revenue from each user (subtract the free package limit from the total number of calls, text messages, and data; multiply the result by the calling plan value; add the monthly charge depending on the calling plan). N.B. This might not be as trivial as just a couple of lines given the plan conditions! So, it's okay to spend some time on it.]\n",
    "\n",
    "### Calculate Revenue\n",
    "\n",
    "This is done by adding the initial monthly payment with excess call duration, messaging and internet usage costs. A function that calculates the excess will be created that calculates charges when a user goes over the limit they have on a plan. This will then be utilized in a loop to calculate total revenue."
   ]
  },
  {
   "cell_type": "code",
   "execution_count": 38,
   "metadata": {},
   "outputs": [],
   "source": [
    "# Create function 'excess' that returns excess charges if the used service exceeds the service allotted\n",
    "def excess(used, allotted, excess_rate):\n",
    "\n",
    "    if used > allotted:\n",
    "        return ((used - allotted) * excess_rate)\n",
    "    else:\n",
    "        return 0"
   ]
  },
  {
   "cell_type": "code",
   "execution_count": 39,
   "metadata": {},
   "outputs": [],
   "source": [
    "# Create revenue list equal to 0, matched to length of df\n",
    "revenue = [None] * len(df)\n",
    "\n",
    "# Create loop length of df\n",
    "for i in range(len(df)):\n",
    "    # Add base monthly payment to 'revenue'\n",
    "    revenue[i] = df['usd_monthly_pay'][i]\n",
    "    \n",
    "    # Add excess call duration costs\n",
    "    revenue[i] += excess(df['call_minutes'][i], df['minutes_included'][i], df['usd_per_minute'][i])\n",
    "    \n",
    "    # Add excess message costs\n",
    "    revenue[i] += excess(df['messages'][i], df['messages_included'][i], df['usd_per_message'][i])\n",
    "    \n",
    "    # Add excess data costs, convert gb_used to integer (rounds down) and add 1 (round up)\n",
    "    revenue[i] += excess((df['gb_used'][i]), df['gb_per_month_included'][i], df['usd_per_gb'][i])\n",
    "\n",
    "# Create revenue column equal to revenue values\n",
    "df['revenue'] = revenue"
   ]
  },
  {
   "cell_type": "markdown",
   "metadata": {},
   "source": [
    "<div class=\"alert alert-block alert-success\">✔️\n",
    "    \n",
    "\n",
    "__Reviewer's comment №1__\n",
    "\n",
    "Good for you for using your own functions"
   ]
  },
  {
   "cell_type": "markdown",
   "metadata": {},
   "source": [
    "<div class=\"alert alert-info\"> <b>Student сomments:</b> Thanks, I was stoked when I figured it out. Updated gb_used so it doesn't add another value when rounding up. I am seeing the value of np.ceil() <div>"
   ]
  },
  {
   "cell_type": "markdown",
   "metadata": {},
   "source": [
    "<div class=\"alert alert-block alert-success\">✔️\n",
    "    \n",
    "\n",
    "__Reviewer's comment №2__\n",
    "\n",
    ")))"
   ]
  },
  {
   "cell_type": "markdown",
   "metadata": {},
   "source": [
    "## Study user behaviour"
   ]
  },
  {
   "cell_type": "markdown",
   "metadata": {},
   "source": [
    "Whether the surf or ultimate plan results in greater revenue depends on excess charges. As the surf plan is 50 dollars cheaper, these excess charges must be result in 50 dollars per user. Thus, studying user behaviour and more specifically user calling, messaging and internet surfing is essential.\n",
    "\n",
    "To highlight how surf and ultimate plan users behave, data will be plotted for each month from January to December. Histograms and boxplots will also be used to see how behaviour is distributed between users. Data is split into surf and ultimate users to determine mean averages, variances and standard devaiations. This will explain what users of each plan are doing and answer which plan is better."
   ]
  },
  {
   "cell_type": "code",
   "execution_count": 40,
   "metadata": {},
   "outputs": [],
   "source": [
    "# Save monthly user data for surf and ultimate plans\n",
    "surf = df[df['plan'] == 'surf']\n",
    "\n",
    "ultimate = df[df['plan'] == 'ultimate']"
   ]
  },
  {
   "cell_type": "markdown",
   "metadata": {},
   "source": [
    "### Calls"
   ]
  },
  {
   "cell_type": "code",
   "execution_count": 41,
   "metadata": {},
   "outputs": [
    {
     "data": {
      "image/png": "[encoded data removed]",
      "text/plain": [
       "<Figure size 720x576 with 1 Axes>"
      ]
     },
     "metadata": {
      "needs_background": "light"
     },
     "output_type": "display_data"
    }
   ],
   "source": [
    "# Compare average duration of calls per each plan per each distinct month. Plot a bar plot to visualize it.\n",
    "\n",
    "# Create groupby to find average duration  by each plan type and month\n",
    "call_average = df.groupby(['plan','month'])['call_minutes'].mean().reset_index()\n",
    "\n",
    "# Increase plot size\n",
    "plt.figure(figsize=(10,8))\n",
    "\n",
    "# Create barplot from seaborn, \n",
    "sns.barplot(data = call_average, x = 'month', y='call_minutes', hue = 'plan', \n",
    "            palette = ['hotpink','aqua'], ci = None) \\\n",
    "            .set(xlabel='Month', ylabel='Average Call Duration (Minutes)', \\\n",
    "                 title='Average Duration of Calls by Plan and Month')\n",
    "\n",
    "plt.legend(loc='upper left')\n",
    "\n",
    "plt.show()"
   ]
  },
  {
   "cell_type": "code",
   "execution_count": 42,
   "metadata": {},
   "outputs": [
    {
     "data": {
      "image/png": "[encoded data removed]",
      "text/plain": [
       "<Figure size 720x576 with 1 Axes>"
      ]
     },
     "metadata": {
      "needs_background": "light"
     },
     "output_type": "display_data"
    }
   ],
   "source": [
    "# Compare the number of minutes users of each plan require each month. Plot a histogram.\n",
    "\n",
    "# Increase plot size\n",
    "plt.figure(figsize=(10,8))\n",
    "\n",
    "# Create histogram from seaborn\n",
    "sns.histplot(data = df, x = 'call_minutes', hue = 'plan', \\\n",
    "            palette = ['hotpink','aqua'], bins = 50) \\\n",
    "            .set(xlabel='Call Duration (Minutes)', ylabel='Count', \\\n",
    "                 title='Histogram of Users Call Minutes by Plan')\n",
    "\n",
    "plt.show()"
   ]
  },
  {
   "cell_type": "code",
   "execution_count": 43,
   "metadata": {},
   "outputs": [
    {
     "name": "stdout",
     "output_type": "stream",
     "text": [
      "surf duration mean =  428.75\n",
      "ultimate duration mean =  430.45\n",
      "surf duration variance =  54968.28\n",
      "ultimate duration variance =  57844.46\n",
      "surf duration standard deviation =  234.45\n",
      "ultimate duration standard deviation =  240.51\n"
     ]
    }
   ],
   "source": [
    "# Calculate the mean and the variance of the monthly call duration\n",
    "\n",
    "# Print surf duration mean\n",
    "print('surf duration mean = ', surf['call_minutes'].mean().round(2))\n",
    "\n",
    "# Print ultimate duration mean\n",
    "print('ultimate duration mean = ', ultimate['call_minutes'].mean().round(2))\n",
    "\n",
    "# Print surf duration variance\n",
    "print('surf duration variance = ', surf['call_minutes'].var().round(2))\n",
    "\n",
    "# Print ultimate duration variance\n",
    "print('ultimate duration variance = ', ultimate['call_minutes'].var().round(2))\n",
    "\n",
    "# Print surf duration variance\n",
    "print('surf duration standard deviation = ', surf['call_minutes'].std().round(2))\n",
    "\n",
    "# Print ultimate duration variance\n",
    "print('ultimate duration standard deviation = ', ultimate['call_minutes'].std().round(2))"
   ]
  },
  {
   "cell_type": "code",
   "execution_count": 44,
   "metadata": {},
   "outputs": [
    {
     "data": {
      "image/png": "[encoded data removed]",
      "text/plain": [
       "<Figure size 864x504 with 1 Axes>"
      ]
     },
     "metadata": {
      "needs_background": "light"
     },
     "output_type": "display_data"
    }
   ],
   "source": [
    "# Plot a boxplot to visualize the distribution of the monthly call duration\n",
    "\n",
    "# Increase plot size\n",
    "plt.figure(figsize=(12,7))\n",
    "\n",
    "# Create boxplots of duration by \n",
    "sns.boxplot(data = df, x='call_minutes', y='plan', palette = ['hotpink','aqua'])\\\n",
    "                    .set(xlabel='Call Duration (Minutes)', ylabel='Plan', \\\n",
    "                     title='Boxplots of Duration of Call by Plan')\n",
    "\n",
    "plt.show()"
   ]
  },
  {
   "cell_type": "markdown",
   "metadata": {},
   "source": [
    " **Analysis**: Despite having different call duration limits, ultimate and surf plan users show little difference in the time they spend talking on the phone. Whilst ultimate plan members were spending 100 minutes more on average in Febraury, surf users quickly caught up. By December, the average for both plan users is comparable at around 470 minutes. \n",
    " \n",
    "What's interesting is that ultimate users have an extra 2500 minutes accessible under their plan, but not many are exceeding 500, which is the other plans limit. This is shown in the histogram where both plan users peak at around 500 users. However, both are right skewed, showing that many surf users still go over their 500 minute limit. \n",
    "\n",
    "Duration means for both are almost exactly the same, yet are more likely to be balanced by the large number of users who call very rarely and outliers who use upto 1400 minutes per month. Interestingly, no ultimate users get anywhere near their 3000 minute cap. Ultimate users do show a slightly higher variance among duration, and so results among ultimate users are more varied than surf users.\n",
    "\n",
    "**Conclusion:** The surf user plan should create more revenue as over 25% go over their limits. This compares to 0% of ultimate users. However, this is not enough by itself to overcome the initial price difference of 50 dollars. At most, the surf user with 1500 minutes is paying 30 dollars. Further analysis is needed to see if messages and internet usage could tip this value up more."
   ]
  },
  {
   "cell_type": "markdown",
   "metadata": {},
   "source": [
    "<div class=\"alert alert-block alert-success\">✔️\n",
    "    \n",
    "\n",
    "__Reviewer's comment №1__\n",
    "\n",
    "Good for you for signing the axes of the graphs"
   ]
  },
  {
   "cell_type": "markdown",
   "metadata": {},
   "source": [
    "<div class=\"alert alert-info\"> <b>Student сomments:</b> Cheers <div>"
   ]
  },
  {
   "cell_type": "markdown",
   "metadata": {},
   "source": [
    "### Messages"
   ]
  },
  {
   "cell_type": "code",
   "execution_count": 45,
   "metadata": {},
   "outputs": [
    {
     "data": {
      "image/png": "[encoded data removed]",
      "text/plain": [
       "<Figure size 720x576 with 1 Axes>"
      ]
     },
     "metadata": {
      "needs_background": "light"
     },
     "output_type": "display_data"
    }
   ],
   "source": [
    "# Compare average messages per each plan per each distinct month. Plot a bar plot to visualize it.\n",
    "\n",
    "# Create groupby to find average duration  by each plan type and month\n",
    "message_average = df.groupby(['plan','month'])['messages'].mean().reset_index()\n",
    "\n",
    "# Increase plot size\n",
    "plt.figure(figsize=(10,8))\n",
    "\n",
    "# Create barplot from seaborn, \n",
    "sns.barplot(data = message_average, x = 'month', y='messages', hue = 'plan', \n",
    "            palette = ['hotpink','aqua'], ci = None) \\\n",
    "            .set(xlabel='Month', ylabel='Average Messages Sent', \\\n",
    "                 title='Average Messages Sent by Plan and Month')\n",
    "\n",
    "plt.legend(loc='upper left')\n",
    "\n",
    "plt.show()"
   ]
  },
  {
   "cell_type": "code",
   "execution_count": 46,
   "metadata": {},
   "outputs": [
    {
     "data": {
      "image/png": "[encoded data removed]",
      "text/plain": [
       "<Figure size 1080x720 with 1 Axes>"
      ]
     },
     "metadata": {
      "needs_background": "light"
     },
     "output_type": "display_data"
    }
   ],
   "source": [
    "# Compare the number of messages users of each plan require each month. Plot a histogram.\n",
    "\n",
    "# Increase plot size\n",
    "plt.figure(figsize=(15,10))\n",
    "\n",
    "# Create histogram from seaborn\n",
    "sns.histplot(data = df, x = 'messages', hue = 'plan', \\\n",
    "            palette = ['hotpink','aqua'], bins = 50) \\\n",
    "            .set(xlabel='Messages Sent', ylabel='Count', \\\n",
    "                 title='Histogram of Users Messages by Plan')\n",
    "\n",
    "plt.show()"
   ]
  },
  {
   "cell_type": "code",
   "execution_count": 47,
   "metadata": {},
   "outputs": [
    {
     "data": {
      "image/png": "[encoded data removed]",
      "text/plain": [
       "<Figure size 864x504 with 1 Axes>"
      ]
     },
     "metadata": {
      "needs_background": "light"
     },
     "output_type": "display_data"
    }
   ],
   "source": [
    "# Plot a boxplot to visualize the distribution of the monthly call duration\n",
    "\n",
    "# Increase plot size\n",
    "plt.figure(figsize=(12,7))\n",
    "\n",
    "# Create boxplots of duration by \n",
    "sns.boxplot(data = df, x='messages', y='plan', palette = ['hotpink','aqua'])\\\n",
    "                    .set(xlabel='Messages Sent', ylabel='Plan', \\\n",
    "                     title='Boxplots of Monthly Messages Sent by Users and Plan')\n",
    "\n",
    "plt.show()"
   ]
  },
  {
   "cell_type": "code",
   "execution_count": 48,
   "metadata": {},
   "outputs": [
    {
     "name": "stdout",
     "output_type": "stream",
     "text": [
      "surf messages mean =  31.16\n",
      "ultimate messages mean =  37.55\n",
      "\n",
      "surf messages variance =  1126.72\n",
      "ultimate messages variance =  1208.76\n",
      "\n",
      "surf messages variance =  33.57\n",
      "ultimate messages variance =  34.77\n"
     ]
    }
   ],
   "source": [
    "# Calculate the mean, variance and standard deviation of monthly messages\n",
    "\n",
    "# Print surf duration mean\n",
    "print('surf messages mean = ', surf['messages'].mean().round(2))\n",
    "\n",
    "# Print ultimate duration mean\n",
    "print('ultimate messages mean = ', ultimate['messages'].mean().round(2))\n",
    "\n",
    "print('')\n",
    "\n",
    "# Print surf duration variance\n",
    "print('surf messages variance = ', surf['messages'].var().round(2))\n",
    "\n",
    "# Print ultimate duration variance\n",
    "print('ultimate messages variance = ', ultimate['messages'].var().round(2))\n",
    "\n",
    "print('')\n",
    "\n",
    "# Print surf duration standard deviation\n",
    "print('surf messages variance = ', surf['messages'].std().round(2))\n",
    "\n",
    "# Print ultimate duration standard deviation\n",
    "print('ultimate messages variance = ', ultimate['messages'].std().round(2))"
   ]
  },
  {
   "cell_type": "markdown",
   "metadata": {},
   "source": [
    "**Analysis**: A bigger difference in messages exists between users of differing plans than that of call duration. Ultimate plan users average about 5 more messages each month, albeit still under the surf plan cap. However, the trend seems to be increasing so it will be interesting to see if surf users will overcome this level in the coming months. \n",
    "\n",
    "This finding remains true as the histogram shows many users that don't send any messages. Ultimate users do proportionally tend to send more with a higher median value. The mean shows that ultimate users send over six messages more. However, the difference in standard deviation is slight and so results vary at around the same rate, albeit around a higher mean for ultimate users.\n",
    "\n",
    "**Conclusion**: Ultimate plan users are not paying extra for text messages whilst texting more. 25% of Surf plan users are paying, however, at 3 cents per message. This total price is much smaller than what calling minutes are providing. For instance, even if all surf users were messaging as much as the highest monthly user, this would only be around 7 dollars."
   ]
  },
  {
   "cell_type": "markdown",
   "metadata": {},
   "source": [
    "<div class=\"alert alert-block alert-success\">✔️\n",
    "    \n",
    "\n",
    "__Reviewer's comment №1__\n",
    "\n",
    "That's great!)"
   ]
  },
  {
   "cell_type": "markdown",
   "metadata": {},
   "source": [
    " "
   ]
  },
  {
   "cell_type": "markdown",
   "metadata": {},
   "source": [
    "### Internet"
   ]
  },
  {
   "cell_type": "code",
   "execution_count": 49,
   "metadata": {},
   "outputs": [
    {
     "data": {
      "image/png": "[encoded data removed]",
      "text/plain": [
       "<Figure size 720x576 with 1 Axes>"
      ]
     },
     "metadata": {
      "needs_background": "light"
     },
     "output_type": "display_data"
    }
   ],
   "source": [
    "# Compare average internet usage per each plan per each distinct month. Plot a bar plot to visualize it.\n",
    "\n",
    "# Create groupby to find average duration  by each plan type and month\n",
    "usage_average = df.groupby(['plan','month'])['gb_used'].mean().reset_index()\n",
    "\n",
    "# Increase plot size\n",
    "plt.figure(figsize=(10,8))\n",
    "\n",
    "# Create barplot from seaborn, \n",
    "sns.barplot(data = usage_average, x = 'month', y='gb_used', hue = 'plan', \n",
    "            palette = ['hotpink','aqua'], ci = None) \\\n",
    "            .set(xlabel='Month', ylabel='Average Internet Usage (Gigabytes)', \\\n",
    "                 title='Average Internet Usage by Plan and Month')\n",
    "\n",
    "plt.legend(loc='upper left')\n",
    "\n",
    "plt.show()"
   ]
  },
  {
   "cell_type": "code",
   "execution_count": 50,
   "metadata": {},
   "outputs": [
    {
     "data": {
      "image/png": "[encoded data removed]",
      "text/plain": [
       "<Figure size 864x576 with 1 Axes>"
      ]
     },
     "metadata": {
      "needs_background": "light"
     },
     "output_type": "display_data"
    }
   ],
   "source": [
    "# Compare the users internet usage of each plan require each month. Plot a histogram.\n",
    "\n",
    "# Increase plot size\n",
    "plt.figure(figsize=(12,8))\n",
    "\n",
    "# Create histogram from seaborn\n",
    "sns.histplot(data = df, x = 'gb_used', hue = 'plan', \\\n",
    "            palette = ['hotpink','aqua'], bins = 50) \\\n",
    "            .set(xlabel='Gigabytes Used', ylabel='Count', \\\n",
    "                 title=\"Histogram of Users' Usage by Plan\")\n",
    "\n",
    "plt.show()"
   ]
  },
  {
   "cell_type": "code",
   "execution_count": 51,
   "metadata": {},
   "outputs": [
    {
     "data": {
      "image/png": "[encoded data removed]",
      "text/plain": [
       "<Figure size 864x504 with 1 Axes>"
      ]
     },
     "metadata": {
      "needs_background": "light"
     },
     "output_type": "display_data"
    }
   ],
   "source": [
    "# Plot a boxplot to visualize the distribution of the monthly call duration\n",
    "\n",
    "# Increase plot size\n",
    "plt.figure(figsize=(12,7))\n",
    "\n",
    "# Create boxplots of duration by \n",
    "sns.boxplot(data = df, x='gb_used', y='plan', palette = ['hotpink','aqua'])\\\n",
    "                    .set(xlabel='Gigabytes Used', ylabel='Plan', \\\n",
    "                     title='Boxplots of Monthly Internet Usage by Users and Plan')\n",
    "\n",
    "plt.show()"
   ]
  },
  {
   "cell_type": "code",
   "execution_count": 52,
   "metadata": {},
   "outputs": [
    {
     "name": "stdout",
     "output_type": "stream",
     "text": [
      "surf internet usage mean =  16.67\n",
      "ultimate internet usage mean =  17.31\n",
      "\n",
      "surf internet usage variance =  61.58\n",
      "ultimate internet usage variance =  58.83\n",
      "\n",
      "surf internet usage standard deviation =  7.85\n",
      "ultimate internet usage standard deviation =  7.67\n"
     ]
    }
   ],
   "source": [
    "# Calculate the mean, variance and standard deviation of monthly messages\n",
    "\n",
    "# Print surf duration mean\n",
    "print('surf internet usage mean = ', surf['gb_used'].mean().round(2))\n",
    "\n",
    "# Print ultimate duration mean\n",
    "print('ultimate internet usage mean = ', ultimate['gb_used'].mean().round(2))\n",
    "\n",
    "print('')\n",
    "\n",
    "# Print surf duration variance\n",
    "print('surf internet usage variance = ', surf['gb_used'].var().round(2))\n",
    "\n",
    "# Print ultimate duration variance\n",
    "print('ultimate internet usage variance = ', ultimate['gb_used'].var().round(2))\n",
    "\n",
    "print('')\n",
    "\n",
    "# Print surf duration variance\n",
    "print('surf internet usage standard deviation = ', surf['gb_used'].std().round(2))\n",
    "\n",
    "# Print ultimate duration variance\n",
    "print('ultimate internet usage standard deviation = ', ultimate['gb_used'].std().round(2))"
   ]
  },
  {
   "cell_type": "markdown",
   "metadata": {},
   "source": [
    "**Analysis**: Internet usage at the start of the year did vary, but has evened out towards the end of the year. In February and March, ultimate users consumed on average 5 gigabytes more than surf users. However, from June onwards, the difference has been trivial. By the end of the year, users on both plans are averaging almost 17.5 gigabytes per month. For surf users this is higher than their allotted 15 gigabytes, but still significantly under ultimates allotted 30 gigabytes. \n",
    "\n",
    "There do seem to be proportionally more surf users who use very little data, but apart from that, distributions between the two plans follow a similar pattern. Where some surf users have used more than 50 gigabytes, none exist among ultimate plan users. The mean average is higher in ultimate users by over 0.6 gigabytes, but variance is higher among surf users.\n",
    "\n",
    "**Conclusion**: Whilst some ultimate users are paying for excess internet, almost half of surf users are. As the cost for an extra gigabyte is 7 dollars, this becomes a significant revenue source. 25 percent of surf users are paying atleast 50 dollars extra for internet. This in combination with call duration and message costs may be enough to make the surf plan more profitable so long as users continue to behave similarly. An analysis on total revenue itself will shed more light."
   ]
  },
  {
   "cell_type": "markdown",
   "metadata": {},
   "source": [
    "<div class=\"alert alert-block alert-warning\">📝\n",
    "    \n",
    "\n",
    "__Reviewer's comment №1__\n",
    "\n",
    "After correcting the rounding of gigabytes, the data will change"
   ]
  },
  {
   "cell_type": "markdown",
   "metadata": {},
   "source": [
    "<div class=\"alert alert-info\"> <b>Student сomments:</b> Hopefully that looks right now <div>"
   ]
  },
  {
   "cell_type": "markdown",
   "metadata": {},
   "source": [
    "<div class=\"alert alert-block alert-success\">✔️\n",
    "    \n",
    "\n",
    "__Reviewer's comment №2__\n",
    "\n",
    "Right!)"
   ]
  },
  {
   "cell_type": "markdown",
   "metadata": {},
   "source": [
    " "
   ]
  },
  {
   "cell_type": "markdown",
   "metadata": {},
   "source": [
    "## Revenue"
   ]
  },
  {
   "cell_type": "code",
   "execution_count": 53,
   "metadata": {},
   "outputs": [
    {
     "data": {
      "image/png": "[encoded data removed]",
      "text/plain": [
       "<Figure size 720x576 with 1 Axes>"
      ]
     },
     "metadata": {
      "needs_background": "light"
     },
     "output_type": "display_data"
    }
   ],
   "source": [
    "# Compare average revenue per each plan per each distinct month. Plot a bar plot to visualize it.\n",
    "\n",
    "# Create groupby to find average duration  by each plan type and month\n",
    "usage_average = df.groupby(['plan','month'])['revenue'].mean().reset_index()\n",
    "\n",
    "# Increase plot size\n",
    "plt.figure(figsize=(10,8))\n",
    "\n",
    "# Create barplot from seaborn, \n",
    "sns.barplot(data = usage_average, x = 'month', y='revenue', hue = 'plan', \n",
    "            palette = ['hotpink','aqua'], ci = None) \\\n",
    "            .set(xlabel='Month', ylabel='Average Revenue (USD)', \\\n",
    "                 title='Average Revenue by Plan and Month')\n",
    "\n",
    "plt.legend(loc='upper left')\n",
    "\n",
    "plt.show()"
   ]
  },
  {
   "cell_type": "code",
   "execution_count": 54,
   "metadata": {},
   "outputs": [
    {
     "data": {
      "image/png": "[encoded data removed]",
      "text/plain": [
       "<Figure size 864x576 with 1 Axes>"
      ]
     },
     "metadata": {
      "needs_background": "light"
     },
     "output_type": "display_data"
    }
   ],
   "source": [
    "# Compare the users internet usage of each plan require each month. Plot a histogram.\n",
    "\n",
    "# Increase plot size\n",
    "plt.figure(figsize=(12,8))\n",
    "\n",
    "# Create histogram from seaborn\n",
    "sns.histplot(data = df, x = 'revenue', hue = 'plan', \\\n",
    "            palette = ['hotpink','aqua'], bins = 50) \\\n",
    "            .set(xlabel='Revenue (USD)', ylabel='Count', \\\n",
    "                 title=\"Histogram of User Revenue by Plan\")\n",
    "\n",
    "plt.show()"
   ]
  },
  {
   "cell_type": "code",
   "execution_count": 55,
   "metadata": {},
   "outputs": [
    {
     "data": {
      "image/png": "[encoded data removed]",
      "text/plain": [
       "<Figure size 864x504 with 1 Axes>"
      ]
     },
     "metadata": {
      "needs_background": "light"
     },
     "output_type": "display_data"
    }
   ],
   "source": [
    "# Plot a boxplot to visualize the distribution of the monthly call duration\n",
    "\n",
    "# Increase plot size\n",
    "plt.figure(figsize=(12,7))\n",
    "\n",
    "# Create boxplots of duration by \n",
    "sns.boxplot(data = df, x='revenue', y='plan', palette = ['hotpink','aqua'])\\\n",
    "                    .set(xlabel='Revenue (USD)', ylabel='Plan', \\\n",
    "                     title='Boxplots of Monthly Revenue by Users and Plan')\n",
    "\n",
    "plt.show()"
   ]
  },
  {
   "cell_type": "code",
   "execution_count": 56,
   "metadata": {},
   "outputs": [
    {
     "name": "stdout",
     "output_type": "stream",
     "text": [
      "surf revenue mean =  60.71\n",
      "ultimate revenue mean =  72.31\n",
      "\n",
      "surf revenue variance =  3067.84\n",
      "ultimate revenue variance =  129.85\n",
      "\n",
      "surf revenue standard deviation =  55.39\n",
      "ultimate revenue standard deviation =  11.4\n"
     ]
    }
   ],
   "source": [
    "# Calculate the mean, variance and standard deviation of monthly messages\n",
    "\n",
    "# Print surf duration mean\n",
    "print('surf revenue mean = ', surf['revenue'].mean().round(2))\n",
    "\n",
    "# Print ultimate duration mean\n",
    "print('ultimate revenue mean = ', ultimate['revenue'].mean().round(2))\n",
    "\n",
    "print('')\n",
    "\n",
    "# Print surf duration variance\n",
    "print('surf revenue variance = ', surf['revenue'].var().round(2))\n",
    "\n",
    "# Print ultimate duration variance\n",
    "print('ultimate revenue variance = ', ultimate['revenue'].var().round(2))\n",
    "\n",
    "print('')\n",
    "\n",
    "# Print surf duration variance\n",
    "print('surf revenue standard deviation = ', surf['revenue'].std().round(2))\n",
    "\n",
    "# Print ultimate duration variance\n",
    "print('ultimate revenue standard deviation = ', ultimate['revenue'].std().round(2))"
   ]
  },
  {
   "cell_type": "markdown",
   "metadata": {},
   "source": [
    "**Analysis**: Average revenue from ultimate users has consistently outpaced that of surf users on a month to month basis. However, the gap has shrunk. In January, a mean difference of 50 dollars seperated the two plans, a number that has since significantly tightened to only a couple dollars in December. This has occured due to rises in mean revenue by surf users as ultimate revenue means have hovered around the 70 dollar mark.\n",
    "\n",
    "Revenue distribution shows how a significant proportion of ultimate users rarely exceed their plan limits, whilst surf users frequently go over. A strong right tail shows that around 100 surf users pay the standard ultimate rate, but many also exceed this price. Atleast a couple dozen surf users spend well over 200 dollars, whereas no ultimate users spend the same amount.\n",
    "\n",
    "Having said that, ultimate users still gain a higher revenue per user and month with a mean value of 72.31 dollars. This compares to 60.71 dollars paid by surf users under the same metric. However, the variance shows that surf users are capable of paying much more or less. The difference in standard deviation between the two is 44 dollars. This means 68 percent of surf users are paying approximately between 20 dollars (minimum) and 116 dollars. \n",
    "\n",
    "**Conclusion**: On a revenue basis the ultimate plan provides more, but if trends continue this will change as surf users continue to exceed their plan limits."
   ]
  },
  {
   "cell_type": "markdown",
   "metadata": {},
   "source": [
    "<div class=\"alert alert-block alert-success\">✔️\n",
    "    \n",
    "\n",
    "__Reviewer's comment №1__\n",
    "\n",
    "I agree"
   ]
  },
  {
   "cell_type": "markdown",
   "metadata": {},
   "source": [
    "<div class=\"alert alert-info\"> <b>Student сomments:</b> Values in analysis updated to reflect new revenue calculation <div>"
   ]
  },
  {
   "cell_type": "code",
   "execution_count": null,
   "metadata": {},
   "outputs": [],
   "source": []
  },
  {
   "cell_type": "markdown",
   "metadata": {},
   "source": [
    "## Test statistical hypotheses"
   ]
  },
  {
   "cell_type": "markdown",
   "metadata": {},
   "source": [
    "### Hypothesis Test 1 - Average Revenue Mean Between Different Plan Users\n",
    "\n",
    "**Population**: User revenue data across all years\n",
    "\n",
    "**Sample:** User revenue of 500 random samples from 2018 \n",
    "\n",
    "**Null Hypothesis**: The average revenue from users of ultimate and surf calling plans are equal.\n",
    "\n",
    "**Alternative Hypothesis**: The average revenue from users of ultimate and surf calling plans are not equal.\n",
    "\n",
    "**Statistical Test**: Two-sided hypothesis test on the equality of two population means. Use ttest_ind from stats using surf and ultimate revenue as the two data samples. Variances are not similar, identify in equal_var.\n",
    "\n",
    "**Alpha**: Reject null hypothesis if p-value < **0.05**.\n",
    "\n",
    "**Note**: Don't we already know what the means are? I thought hypothesis testing was only done when we didn't have the population? Or is the dataset already a sample because the population includes other years which we don't have data for? I am running under the pretense of the latter scenerio.\n"
   ]
  },
  {
   "cell_type": "markdown",
   "metadata": {},
   "source": [
    "<div class=\"alert alert-block alert-success\">✔️\n",
    "    \n",
    "\n",
    "__Reviewer's comment №1__\n",
    "\n",
    "Correct interpretation"
   ]
  },
  {
   "cell_type": "markdown",
   "metadata": {},
   "source": [
    "<div class=\"alert alert-info\"> <b>Student сomments:</b> Thanks, I re-read the project notes and must have missed that this is a sample <div>"
   ]
  },
  {
   "cell_type": "code",
   "execution_count": 57,
   "metadata": {},
   "outputs": [
    {
     "name": "stdout",
     "output_type": "stream",
     "text": [
      "p-value: 3.17039054811355e-15\n",
      "We reject the null hypothesis\n"
     ]
    }
   ],
   "source": [
    "# Save alpha value\n",
    "alpha = 0.05\n",
    "\n",
    "# Use ttest_ind to compare two dataset samples, set equal_var to false\n",
    "results = stats.ttest_ind(surf['revenue'], ultimate['revenue'], equal_var = False )\n",
    "\n",
    "# Print p-value\n",
    "print('p-value:', results.pvalue)\n",
    "\n",
    "# Print condition depending on pvalue compared to alpha\n",
    "if results.pvalue < alpha:\n",
    "    print(\"We reject the null hypothesis\")\n",
    "else:\n",
    "    print(\"We can't reject the null hypothesis\")"
   ]
  },
  {
   "cell_type": "markdown",
   "metadata": {},
   "source": [
    "**Conclusion**: The null hypothesis that the mean revenue from users of ultimate and surf calling plans are equal is rejected."
   ]
  },
  {
   "cell_type": "markdown",
   "metadata": {},
   "source": [
    "### Hypothesis Test 2 - Average Revenue Between NY-NJ and Other Areas\n",
    "\n",
    "**Population**: User revenue data across all years in NY-NJ and other areas\n",
    "\n",
    "**Sample:** User revenue of 500 random samples from 2018 in NY-NJ and other areas\n",
    "\n",
    "**Null Hypothesis**: The average revenue from users in NY-NJ and other areas are equal.\n",
    "\n",
    "**Alternative Hypothesis**: The average revenue from users in NY-NJ and other areas are not equal.\n",
    "\n",
    "**Statistical Test**: Two-sided hypothesis test on the equality of two population means.\n",
    "\n",
    "**Alpha**: Reject null hypothesis if p-value < **0.05**."
   ]
  },
  {
   "cell_type": "code",
   "execution_count": 58,
   "metadata": {},
   "outputs": [],
   "source": [
    "# Merge location data from users to df, save as loc\n",
    "loc = df.merge(users[['user_id','city']], on='user_id')\n",
    "\n",
    "# Create ny_nj and other dataframes\n",
    "ny_nj = loc[loc['city'] == 'New York-Newark-Jersey City, NY-NJ-PA']\n",
    "\n",
    "other = loc[loc['city'] != 'New York-Newark-Jersey City, NY-NJ-PA']"
   ]
  },
  {
   "cell_type": "code",
   "execution_count": 59,
   "metadata": {},
   "outputs": [
    {
     "name": "stdout",
     "output_type": "stream",
     "text": [
      "p-value: 0.04355743162134274\n",
      "We reject the null hypothesis\n"
     ]
    }
   ],
   "source": [
    "# Test the hypotheses\n",
    "\n",
    "# Use ttest_ind to compare two dataset samples, set equal_var to false\n",
    "results = stats.ttest_ind(ny_nj['revenue'], other['revenue'])\n",
    "\n",
    "# Print p-value\n",
    "print('p-value:', results.pvalue)\n",
    "\n",
    "# Print condition depending on pvalue compared to alpha\n",
    "if results.pvalue < alpha:\n",
    "    print(\"We reject the null hypothesis\")\n",
    "else:\n",
    "    print(\"We can't reject the null hypothesis\")"
   ]
  },
  {
   "cell_type": "markdown",
   "metadata": {},
   "source": [
    "**Conclusion**: The null hypothesis that the average revenue from users in NY-NJ and other areas are equal is rejected."
   ]
  },
  {
   "cell_type": "markdown",
   "metadata": {},
   "source": [
    "<div class=\"alert alert-block alert-warning\">📝\n",
    "    \n",
    "\n",
    "__Reviewer's comment №1__\n",
    "\n",
    "\n",
    "After changing the revenue calculation, the result of the hypothesis may change"
   ]
  },
  {
   "cell_type": "markdown",
   "metadata": {},
   "source": [
    "<div class=\"alert alert-info\"> <b>Student сomments:</b> Changing the revenue calculation did not change either value. Looked through the dischord channel and notes to ensure my code is correct. Cannot seem to find the answer if it's wrong. <div>"
   ]
  },
  {
   "cell_type": "markdown",
   "metadata": {},
   "source": [
    "<div class=\"alert alert-block alert-success\">✔️\n",
    "    \n",
    "\n",
    "__Reviewer's comment №2__\n",
    "\n",
    "Correct implementation. Well done"
   ]
  },
  {
   "cell_type": "markdown",
   "metadata": {},
   "source": [
    "## General conclusion\n",
    "\n",
    "### Revenue\n",
    "\n",
    "The ultimate plan is the best for revenue. However, the surf plan is on the way to becoming the more profitable plan. This is due to surf plan user behaviour that shows that excess charges for calls, messages, and internet usage are all on the rise. Meanwhile, ultimate plan behavior is stagnant. In December, the difference in revenue between the two plans is almost negligible.\n",
    "\n",
    "\n",
    "### Hypothesis Tests\n",
    "\n",
    "- The mean revenue between ultimate and surf plan users is not the same. \n",
    "- The mean revenue between users in the NY-NJ area are not the same as those in other areas.\n",
    "\n",
    "### Assumptions:\n",
    "\n",
    "- User behavior will continue to behave as it has.\n",
    "- The sample data provided is a fair representation of the true population."
   ]
  },
  {
   "cell_type": "markdown",
   "metadata": {},
   "source": [
    "<div class=\"alert alert-block alert-warning\">📝\n",
    "    \n",
    "\n",
    "__Reviewer's comment №1__\n",
    "\n",
    "\n",
    "Please correct the final output after correcting your project"
   ]
  },
  {
   "cell_type": "markdown",
   "metadata": {},
   "source": [
    "<div class=\"alert alert-info\"> <b>Student сomments:</b> Unfortunately nothing has changed. See above comment. <div>"
   ]
  },
  {
   "cell_type": "markdown",
   "metadata": {},
   "source": [
    "<div class=\"alert alert-info\"> <b>Student сomments:</b> Side note: what version of python are we using? I have found that some arguments were deprecated using my personal notebook. For instance, barplots do not accept the argument 'ci' which has been deprecated since version v0.12.0. Instead, errorbar is now used. I know this is likely not your fault, but it would be great to fix these moving forward. Do you know who the right person to be to address this? I ask not only to make projects easier to complete, but for our understanding when we start our professional careers in tech. Cheers! <div>"
   ]
  },
  {
   "cell_type": "markdown",
   "metadata": {},
   "source": [
    "<div class=\"alert alert-block alert-success\">✔️\n",
    "    \n",
    "\n",
    "__Reviewer's comment №2__\n",
    "\n",
    "Thanks for the question, here are the library versions:\n",
    "\n",
    "\n",
    "    beautifulsoup4==4.9.3\n",
    "    matplotlib==3.3.4\n",
    "    nltk==3.6.1\n",
    "    numpy==1.20.1\n",
    "    pandas==1.2.4\n",
    "    plotly==5.4.0\n",
    "    psycopg2-binary==2.9.2\n",
    "    pymorphy2==0.9.1\n",
    "    pymorphy2-dicts==2.4.417127. 4579844\n",
    "    pymystem3==0.2.0\n",
    "    regex==2022.3.15\n",
    "    scikit-learn==0.24.1\n",
    "    scipy==1.8.0\n",
    "    seaborn==0.11.1\n",
    "    sqlalchemy==1.4.15\n",
    "    statsmodels==0.13.2"
   ]
  },
  {
   "cell_type": "markdown",
   "metadata": {},
   "source": []
  },
  {
   "cell_type": "markdown",
   "metadata": {},
   "source": [
    "<div class=\"alert alert-block alert-success\">✔️\n",
    "    \n",
    "\n",
    "__Reviewer's comment №2__\n",
    "\n",
    "\n",
    "Otherwise it's great😊. Your project is begging for github =)   \n",
    "    \n",
    "Congratulations on the successful completion of the project 😊👍\n",
    "And I wish you success in new works 😊"
   ]
  }
 ],
 "metadata": {
  "ExecuteTimeLog": [
   {
    "duration": 828,
    "start_time": "2021-11-16T09:21:11.304Z"
   },
   {
    "duration": 893,
    "start_time": "2021-11-16T09:21:17.728Z"
   },
   {
    "duration": 1150,
    "start_time": "2021-11-16T09:21:29.568Z"
   },
   {
    "duration": 3,
    "start_time": "2021-11-16T09:24:14.495Z"
   },
   {
    "duration": 120,
    "start_time": "2021-11-16T09:24:46.630Z"
   },
   {
    "duration": 3,
    "start_time": "2021-11-16T09:28:27.882Z"
   },
   {
    "duration": 4,
    "start_time": "2021-11-16T09:29:54.281Z"
   },
   {
    "duration": 3,
    "start_time": "2021-11-16T09:30:45.936Z"
   },
   {
    "duration": 4,
    "start_time": "2021-11-16T09:31:06.300Z"
   },
   {
    "duration": 113,
    "start_time": "2021-11-16T09:31:37.208Z"
   },
   {
    "duration": 143,
    "start_time": "2021-11-16T09:31:48.656Z"
   },
   {
    "duration": 98,
    "start_time": "2021-11-16T09:31:55.678Z"
   },
   {
    "duration": 3,
    "start_time": "2021-11-16T09:32:08.535Z"
   },
   {
    "duration": 111,
    "start_time": "2021-11-16T09:32:10.120Z"
   },
   {
    "duration": 3,
    "start_time": "2021-11-16T09:32:15.732Z"
   },
   {
    "duration": 4,
    "start_time": "2021-11-16T09:32:29.423Z"
   },
   {
    "duration": 3,
    "start_time": "2021-11-16T10:03:03.074Z"
   },
   {
    "duration": 3,
    "start_time": "2021-11-16T10:10:01.288Z"
   },
   {
    "duration": 3,
    "start_time": "2021-11-16T10:10:46.923Z"
   },
   {
    "duration": 121,
    "start_time": "2021-11-16T10:37:46.494Z"
   },
   {
    "duration": 125,
    "start_time": "2021-11-16T10:38:20.632Z"
   },
   {
    "duration": 112,
    "start_time": "2021-11-16T10:46:53.001Z"
   },
   {
    "duration": 110,
    "start_time": "2021-11-16T10:48:25.775Z"
   },
   {
    "duration": 3,
    "start_time": "2021-11-16T10:50:18.720Z"
   },
   {
    "duration": 4,
    "start_time": "2021-11-16T10:50:37.649Z"
   },
   {
    "duration": 2,
    "start_time": "2021-11-16T10:50:51.884Z"
   },
   {
    "duration": 3,
    "start_time": "2021-11-16T10:51:56.237Z"
   },
   {
    "duration": 101,
    "start_time": "2021-11-16T10:53:13.791Z"
   },
   {
    "duration": 3,
    "start_time": "2021-11-16T10:55:59.186Z"
   },
   {
    "duration": 3,
    "start_time": "2021-11-16T10:56:10.751Z"
   },
   {
    "duration": 3,
    "start_time": "2021-11-16T10:56:49.038Z"
   },
   {
    "duration": 3,
    "start_time": "2021-11-16T10:56:49.174Z"
   },
   {
    "duration": 4,
    "start_time": "2021-11-16T10:56:49.414Z"
   },
   {
    "duration": 3,
    "start_time": "2021-11-16T10:56:49.680Z"
   },
   {
    "duration": 3,
    "start_time": "2021-11-16T10:56:50.370Z"
   },
   {
    "duration": 114,
    "start_time": "2021-11-16T10:59:34.518Z"
   },
   {
    "duration": 3,
    "start_time": "2021-11-16T11:01:41.201Z"
   },
   {
    "duration": 116,
    "start_time": "2021-11-16T11:01:48.754Z"
   },
   {
    "duration": 3,
    "start_time": "2021-11-16T11:02:16.685Z"
   },
   {
    "duration": 3,
    "start_time": "2021-11-16T11:02:19.479Z"
   },
   {
    "duration": 3,
    "start_time": "2021-11-16T11:02:47.067Z"
   },
   {
    "duration": 3,
    "start_time": "2021-11-16T11:02:49.353Z"
   },
   {
    "duration": 3,
    "start_time": "2021-11-16T11:03:07.835Z"
   },
   {
    "duration": 3,
    "start_time": "2021-11-16T11:03:07.953Z"
   },
   {
    "duration": 112,
    "start_time": "2021-11-16T11:07:52.072Z"
   },
   {
    "duration": 187,
    "start_time": "2021-11-16T11:09:23.468Z"
   },
   {
    "duration": 4,
    "start_time": "2021-11-16T11:10:01.455Z"
   },
   {
    "duration": 3,
    "start_time": "2021-11-16T11:10:05.069Z"
   },
   {
    "duration": 4,
    "start_time": "2021-11-16T11:10:13.376Z"
   },
   {
    "duration": 3,
    "start_time": "2021-11-16T11:10:14.434Z"
   },
   {
    "duration": 3,
    "start_time": "2021-11-16T11:10:22.853Z"
   },
   {
    "duration": 4,
    "start_time": "2021-11-16T11:27:29.279Z"
   },
   {
    "duration": 4,
    "start_time": "2021-11-16T11:29:08.919Z"
   },
   {
    "duration": 118,
    "start_time": "2021-11-16T11:29:46.703Z"
   },
   {
    "duration": 437,
    "start_time": "2021-11-16T11:36:02.181Z"
   },
   {
    "duration": 157,
    "start_time": "2021-11-16T11:36:14.388Z"
   },
   {
    "duration": 207,
    "start_time": "2021-11-16T11:47:15.898Z"
   },
   {
    "duration": 3,
    "start_time": "2021-11-16T11:53:52.092Z"
   },
   {
    "duration": 3,
    "start_time": "2021-11-16T11:53:52.236Z"
   },
   {
    "duration": 3,
    "start_time": "2021-11-16T11:59:12.005Z"
   },
   {
    "duration": 112,
    "start_time": "2021-11-16T12:00:33.446Z"
   },
   {
    "duration": 3,
    "start_time": "2021-11-16T12:02:14.453Z"
   },
   {
    "duration": 3,
    "start_time": "2021-11-16T12:02:39.512Z"
   },
   {
    "duration": 106,
    "start_time": "2021-11-16T12:03:03.460Z"
   },
   {
    "duration": 3,
    "start_time": "2021-11-17T20:37:21.139Z"
   },
   {
    "duration": 3,
    "start_time": "2021-11-17T20:37:22.229Z"
   },
   {
    "duration": 3,
    "start_time": "2021-11-17T20:38:38.806Z"
   },
   {
    "duration": 3,
    "start_time": "2021-11-17T20:38:41.958Z"
   },
   {
    "duration": 3,
    "start_time": "2021-11-17T20:43:46.551Z"
   },
   {
    "duration": 4,
    "start_time": "2021-11-17T20:58:21.835Z"
   },
   {
    "duration": 3,
    "start_time": "2021-11-17T20:59:21.872Z"
   },
   {
    "duration": 4,
    "start_time": "2021-11-17T20:59:45.352Z"
   },
   {
    "duration": 4,
    "start_time": "2021-11-17T20:59:49.646Z"
   },
   {
    "duration": 159,
    "start_time": "2021-11-17T21:02:26.949Z"
   },
   {
    "duration": 3,
    "start_time": "2021-11-17T21:03:53.461Z"
   },
   {
    "duration": 3,
    "start_time": "2021-11-17T21:03:53.694Z"
   },
   {
    "duration": 3,
    "start_time": "2021-11-17T21:05:28.145Z"
   },
   {
    "duration": 116,
    "start_time": "2021-11-17T21:05:57.787Z"
   },
   {
    "duration": 3,
    "start_time": "2021-11-17T21:06:37.993Z"
   },
   {
    "duration": 3,
    "start_time": "2021-11-17T21:06:38.261Z"
   },
   {
    "duration": 3,
    "start_time": "2021-11-17T21:11:54.358Z"
   },
   {
    "duration": 3,
    "start_time": "2021-11-17T21:12:43.846Z"
   },
   {
    "duration": 4,
    "start_time": "2021-11-17T21:13:08.773Z"
   },
   {
    "duration": 3,
    "start_time": "2021-11-17T21:14:44.441Z"
   },
   {
    "duration": 3,
    "start_time": "2021-11-17T21:15:42.059Z"
   },
   {
    "duration": 4,
    "start_time": "2021-11-17T21:15:51.995Z"
   },
   {
    "duration": 3,
    "start_time": "2021-11-17T21:15:53.923Z"
   },
   {
    "duration": 3,
    "start_time": "2021-11-17T21:15:55.282Z"
   },
   {
    "duration": 3,
    "start_time": "2021-11-17T21:16:28.492Z"
   },
   {
    "duration": 3,
    "start_time": "2021-11-17T21:16:32.603Z"
   },
   {
    "duration": 3,
    "start_time": "2021-11-17T21:17:06.941Z"
   },
   {
    "duration": 98,
    "start_time": "2021-11-17T21:18:05.733Z"
   },
   {
    "duration": 4,
    "start_time": "2021-11-17T21:21:35.255Z"
   },
   {
    "duration": 3,
    "start_time": "2021-11-17T21:21:37.804Z"
   },
   {
    "duration": 4,
    "start_time": "2021-11-17T21:23:06.071Z"
   },
   {
    "duration": 3,
    "start_time": "2021-11-17T21:23:24.799Z"
   },
   {
    "duration": 3,
    "start_time": "2021-11-17T21:23:32.591Z"
   },
   {
    "duration": 98,
    "start_time": "2021-11-17T21:28:31.559Z"
   },
   {
    "duration": 3,
    "start_time": "2021-11-17T21:28:45.448Z"
   },
   {
    "duration": 3,
    "start_time": "2021-11-17T21:29:17.303Z"
   },
   {
    "duration": 3,
    "start_time": "2021-11-17T21:29:29.617Z"
   },
   {
    "duration": 3,
    "start_time": "2021-11-17T21:29:32.681Z"
   },
   {
    "duration": 3,
    "start_time": "2021-11-17T21:36:11.474Z"
   },
   {
    "duration": 3,
    "start_time": "2021-11-17T21:36:14.791Z"
   },
   {
    "duration": 3,
    "start_time": "2021-11-17T21:36:53.943Z"
   },
   {
    "duration": 3,
    "start_time": "2021-11-17T21:36:56.165Z"
   },
   {
    "duration": 4,
    "start_time": "2021-11-17T21:37:16.590Z"
   },
   {
    "duration": 3,
    "start_time": "2021-11-17T21:37:22.702Z"
   },
   {
    "duration": 4,
    "start_time": "2021-11-17T21:38:03.479Z"
   },
   {
    "duration": 3,
    "start_time": "2021-11-17T21:38:08.601Z"
   },
   {
    "duration": 3,
    "start_time": "2021-11-17T21:38:12.928Z"
   },
   {
    "duration": 3,
    "start_time": "2021-11-17T21:38:48.896Z"
   },
   {
    "duration": 2,
    "start_time": "2021-11-17T21:38:49.171Z"
   },
   {
    "duration": 4,
    "start_time": "2021-11-17T21:39:57.889Z"
   },
   {
    "duration": 3,
    "start_time": "2021-11-17T21:39:58.057Z"
   },
   {
    "duration": 3,
    "start_time": "2021-11-17T21:41:20.108Z"
   },
   {
    "duration": 3,
    "start_time": "2021-11-17T21:41:20.629Z"
   },
   {
    "duration": 3,
    "start_time": "2021-11-17T21:42:49.136Z"
   },
   {
    "duration": 3,
    "start_time": "2021-11-17T21:43:15.137Z"
   },
   {
    "duration": 4,
    "start_time": "2021-11-17T21:43:16.766Z"
   },
   {
    "duration": 4,
    "start_time": "2021-11-17T21:43:31.711Z"
   },
   {
    "duration": 3,
    "start_time": "2021-11-17T21:43:36.312Z"
   },
   {
    "duration": 4,
    "start_time": "2021-11-17T21:45:08.825Z"
   },
   {
    "duration": 4,
    "start_time": "2021-11-17T21:45:10.119Z"
   },
   {
    "duration": 4,
    "start_time": "2021-11-17T21:45:13.748Z"
   },
   {
    "duration": 3,
    "start_time": "2021-11-17T21:45:22.219Z"
   },
   {
    "duration": 3,
    "start_time": "2021-11-17T21:45:33.412Z"
   },
   {
    "duration": 2,
    "start_time": "2021-11-17T21:46:01.885Z"
   },
   {
    "duration": 3,
    "start_time": "2021-11-17T21:46:03.628Z"
   },
   {
    "duration": 107,
    "start_time": "2021-11-17T21:47:32.512Z"
   },
   {
    "duration": 103,
    "start_time": "2021-11-17T21:50:36.243Z"
   },
   {
    "duration": 3,
    "start_time": "2021-11-18T06:28:31.440Z"
   },
   {
    "duration": 3,
    "start_time": "2021-11-18T06:29:00.168Z"
   },
   {
    "duration": 3,
    "start_time": "2021-11-18T06:31:27.008Z"
   },
   {
    "duration": 2,
    "start_time": "2021-11-18T06:35:34.288Z"
   },
   {
    "duration": 2,
    "start_time": "2021-11-18T06:38:04.527Z"
   }
  ],
  "kernelspec": {
   "display_name": "Python 3 (ipykernel)",
   "language": "python",
   "name": "python3"
  },
  "language_info": {
   "codemirror_mode": {
    "name": "ipython",
    "version": 3
   },
   "file_extension": ".py",
   "mimetype": "text/x-python",
   "name": "python",
   "nbconvert_exporter": "python",
   "pygments_lexer": "ipython3",
   "version": "3.9.5"
  },
  "toc": {
   "base_numbering": 1,
   "nav_menu": {},
   "number_sections": true,
   "sideBar": true,
   "skip_h1_title": false,
   "title_cell": "Table of Contents",
   "title_sidebar": "Contents",
   "toc_cell": false,
   "toc_position": {
    "height": "calc(100% - 180px)",
    "left": "10px",
    "top": "150px",
    "width": "272px"
   },
   "toc_section_display": true,
   "toc_window_display": true
  }
 },
 "nbformat": 4,
 "nbformat_minor": 2
}
